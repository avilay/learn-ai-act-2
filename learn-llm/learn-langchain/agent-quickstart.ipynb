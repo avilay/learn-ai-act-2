{
 "cells": [
  {
   "cell_type": "code",
   "execution_count": 1,
   "metadata": {},
   "outputs": [],
   "source": [
    "from dotenv import load_dotenv"
   ]
  },
  {
   "cell_type": "code",
   "execution_count": 2,
   "metadata": {},
   "outputs": [
    {
     "data": {
      "text/plain": [
       "True"
      ]
     },
     "execution_count": 2,
     "metadata": {},
     "output_type": "execute_result"
    }
   ],
   "source": [
    "load_dotenv()"
   ]
  },
  {
   "cell_type": "code",
   "execution_count": 3,
   "metadata": {},
   "outputs": [],
   "source": [
    "from langchain.text_splitter import RecursiveCharacterTextSplitter\n",
    "from langchain_community.document_loaders import WebBaseLoader\n",
    "from langchain_community.vectorstores import FAISS\n",
    "from langchain_openai import OpenAIEmbeddings\n",
    "from langchain_community.tools.tavily_search import TavilySearchResults\n",
    "from langchain.tools.retriever import create_retriever_tool\n",
    "from langchain_openai import ChatOpenAI\n",
    "from langchain import hub\n",
    "from langchain.agents import create_openai_functions_agent\n",
    "from langchain_core.tracers.context import tracing_v2_enabled\n",
    "from langchain.agents import AgentExecutor"
   ]
  },
  {
   "cell_type": "code",
   "execution_count": 4,
   "metadata": {},
   "outputs": [],
   "source": [
    "search = TavilySearchResults()"
   ]
  },
  {
   "cell_type": "code",
   "execution_count": 5,
   "metadata": {},
   "outputs": [
    {
     "data": {
      "text/plain": [
       "'A search engine optimized for comprehensive, accurate, and trusted results. Useful for when you need to answer questions about current events. Input should be a search query.'"
      ]
     },
     "execution_count": 5,
     "metadata": {},
     "output_type": "execute_result"
    }
   ],
   "source": [
    "search.description"
   ]
  },
  {
   "cell_type": "code",
   "execution_count": 6,
   "metadata": {},
   "outputs": [],
   "source": [
    "loader = WebBaseLoader(\"https://docs.smith.langchain.com/overview\")\n",
    "docs = loader.load()"
   ]
  },
  {
   "cell_type": "code",
   "execution_count": 7,
   "metadata": {},
   "outputs": [],
   "source": [
    "doc_chunks = RecursiveCharacterTextSplitter(\n",
    "    chunk_size=1000, chunk_overlap=200\n",
    ").split_documents(docs)\n",
    "vector_db = FAISS.from_documents(doc_chunks, OpenAIEmbeddings())\n",
    "retriever = vector_db.as_retriever()"
   ]
  },
  {
   "cell_type": "code",
   "execution_count": 8,
   "metadata": {},
   "outputs": [
    {
     "name": "stdout",
     "output_type": "stream",
     "text": [
      "dataset uploading.Once we have a dataset, how can we use it to test changes to a prompt or chain? The most basic approach is to run the chain over the data points and visualize the outputs. Despite technological advancements, there still is no substitute for looking at outputs by eye. Currently, running the chain over the data points needs to be done client-side. The LangSmith client makes it easy to pull down a dataset and then run a chain over them, logging the results to a new project associated with the dataset. From there, you can review them. We've made it easy to assign feedback to runs and mark them as correct or incorrect directly in the web app, displaying aggregate statistics for each test project.We also make it easier to evaluate these runs. To that end, we've added a set of evaluators to the open-source LangChain library. These evaluators can be specified when initiating a test run and will evaluate the results once the test run completes. If we’re being honest, most of\n"
     ]
    }
   ],
   "source": [
    "print(retriever.get_relevant_documents(\"how to upload a dataset\")[0].page_content)"
   ]
  },
  {
   "cell_type": "code",
   "execution_count": 9,
   "metadata": {},
   "outputs": [
    {
     "data": {
      "text/plain": [
       "'Search for information about LangSmith. For any questions about LangSmith, you must use this tool!'"
      ]
     },
     "execution_count": 9,
     "metadata": {},
     "output_type": "execute_result"
    }
   ],
   "source": [
    "retriever_tool = create_retriever_tool(\n",
    "    retriever,\n",
    "    \"langsmith_search\",\n",
    "    \"Search for information about LangSmith. For any questions about LangSmith, you must use this tool!\",\n",
    ")\n",
    "retriever_tool.description"
   ]
  },
  {
   "cell_type": "code",
   "execution_count": 10,
   "metadata": {},
   "outputs": [],
   "source": [
    "llm = ChatOpenAI(model=\"gpt-3.5-turbo\", temperature=0)"
   ]
  },
  {
   "cell_type": "code",
   "execution_count": 11,
   "metadata": {},
   "outputs": [
    {
     "data": {
      "text/plain": [
       "[SystemMessagePromptTemplate(prompt=PromptTemplate(input_variables=[], template='You are a helpful assistant')),\n",
       " MessagesPlaceholder(variable_name='chat_history', optional=True),\n",
       " HumanMessagePromptTemplate(prompt=PromptTemplate(input_variables=['input'], template='{input}')),\n",
       " MessagesPlaceholder(variable_name='agent_scratchpad')]"
      ]
     },
     "execution_count": 11,
     "metadata": {},
     "output_type": "execute_result"
    }
   ],
   "source": [
    "prompt = hub.pull(\"hwchase17/openai-functions-agent\")\n",
    "prompt.messages"
   ]
  },
  {
   "cell_type": "markdown",
   "metadata": {},
   "source": [
    "```\n",
    "[\n",
    "    SystemMessagePromptTemplate(\n",
    "        prompt=PromptTemplate(\n",
    "            input_variables=[], \n",
    "            template='You are a helpful assistant'\n",
    "        )\n",
    "    ),\n",
    "    MessagesPlaceholder(\n",
    "        variable_name='chat_history', \n",
    "        optional=True\n",
    "    ),\n",
    "    HumanMessagePromptTemplate(\n",
    "        prompt=PromptTemplate(\n",
    "            input_variables=['input'], \n",
    "            template='{input}'\n",
    "        )\n",
    "    ),\n",
    "    MessagesPlaceholder(variable_name='agent_scratchpad')\n",
    " ]\n",
    "```"
   ]
  },
  {
   "cell_type": "code",
   "execution_count": 12,
   "metadata": {},
   "outputs": [],
   "source": [
    "agent = create_openai_functions_agent(llm, [search, retriever_tool], prompt)"
   ]
  },
  {
   "cell_type": "code",
   "execution_count": 13,
   "metadata": {},
   "outputs": [],
   "source": [
    "agent_executor = AgentExecutor(agent=agent, tools=[search, retriever_tool], verbose=True)  #type: ignore"
   ]
  },
  {
   "cell_type": "code",
   "execution_count": 14,
   "metadata": {},
   "outputs": [
    {
     "name": "stdout",
     "output_type": "stream",
     "text": [
      "\n",
      "\n",
      "\u001b[1m> Entering new AgentExecutor chain...\u001b[0m\n",
      "\u001b[32;1m\u001b[1;3mHello! How can I assist you today?\u001b[0m\n",
      "\n",
      "\u001b[1m> Finished chain.\u001b[0m\n"
     ]
    },
    {
     "data": {
      "text/plain": [
       "{'input': 'hi!', 'output': 'Hello! How can I assist you today?'}"
      ]
     },
     "execution_count": 14,
     "metadata": {},
     "output_type": "execute_result"
    }
   ],
   "source": [
    "agent_executor.invoke({\"input\": \"hi!\"})"
   ]
  },
  {
   "cell_type": "code",
   "execution_count": 15,
   "metadata": {},
   "outputs": [
    {
     "name": "stdout",
     "output_type": "stream",
     "text": [
      "\n",
      "\n",
      "\u001b[1m> Entering new AgentExecutor chain...\u001b[0m\n",
      "\u001b[32;1m\u001b[1;3m\n",
      "Invoking: `langsmith_search` with `{'query': 'LangSmith testing'}`\n",
      "\n",
      "\n",
      "\u001b[0m\u001b[33;1m\u001b[1;3mLangSmith Overview and User Guide | 🦜️🛠️ LangSmith\n",
      "\n",
      "applications can be expensive. LangSmith tracks the total token usage for a chain and the token usage of each step. This makes it easy to identify potentially costly parts of the chain.Collaborative debugging​In the past, sharing a faulty chain with a colleague for debugging was challenging when performed locally. With LangSmith, we've added a “Share” button that makes the chain and LLM runs accessible to anyone with the shared link.Collecting examples​Most of the time we go to debug, it's because something bad or unexpected outcome has happened in our application. These failures are valuable data points! By identifying how our chain can fail and monitoring these failures, we can test future chain versions against these known issues.Why is this so impactful? When building LLM applications, it’s often common to start without a dataset of any kind. This is part of the power of LLMs! They are amazing zero-shot learners, making it possible to get started as easily as possible. But this\n",
      "\n",
      "Skip to main content🦜️🛠️ LangSmith DocsPython DocsJS/TS DocsSearchGo to AppLangSmithOverviewTracingTesting & EvaluationOrganizationsHubLangSmith CookbookRelease NotesOverviewOn this pageLangSmith Overview and User GuideBuilding reliable LLM applications can be challenging. LangChain simplifies the initial setup, but there is still work needed to bring the performance of prompts, chains and agents up the level where they are reliable enough to be used in production.Over the past two months, we at LangChain have been building and using LangSmith with the goal of bridging this gap. This is our tactical user guide to outline effective ways to use LangSmith and maximize its benefits.On by default​At LangChain, all of us have LangSmith’s tracing running in the background by default. On the Python side, this is achieved by setting environment variables, which we establish whenever we launch a virtual environment or open our bash shell and leave them set. The same principle applies to most\n",
      "\n",
      "You can also quickly edit examples and add them to datasets to expand the surface area of your evaluation sets or to fine-tune a model for improved quality or reduced costs.Monitoring​After all this, your app might finally ready to go in production. LangSmith can also be used to monitor your application in much the same way that you used for debugging. You can log all traces, visualize latency and token usage statistics, and troubleshoot specific issues as they arise. Each run can also be assigned string tags or key-value metadata, allowing you to attach correlation ids or AB test variants, and filter runs accordingly.We’ve also made it possible to associate feedback programmatically with runs. This means that if your application has a thumbs up/down button on it, you can use that to log feedback back to LangSmith. This can be used to track performance over time and pinpoint under performing data points, which you can subsequently add to a dataset for future testing — mirroring the\u001b[0m\u001b[32;1m\u001b[1;3mLangSmith can help with testing in the following ways:\n",
      "\n",
      "1. Tracking Token Usage: LangSmith can track the total token usage for a chain and the token usage of each step. This makes it easy to identify potentially costly parts of the chain during testing.\n",
      "\n",
      "2. Collaborative Debugging: LangSmith provides a \"Share\" button that allows you to share a faulty chain with a colleague for debugging. This makes it easier to collaborate and troubleshoot issues during testing.\n",
      "\n",
      "3. Collecting Examples: When testing an application, failures and unexpected outcomes are valuable data points. LangSmith allows you to identify how the chain can fail and monitor these failures. You can then test future chain versions against these known issues.\n",
      "\n",
      "4. Monitoring: Once your application is ready for production, LangSmith can be used to monitor your application. You can log all traces, visualize latency and token usage statistics, and troubleshoot specific issues as they arise. You can also associate feedback programmatically with runs to track performance over time and pinpoint underperforming data points.\n",
      "\n",
      "Overall, LangSmith provides tools and features that can enhance the testing process and help ensure the reliability and performance of your applications.\u001b[0m\n",
      "\n",
      "\u001b[1m> Finished chain.\u001b[0m\n"
     ]
    },
    {
     "data": {
      "text/plain": [
       "{'input': 'how can langsmith help with testing?',\n",
       " 'output': 'LangSmith can help with testing in the following ways:\\n\\n1. Tracking Token Usage: LangSmith can track the total token usage for a chain and the token usage of each step. This makes it easy to identify potentially costly parts of the chain during testing.\\n\\n2. Collaborative Debugging: LangSmith provides a \"Share\" button that allows you to share a faulty chain with a colleague for debugging. This makes it easier to collaborate and troubleshoot issues during testing.\\n\\n3. Collecting Examples: When testing an application, failures and unexpected outcomes are valuable data points. LangSmith allows you to identify how the chain can fail and monitor these failures. You can then test future chain versions against these known issues.\\n\\n4. Monitoring: Once your application is ready for production, LangSmith can be used to monitor your application. You can log all traces, visualize latency and token usage statistics, and troubleshoot specific issues as they arise. You can also associate feedback programmatically with runs to track performance over time and pinpoint underperforming data points.\\n\\nOverall, LangSmith provides tools and features that can enhance the testing process and help ensure the reliability and performance of your applications.'}"
      ]
     },
     "execution_count": 15,
     "metadata": {},
     "output_type": "execute_result"
    }
   ],
   "source": [
    "agent_executor.invoke({\"input\": \"how can langsmith help with testing?\"})"
   ]
  },
  {
   "cell_type": "code",
   "execution_count": 16,
   "metadata": {},
   "outputs": [
    {
     "name": "stdout",
     "output_type": "stream",
     "text": [
      "\n",
      "\n",
      "\u001b[1m> Entering new AgentExecutor chain...\u001b[0m\n",
      "\u001b[32;1m\u001b[1;3m\n",
      "Invoking: `tavily_search_results_json` with `{'query': 'weather in San Francisco'}`\n",
      "\n",
      "\n",
      "\u001b[0m\u001b[36;1m\u001b[1;3m[{'url': 'https://www.sfexaminer.com/news/climate/san-francisco-weather-forecast-calls-for-strongest-2024-rain/article_75347810-bfc3-11ee-abf6-e74c528e0583.html', 'content': \"San Francisco is projected to receive 2.5 and 3 inches of rain, Clouser said, as well as gusts of wind up to 45 mph.  Bay Area starting Wednesday at 4 a.m. and a 24-hour wind advisory in San Francisco starting at the same time.  One of winter's 'stronger' storms to douse San Francisco  On the heels of record-breaking heat to open the week, heavy rain is slated to pound the Bay Area on Wednesday.Updated Feb 2, 2024 3.4 magnitude earthquake strikes near San Francisco Zoo Updated Feb 2, 2024 SF hopes to install 200 heat pumps in 200 days in at-risk homes Updated Feb 2, 2024 On the...\"}, {'url': 'https://www.cnn.com/2024/02/04/us/california-atmospheric-river-flooding/index.html', 'content': 'for much of coastal California, including San Francisco down through Los Angeles. Rainfall\\xa0rates up to an inch per hour  Sunday, eventually shifting to southern California into Sunday night, the National Weather Service said.  California, with over 10 inches possible in some areas, the prediction center cautioned.  feet “near impossible,” the weather service said.Updated 12:51 AM EST, Mon February 5, 2024 Link Copied! ... 02:06 Now playing ... the National Weather Service in San Francisco reported a landslide in the city. And in Santa Barbara more than 300 ...'}, {'url': 'https://www.nytimes.com/2024/02/05/us/san-francisco-wind-damage-storm.html', 'content': 'Advertisement Blustery Day Leads to Damage in the San Francisco Bay Area  The worst of the storm appeared to be over Sunday night in the San Francisco Bay Area, after rain drenched the region  Heather Knight reported from San Francisco, and Sam Mondros from Marin County, Calif.  In Marin County, winds approached 90 miles per hour on mountain tops and took down trees, power lines and structures.Feb. 5, 2024 Updated 11:10 a.m. ET. The worst of the storm appeared to be over Sunday night in the San Francisco Bay Area, after rain drenched the region and wind toppled trees throughout the day ...'}]\u001b[0m\u001b[32;1m\u001b[1;3mThe weather in San Francisco is currently experiencing heavy rain and strong winds. The city is projected to receive 2.5 to 3 inches of rain and gusts of wind up to 45 mph. There is a 24-hour wind advisory in effect. Please note that weather conditions can change rapidly, so it's always a good idea to check for the latest updates.\u001b[0m\n",
      "\n",
      "\u001b[1m> Finished chain.\u001b[0m\n"
     ]
    },
    {
     "data": {
      "text/plain": [
       "{'input': 'whats the weather in sf?',\n",
       " 'output': \"The weather in San Francisco is currently experiencing heavy rain and strong winds. The city is projected to receive 2.5 to 3 inches of rain and gusts of wind up to 45 mph. There is a 24-hour wind advisory in effect. Please note that weather conditions can change rapidly, so it's always a good idea to check for the latest updates.\"}"
      ]
     },
     "execution_count": 16,
     "metadata": {},
     "output_type": "execute_result"
    }
   ],
   "source": [
    "agent_executor.invoke({\"input\": \"whats the weather in sf?\"})"
   ]
  },
  {
   "cell_type": "code",
   "execution_count": 18,
   "metadata": {},
   "outputs": [
    {
     "name": "stdout",
     "output_type": "stream",
     "text": [
      "\n",
      "\n",
      "\u001b[1m> Entering new AgentExecutor chain...\u001b[0m\n",
      "\u001b[32;1m\u001b[1;3m\n",
      "Invoking: `tavily_search_results_json` with `{'query': 'Avilay Parekh'}`\n",
      "\n",
      "\n",
      "\u001b[0m\u001b[36;1m\u001b[1;3m[{'url': 'https://www.linkedin.com/in/avilay', 'content': \"I look forward to working with Avilay on other projects in the future!” Pranay Doshi  Avilay Parekh Sign in to view Avilay’s full profile Welcome back or  View Avilay’s full experience  View Avilay’s full profile Sign in Stay updated on your professional worldA cloud computing and machine learning expert who wants to build a world in which… | Learn more about Avilay Parekh's work experience, education,\\xa0...\"}, {'url': 'https://www.linkedin.com/posts/avilay_a-good-friend-of-mine-is-looking-for-opportunities-activity-7094464156149415936-P-02?trk=public_profile_like_view', 'content': 'Avilay Parekhâ€™s Post Machine Learning and Cloud Infrastructure  VP Engineering @ Productiv  Suresh is a great guy to work with. Great startup opportunity. DM me if you want more details. https://lnkd.in/gv8GkTP  Some more self-reflection during these trying times. And Happy Baisakhi! https://lnkd.in/gHgufmhA good friend of mine is looking for opportunities in the ML/Infra space. He has deep knowledge of GPU internals of PyTorch which make him\\xa0...'}, {'url': 'https://avilay.rocks/what-is-good-software-design/', 'content': 'What is Good Software Design Avilay Parekh Read more posts by this author.  of technology of a well known company that had just acquired a smaller company. Software architects working for her  More in From Wordpress 16 Feb 2015 – 2 min read 22 Oct 2013 – 3 min read 3 Jul 2013 – 5 min read  from Avilay Parekh Cloud Computing = ElasticityAt its core cloud computing is a business model innovation. TraditionalSep 1, 2012 — Sep 1, 2012Avilay Parekh · 1. Functional · 2. Robust · 3. Measurable · 4. Debuggable · 5. Maintainable · 6. Reusable · 7. Extensible'}, {'url': 'https://avilay.rocks/', 'content': 'My random thoughts Evolution of ML Infra  Battery Recharger  Portable Virtual Desktop  KPIs for a B2B SaaSMar 9, 2020 — Mar 9, 2020A search interface where I can draw what I am looking for and the search engine will find real world objects that match my drawing. Avilay\\xa0...'}]\u001b[0m\u001b[32;1m\u001b[1;3mI found some information about Avilay Parekh. Avilay Parekh is a cloud computing and machine learning expert. They have experience in building cloud infrastructure and have deep knowledge of GPU internals of PyTorch. Avilay has worked as a VP of Engineering at Productiv and has also written about software design and cloud computing on their personal blog. You can find more information about Avilay Parekh on their LinkedIn profile [here](https://www.linkedin.com/in/avilay) and their personal blog [here](https://avilay.rocks/).\u001b[0m\n",
      "\n",
      "\u001b[1m> Finished chain.\u001b[0m\n"
     ]
    }
   ],
   "source": [
    "with tracing_v2_enabled(project_name=\"Agent Quickstart\"):\n",
    "    agent_executor.invoke({\"input\": \"Who is Avilay Parekh?\"})"
   ]
  },
  {
   "cell_type": "code",
   "execution_count": 19,
   "metadata": {},
   "outputs": [
    {
     "name": "stdout",
     "output_type": "stream",
     "text": [
      "\n",
      "\n",
      "\u001b[1m> Entering new AgentExecutor chain...\u001b[0m\n",
      "\u001b[32;1m\u001b[1;3m\n",
      "Invoking: `tavily_search_results_json` with `{'query': 'Super Bowl winner 2021'}`\n",
      "\n",
      "\n",
      "\u001b[0m\u001b[36;1m\u001b[1;3m[{'url': 'https://www.cbsnews.com/news/super-bowl-winners-list-history/', 'content': 'Super Bowl 2024  Who won the 2023 Super Bowl last year?  third Super Bowl win.  49ers to see who will be crowned NFL champions for the 2023 season.54 minutes ago — 54 minutes ago2021: Tampa Bay Buccaneers — The Buccaneers dominated the Kansas City Chiefs in a 31-9 win, with Tom Brady, in his first season after leaving\\xa0...'}, {'url': 'https://blog.ticketmaster.com/super-bowl-winners/', 'content': 'Super Bowl LV — Tampa Bay Buccaneers  Super Bowl LIII — New England Patriots  Super Bowl LIV — Kansas City Chiefs  Super Bowl LVI — Los Angeles Rams8 hours ago — 8 hours agoFor Kansas City, quarterback Patrick Mahomes — who led the team to their first victory in five decades in 2021— lost by double digits for the\\xa0...'}, {'url': 'https://en.wikipedia.org/wiki/Super_Bowl_LV', 'content': 'Contents Super Bowl LV  Super Bowl.[10]  the defending Super Bowl LIV champions, seeking to become the first repeat champions since the Patriots in 2004.[11]  Super Bowl LIV in 2020. NFL team owners voted on these cities on May 24, 2016, with the first round of votingThe game was played on February 7, 2021, at Raymond James Stadium in Tampa, Florida, the home stadium of the Buccaneers, marking the first time a team played a\\xa0...'}]\u001b[0m\u001b[32;1m\u001b[1;3mThe Tampa Bay Buccaneers won the Super Bowl this year. They defeated the Kansas City Chiefs with a score of 31-9.\u001b[0m\n",
      "\n",
      "\u001b[1m> Finished chain.\u001b[0m\n"
     ]
    }
   ],
   "source": [
    "with tracing_v2_enabled(project_name=\"Agent Quickstart\"):\n",
    "    response = agent_executor.invoke({\"input\": \"Who won the Super Bowl this yaer?\"})"
   ]
  },
  {
   "cell_type": "code",
   "execution_count": 21,
   "metadata": {},
   "outputs": [
    {
     "name": "stdout",
     "output_type": "stream",
     "text": [
      "\n",
      "\n",
      "\u001b[1m> Entering new AgentExecutor chain...\u001b[0m\n",
      "\u001b[32;1m\u001b[1;3m\n",
      "Invoking: `tavily_search_results_json` with `{'query': 'Super Bowl winner 2021'}`\n",
      "\n",
      "\n",
      "\u001b[0m\u001b[36;1m\u001b[1;3m[{'url': 'https://www.cbsnews.com/news/super-bowl-winners-list-history/', 'content': 'Super Bowl 2024  Who won the 2023 Super Bowl last year?  third Super Bowl win.  49ers to see who will be crowned NFL champions for the 2023 season.55 minutes ago — 55 minutes ago2021: Tampa Bay Buccaneers — The Buccaneers dominated the Kansas City Chiefs in a 31-9 win, with Tom Brady, in his first season after leaving\\xa0...'}, {'url': 'https://blog.ticketmaster.com/super-bowl-winners/', 'content': 'Super Bowl LV — Tampa Bay Buccaneers  Super Bowl LIII — New England Patriots  Super Bowl LIV — Kansas City Chiefs  Super Bowl LVI — Los Angeles Rams8 hours ago — 8 hours agoFor Kansas City, quarterback Patrick Mahomes — who led the team to their first victory in five decades in 2021— lost by double digits for the\\xa0...'}, {'url': 'https://en.wikipedia.org/wiki/Super_Bowl_LV', 'content': 'Contents Super Bowl LV  Super Bowl.[10]  the defending Super Bowl LIV champions, seeking to become the first repeat champions since the Patriots in 2004.[11]  Super Bowl LIV in 2020. NFL team owners voted on these cities on May 24, 2016, with the first round of votingThe game was played on February 7, 2021, at Raymond James Stadium in Tampa, Florida, the home stadium of the Buccaneers, marking the first time a team played a\\xa0...'}]\u001b[0m\u001b[32;1m\u001b[1;3mThe Tampa Bay Buccaneers won the Super Bowl this year. They defeated the Kansas City Chiefs with a score of 31-9.\u001b[0m\n",
      "\n",
      "\u001b[1m> Finished chain.\u001b[0m\n"
     ]
    }
   ],
   "source": [
    "with tracing_v2_enabled(project_name=\"Agent Quickstart\"):\n",
    "    response = agent_executor.invoke({\"input\": \"Who won the Super Bowl this year?\"})"
   ]
  },
  {
   "cell_type": "code",
   "execution_count": null,
   "metadata": {},
   "outputs": [],
   "source": []
  }
 ],
 "metadata": {
  "kernelspec": {
   "display_name": "llm",
   "language": "python",
   "name": "python3"
  },
  "language_info": {
   "codemirror_mode": {
    "name": "ipython",
    "version": 3
   },
   "file_extension": ".py",
   "mimetype": "text/x-python",
   "name": "python",
   "nbconvert_exporter": "python",
   "pygments_lexer": "ipython3",
   "version": "3.11.7"
  }
 },
 "nbformat": 4,
 "nbformat_minor": 2
}
