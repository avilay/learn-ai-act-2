{
 "cells": [
  {
   "cell_type": "code",
   "execution_count": 29,
   "metadata": {},
   "outputs": [],
   "source": [
    "import os\n",
    "from pathlib import Path\n",
    "from typing import cast\n",
    "import numpy as np\n",
    "from dataclasses import dataclass\n",
    "import requests\n",
    "\n",
    "import shortuuid\n",
    "import torch as pt\n",
    "from dotenv import load_dotenv\n",
    "from llm_utils.md import chunk_md, md_to_text\n",
    "from pinecone import Pinecone, PodSpec, Index\n",
    "from sentence_transformers import SentenceTransformer"
   ]
  },
  {
   "cell_type": "code",
   "execution_count": 2,
   "metadata": {},
   "outputs": [
    {
     "data": {
      "text/plain": [
       "True"
      ]
     },
     "execution_count": 2,
     "metadata": {},
     "output_type": "execute_result"
    }
   ],
   "source": [
    "load_dotenv()"
   ]
  },
  {
   "cell_type": "code",
   "execution_count": 3,
   "metadata": {},
   "outputs": [],
   "source": [
    "device = \"cpu\"\n",
    "if pt.cuda.is_available():\n",
    "    device = \"cuda\"\n",
    "elif pt.backends.mps.is_available():\n",
    "    device = \"mps\"\n",
    "\n",
    "model = SentenceTransformer(\"all-MiniLM-L6-v2\", device=device)"
   ]
  },
  {
   "cell_type": "code",
   "execution_count": 4,
   "metadata": {},
   "outputs": [],
   "source": [
    "pc = Pinecone(api_key=os.environ[\"PINECONE_API_KEY\"])"
   ]
  },
  {
   "cell_type": "code",
   "execution_count": null,
   "metadata": {},
   "outputs": [],
   "source": [
    "spec = PodSpec(environment=\"gcp-starter\")\n",
    "pc.create_index(\n",
    "    name=\"my-notes\",\n",
    "    dimension=model.get_sentence_embedding_dimension(),\n",
    "    metric=\"cosine\",\n",
    "    spec=spec\n",
    ")"
   ]
  },
  {
   "cell_type": "code",
   "execution_count": 8,
   "metadata": {},
   "outputs": [],
   "source": [
    "index = cast(Index, pc.Index(\"my-notes\"))"
   ]
  },
  {
   "cell_type": "code",
   "execution_count": null,
   "metadata": {},
   "outputs": [],
   "source": [
    "NOTES_ROOT = Path.expanduser(Path(\"~/OneDrive/Documents/Notes\"))"
   ]
  },
  {
   "cell_type": "code",
   "execution_count": null,
   "metadata": {},
   "outputs": [],
   "source": [
    "# notespath = NOTES_ROOT/\"Journal\"\n",
    "# namespace = \"journal\"\n",
    "\n",
    "notespath = NOTES_ROOT/\"Useful Cmds\"\n",
    "namespace = \"usefulcmds\""
   ]
  },
  {
   "cell_type": "code",
   "execution_count": null,
   "metadata": {},
   "outputs": [],
   "source": [
    "# vectors = []\n",
    "# for md_file in md_to_text(notespath):\n",
    "#     vectors.append({\n",
    "#         \"id\": shortuuid.uuid()[:7],\n",
    "#         \"values\": model.encode(md_file.contents),\n",
    "#         \"metadata\": {\"filepath\": md_file.filepath}\n",
    "#     })"
   ]
  },
  {
   "cell_type": "code",
   "execution_count": null,
   "metadata": {},
   "outputs": [],
   "source": [
    "headers_to_split_on = [\n",
    "    (\"#\", \"Header 1\"),\n",
    "    (\"##\", \"Header 2\"),\n",
    "]\n",
    "\n",
    "chunk_size = 500\n",
    "chunk_overlap = 100\n",
    "\n",
    "md_docs = chunk_md(\n",
    "    in_dir=notespath, \n",
    "    headers_to_split_on=headers_to_split_on,\n",
    "    chunk_size=chunk_size,\n",
    "    chunk_overlap=chunk_overlap\n",
    ")"
   ]
  },
  {
   "cell_type": "code",
   "execution_count": null,
   "metadata": {},
   "outputs": [],
   "source": [
    "vectors = []\n",
    "for md_doc in md_docs:\n",
    "    id = shortuuid.uuid()[:7]\n",
    "    metadata = md_doc.metadata\n",
    "    metadata[\"contents\"] = md_doc.page_content\n",
    "    emb = model.encode(md_doc.page_content)\n",
    "    vector = {\n",
    "        \"id\": id,\n",
    "        \"metadata\": metadata,\n",
    "        \"values\": emb\n",
    "    }\n",
    "    vectors.append(vector)\n",
    "    if len(vectors) == 500:\n",
    "        print(f\"Uploading {len(vectors)} records.\")\n",
    "        index.upsert(vectors, namespace=namespace)\n",
    "        vectors = []\n",
    "if vectors:\n",
    "    print(f\"Uploading {len(vectors)} records.\")\n",
    "    index.upsert(vectors, namespace=namespace)"
   ]
  },
  {
   "cell_type": "code",
   "execution_count": null,
   "metadata": {},
   "outputs": [],
   "source": [
    "index.describe_index_stats()"
   ]
  },
  {
   "cell_type": "code",
   "execution_count": 23,
   "metadata": {},
   "outputs": [],
   "source": [
    "@dataclass\n",
    "class SearchMatch:\n",
    "    id: str\n",
    "    header_1: str\n",
    "    header_2: str\n",
    "    contents: str\n",
    "    file: str\n",
    "    score: float\n",
    "\n",
    "    def __repr__(self) -> str:\n",
    "        repr = f\"id: {self.id}\\n\"\n",
    "        repr += f\"score: {self.score:.4f}\\n\"\n",
    "        repr += f\"header_1: {self.header_1}\\n\"\n",
    "        repr += f\"header_2: {self.header_2}\\n\"\n",
    "        repr += f\"file: {self.file}\\n\"\n",
    "        repr += f\"contents:\\n{self.contents}\\n\"\n",
    "        return repr"
   ]
  },
  {
   "cell_type": "code",
   "execution_count": 24,
   "metadata": {},
   "outputs": [],
   "source": [
    "def semantic_search(query: str, query_ns: str) -> list[SearchMatch]:\n",
    "    query_emb = cast(np.ndarray, model.encode(query))\n",
    "    matches = index.query(\n",
    "        namespace=query_ns,\n",
    "        vector=query_emb.tolist(),\n",
    "        top_k=5,\n",
    "        include_metadata=True,\n",
    "        include_values=False\n",
    "    )\n",
    "    search_matches = []\n",
    "    for match in matches[\"matches\"]:\n",
    "        id = match[\"id\"]\n",
    "        header_1 = match[\"metadata\"][\"Header 1\"] if \"Header 1\" in match[\"metadata\"] else \"\"\n",
    "        header_2 = match[\"metadata\"][\"Header 2\"] if \"Header 2\" in match[\"metadata\"] else \"\"\n",
    "        contents = match[\"metadata\"][\"contents\"]\n",
    "        file = match[\"metadata\"][\"file\"]\n",
    "        score = match[\"score\"]\n",
    "        sm = SearchMatch(id, header_1, header_2, contents, file, score)\n",
    "        search_matches.append(sm)\n",
    "    return search_matches"
   ]
  },
  {
   "cell_type": "code",
   "execution_count": null,
   "metadata": {},
   "outputs": [
    {
     "name": "stdout",
     "output_type": "stream",
     "text": [
      "id: SEsX7xd\n",
      "score: 0.6878\n",
      "header_1: Conda\n",
      "header_2: Common Commands\n",
      "file: /Users/avilay/OneDrive/Documents/Notes/Useful Cmds/Conda.md\n",
      "contents:\n",
      "Conda\n",
      "Common Commands\n",
      "Create a new environment:  \n",
      "```\n",
      "conda create -n <env name> python=<ver> <pkg> <pkg>\n",
      "```  \n",
      "List all existing environments:  \n",
      "```\n",
      "conda info --envs\n",
      "```  \n",
      "Remove an environment and all its packages:  \n",
      "```\n",
      "conda remove -n <env name> --all\n",
      "```  \n",
      "List all packages installed in current environment:  \n",
      "```\n",
      "conda list\n",
      "```  \n",
      "Check if a specific package has been installed or not:  \n",
      "```\n",
      "conda list <pkg>\n",
      "```  \n",
      "Delete unused packages and caches:  \n",
      "```\n",
      "conda clean --all\n",
      "```  \n",
      "Install a package:  \n",
      "```\n",
      "\n",
      "id: nyTVpmS\n",
      "score: 0.6342\n",
      "header_1: Conda\n",
      "header_2: Conda Config\n",
      "file: /Users/avilay/OneDrive/Documents/Notes/Useful Cmds/Conda.md\n",
      "contents:\n",
      "Conda\n",
      "Conda Config\n",
      "To get the current configuration run `conda info`. Any time I change any of these default configs, conda will create a `~/.condarc` file. I can see the config filename as part of the `conda info` output.\n",
      "\n",
      "id: kYwsMwK\n",
      "score: 0.6166\n",
      "header_1: Conda\n",
      "header_2: Channels\n",
      "file: /Users/avilay/OneDrive/Documents/Notes/Useful Cmds/Conda.md\n",
      "contents:\n",
      "Conda\n",
      "Channels\n",
      "https://conda.anaconda.org/conda-forge/noarch\n",
      "```  \n",
      "Now I can see that the `.condarc` file has been created and it contains the following -  \n",
      "```\n",
      "channels:\n",
      "- defaults\n",
      "- conda-forge\n",
      "```\n",
      "\n",
      "id: ab5mfKy\n",
      "score: 0.5787\n",
      "header_1: Conda\n",
      "header_2: Common Commands\n",
      "file: /Users/avilay/OneDrive/Documents/Notes/Useful Cmds/Conda.md\n",
      "contents:\n",
      "Conda\n",
      "Common Commands\n",
      "```  \n",
      "Delete unused packages and caches:  \n",
      "```\n",
      "conda clean --all\n",
      "```  \n",
      "Install a package:  \n",
      "```\n",
      "conda install -c <channel> <pkg>\n",
      "conda install <pkg>=1.1.1\n",
      "conda install \"<pkg>>=1.1.1\"\n",
      "```\n",
      "\n",
      "id: GhxEMdp\n",
      "score: 0.5730\n",
      "header_1: Conda\n",
      "header_2: Channels\n",
      "file: /Users/avilay/OneDrive/Documents/Notes/Useful Cmds/Conda.md\n",
      "contents:\n",
      "Conda\n",
      "Channels\n",
      "Channels are simply \"artifactory\" or pypi for Python packages on Anaconda. There are some default channels that come pre-configured when I install Miniconda or Anaconda. They both have the same defaults. But I can add more channels if I want. The anaconda channel can also have private packages, so like a hosted artifactory. A package can be in multiple channels, conda will search and download them as per the priority list it maintains, that I can also change.  \n",
      "### conda-forge\n",
      "\n"
     ]
    }
   ],
   "source": [
    "matches = semantic_search(\"How to create a conda environment?\", \"usefulcmds\")\n",
    "for match in matches:\n",
    "    print(match)"
   ]
  },
  {
   "cell_type": "code",
   "execution_count": 52,
   "metadata": {},
   "outputs": [
    {
     "name": "stdout",
     "output_type": "stream",
     "text": [
      "id: 7yfcTU8\n",
      "score: 0.5876\n",
      "header_1: February 2016\n",
      "header_2: 2016-02-17: Startup Tactics\n",
      "file: /Users/avilay/OneDrive/Documents/Notes/Journal/2016-02.md\n",
      "contents:\n",
      "February 2016\n",
      "2016-02-17: Startup Tactics\n",
      "I should have a very convincing (to myself) answer of why I am getting into this. Initially I was in it to solve cool problems. That is totally the wrong reason to start my own startup. This might be a good reason to join an early stage startup. Doing my own startup involves so much more than solving cool problems, to the point where solving the cool problem is just a small part of running a startup. This also leads me to ignore a bunch of different opportunities because the problem space is\n",
      "\n",
      "id: PtrSsiJ\n",
      "score: 0.5218\n",
      "header_1: March 2012\n",
      "header_2: Preparing for Startup\n",
      "file: /Users/avilay/OneDrive/Documents/Notes/Journal/2012-03.md\n",
      "contents:\n",
      "March 2012\n",
      "Preparing for Startup\n",
      "There are two conflicting views that I have heard on the subject of when to leave - one is that I should have something up and running with paying customers before I leave, another is that the only way I can get something up and running is to leave. I think both these approaches are wrong. I should have my MVP(s) done. If it is a B2B product, have around $10,000 revenue per year. If it is B2C, have around 1000 active users. The exact numbers ($10K or 1000 users) can be tweaked. Staying in MS\n",
      "\n",
      "id: kgd4DrP\n",
      "score: 0.5139\n",
      "header_1: March 2012\n",
      "header_2: Preparing for Startup\n",
      "file: /Users/avilay/OneDrive/Documents/Notes/Journal/2012-03.md\n",
      "contents:\n",
      "March 2012\n",
      "Preparing for Startup\n",
      "1. Do not sweat     the exact idea too much, whatever I start with is not going to be what I end up with. --> Select 2 ideas - 1 B2B and another B2C. Data analytics and MementoMaker are two good candidates.\n",
      "2. It is not possible to do keep a full time job and work on a startup. Jump in.\n",
      "3. Get a mentor. Be targeted in finding the right mentor.\n",
      "4. Another option is to join a startup and start building a network.\n",
      "\n",
      "id: hWq4fPY\n",
      "score: 0.5033\n",
      "header_1: March 2012\n",
      "header_2: Preparing for Startup\n",
      "file: /Users/avilay/OneDrive/Documents/Notes/Journal/2012-03.md\n",
      "contents:\n",
      "March 2012\n",
      "Preparing for Startup\n",
      "It should have 1 or more end goals, tasks to help me get to these goals, dependencies within these tasks that help me sequence what I'll do next, and finally some timelines by which to do these tasks. It has been established that I will not get fast growth at MS, neither do I want to stick around. I am itching for something new again. So start up it is. When I met up with Brian I had the following 4 key takeaways -\n",
      "\n",
      "id: B7Xb4NQ\n",
      "score: 0.4862\n",
      "header_1: March 2012\n",
      "header_2: Preparing for Startup\n",
      "file: /Users/avilay/OneDrive/Documents/Notes/Journal/2012-03.md\n",
      "contents:\n",
      "March 2012\n",
      "Preparing for Startup\n",
      "Concrete steps and mindset  \n",
      "1. Stick to my current job at MS and work on it from 9AM to 6PM     (including gym time).\n",
      "2. Do not get distracted by all the cool things happening around me. Try to learn as much as I can by osmosis.\n",
      "3. Work on AppInsights and MementoMaker.\n",
      "4. Get plugged into the Seattle startup scene by attending meetups and coding workshops.\n",
      "5. Round up some CEOs and use AppInsights and MementoMaker as conversation starters.\n",
      "\n"
     ]
    }
   ],
   "source": [
    "query = \"Should I do another startup?\"\n",
    "matches = semantic_search(query, \"journal\")\n",
    "for match in matches:\n",
    "    print(match)"
   ]
  },
  {
   "cell_type": "code",
   "execution_count": 53,
   "metadata": {},
   "outputs": [],
   "source": [
    "rag_template = \"\"\"\n",
    "Context information from multiple sources is below.\n",
    "---------------------------------------------------\n",
    "{context}\n",
    "---------------------------------------------------\n",
    "Given the information from multiple sources and not prior knowledge, answer the query.\n",
    "Query: {query}\n",
    "Answer:\n",
    "\"\"\""
   ]
  },
  {
   "cell_type": "code",
   "execution_count": 54,
   "metadata": {},
   "outputs": [
    {
     "name": "stdout",
     "output_type": "stream",
     "text": [
      "February 2016\n",
      "2016-02-17: Startup Tactics\n",
      "I should have a very convincing (to myself) answer of why I am getting into this. Initially I was in it to solve cool problems. That is totally the wrong reason to start my own startup. This might be a good reason to join an early stage startup. Doing my own startup involves so much more than solving cool problems, to the point where solving the cool problem is just a small part of running a startup. This also leads me to ignore a bunch of different opportunities because the problem space is\n",
      "\n",
      "March 2012\n",
      "Preparing for Startup\n",
      "There are two conflicting views that I have heard on the subject of when to leave - one is that I should have something up and running with paying customers before I leave, another is that the only way I can get something up and running is to leave. I think both these approaches are wrong. I should have my MVP(s) done. If it is a B2B product, have around $10,000 revenue per year. If it is B2C, have around 1000 active users. The exact numbers ($10K or 1000 users) can be tweaked. Staying in MS\n",
      "\n",
      "March 2012\n",
      "Preparing for Startup\n",
      "1. Do not sweat     the exact idea too much, whatever I start with is not going to be what I end up with. --> Select 2 ideas - 1 B2B and another B2C. Data analytics and MementoMaker are two good candidates.\n",
      "2. It is not possible to do keep a full time job and work on a startup. Jump in.\n",
      "3. Get a mentor. Be targeted in finding the right mentor.\n",
      "4. Another option is to join a startup and start building a network.\n",
      "\n",
      "March 2012\n",
      "Preparing for Startup\n",
      "It should have 1 or more end goals, tasks to help me get to these goals, dependencies within these tasks that help me sequence what I'll do next, and finally some timelines by which to do these tasks. It has been established that I will not get fast growth at MS, neither do I want to stick around. I am itching for something new again. So start up it is. When I met up with Brian I had the following 4 key takeaways -\n",
      "\n",
      "March 2012\n",
      "Preparing for Startup\n",
      "Concrete steps and mindset  \n",
      "1. Stick to my current job at MS and work on it from 9AM to 6PM     (including gym time).\n",
      "2. Do not get distracted by all the cool things happening around me. Try to learn as much as I can by osmosis.\n",
      "3. Work on AppInsights and MementoMaker.\n",
      "4. Get plugged into the Seattle startup scene by attending meetups and coding workshops.\n",
      "5. Round up some CEOs and use AppInsights and MementoMaker as conversation starters.\n",
      "\n",
      "\n"
     ]
    }
   ],
   "source": [
    "context = \"\"\n",
    "for match in matches:\n",
    "    context += match.contents + \"\\n\\n\"\n",
    "print(context)"
   ]
  },
  {
   "cell_type": "code",
   "execution_count": 55,
   "metadata": {},
   "outputs": [
    {
     "name": "stdout",
     "output_type": "stream",
     "text": [
      "\n",
      "Context information from multiple sources is below.\n",
      "---------------------------------------------------\n",
      "February 2016\n",
      "2016-02-17: Startup Tactics\n",
      "I should have a very convincing (to myself) answer of why I am getting into this. Initially I was in it to solve cool problems. That is totally the wrong reason to start my own startup. This might be a good reason to join an early stage startup. Doing my own startup involves so much more than solving cool problems, to the point where solving the cool problem is just a small part of running a startup. This also leads me to ignore a bunch of different opportunities because the problem space is\n",
      "\n",
      "March 2012\n",
      "Preparing for Startup\n",
      "There are two conflicting views that I have heard on the subject of when to leave - one is that I should have something up and running with paying customers before I leave, another is that the only way I can get something up and running is to leave. I think both these approaches are wrong. I should have my MVP(s) done. If it is a B2B product, have around $10,000 revenue per year. If it is B2C, have around 1000 active users. The exact numbers ($10K or 1000 users) can be tweaked. Staying in MS\n",
      "\n",
      "March 2012\n",
      "Preparing for Startup\n",
      "1. Do not sweat     the exact idea too much, whatever I start with is not going to be what I end up with. --> Select 2 ideas - 1 B2B and another B2C. Data analytics and MementoMaker are two good candidates.\n",
      "2. It is not possible to do keep a full time job and work on a startup. Jump in.\n",
      "3. Get a mentor. Be targeted in finding the right mentor.\n",
      "4. Another option is to join a startup and start building a network.\n",
      "\n",
      "March 2012\n",
      "Preparing for Startup\n",
      "It should have 1 or more end goals, tasks to help me get to these goals, dependencies within these tasks that help me sequence what I'll do next, and finally some timelines by which to do these tasks. It has been established that I will not get fast growth at MS, neither do I want to stick around. I am itching for something new again. So start up it is. When I met up with Brian I had the following 4 key takeaways -\n",
      "\n",
      "March 2012\n",
      "Preparing for Startup\n",
      "Concrete steps and mindset  \n",
      "1. Stick to my current job at MS and work on it from 9AM to 6PM     (including gym time).\n",
      "2. Do not get distracted by all the cool things happening around me. Try to learn as much as I can by osmosis.\n",
      "3. Work on AppInsights and MementoMaker.\n",
      "4. Get plugged into the Seattle startup scene by attending meetups and coding workshops.\n",
      "5. Round up some CEOs and use AppInsights and MementoMaker as conversation starters.\n",
      "\n",
      "\n",
      "---------------------------------------------------\n",
      "Given the information from multiple sources and not prior knowledge, answer the query.\n",
      "Query: Should I do another startup?\n",
      "Answer:\n",
      "\n"
     ]
    }
   ],
   "source": [
    "prompt = rag_template.format(context=context, query=query)\n",
    "print(prompt)"
   ]
  },
  {
   "cell_type": "code",
   "execution_count": 56,
   "metadata": {},
   "outputs": [
    {
     "data": {
      "text/plain": [
       "200"
      ]
     },
     "execution_count": 56,
     "metadata": {},
     "output_type": "execute_result"
    }
   ],
   "source": [
    "resp = requests.post(\n",
    "    \"http://localhost:11434/api/generate\", \n",
    "    json={\n",
    "        \"model\": \"llama2\",\n",
    "        \"prompt\": prompt,\n",
    "        \"stream\": False\n",
    "    }\n",
    ")\n",
    "resp.status_code"
   ]
  },
  {
   "cell_type": "code",
   "execution_count": 57,
   "metadata": {},
   "outputs": [
    {
     "name": "stdout",
     "output_type": "stream",
     "text": [
      "Based on the information provided in the given context, it seems that you are considering starting a new startup after your previous experience with starting one. While there are various reasons to start a new startup, the main question is whether it is the right decision for you at this point in time.\n",
      "\n",
      "After analyzing the given information, I would advise you to take the following factors into consideration before making a decision:\n",
      "\n",
      "1. Reasoning behind starting a new startup: Reflect on your reasons for starting a new startup. Were they based on solving cool problems or was there another motivation? Identify if your reasons are still valid and if you have a clear vision for your next startup.\n",
      "2. Current situation at MS: Evaluate your current job and work environment at Microsoft. Are you happy with the work you're doing, and do you see potential for growth? Consider if leaving MS to start a new venture is necessary or if you can achieve your goals while still employed.\n",
      "3. End goals and tasks: Define your end goals and tasks for starting a new startup. Identify what you want to achieve and the steps required to get there. Ensure that these goals are realistic and achievable.\n",
      "4. Dependencies and timelines: Establish dependencies within your tasks and set realistic timelines. This will help you stay focused and ensure that you're making progress towards your end goals.\n",
      "5. Networking and learning: Consider the benefits of joining a startup or attending meetups and coding workshops to learn from the Seattle startup scene. Identify if these opportunities align with your goals and if they can help you achieve them faster.\n",
      "6. Personal circumstances: Take into account any personal circumstances that may impact your decision, such as family obligations or financial constraints. Ensure that starting a new startup is feasible based on your current situation.\n",
      "7. Risk tolerance: Startups involve inherent risks, so it's essential to evaluate if you're comfortable with taking those risks. Consider if you have enough resources and support to mitigate potential risks.\n",
      "8. Alternative options: Evaluate alternative options for achieving your goals, such as staying at MS or exploring other job opportunities within the industry. Identify if these options align better with your reasons for starting a new startup.\n",
      "\n",
      "Based on the information provided in the context, it seems that you have already identified some of these factors and are considering them when deciding whether to start another startup. I advise you to continue reflecting on these factors, weighing the pros and cons, and making an informed decision based on your personal circumstances and goals.\n"
     ]
    }
   ],
   "source": [
    "print(resp.json()[\"response\"])"
   ]
  },
  {
   "cell_type": "code",
   "execution_count": null,
   "metadata": {},
   "outputs": [],
   "source": []
  }
 ],
 "metadata": {
  "kernelspec": {
   "display_name": "Python 3 (ipykernel)",
   "language": "python",
   "name": "python3"
  },
  "language_info": {
   "codemirror_mode": {
    "name": "ipython",
    "version": 3
   },
   "file_extension": ".py",
   "mimetype": "text/x-python",
   "name": "python",
   "nbconvert_exporter": "python",
   "pygments_lexer": "ipython3",
   "version": "3.13.0"
  }
 },
 "nbformat": 4,
 "nbformat_minor": 4
}
