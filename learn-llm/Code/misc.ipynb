{
 "cells": [
  {
   "cell_type": "markdown",
   "metadata": {},
   "source": [
    "## What is \"soft\" in softmax?\n",
    "\n",
    "Lets say I have an array of numbers, lets call them keys, and another corresponding array, lets call them values. I want to select the value with the biggest key."
   ]
  },
  {
   "cell_type": "code",
   "execution_count": 1,
   "metadata": {},
   "outputs": [],
   "source": [
    "import numpy as np"
   ]
  },
  {
   "cell_type": "code",
   "execution_count": 2,
   "metadata": {},
   "outputs": [],
   "source": [
    "rng = np.random.default_rng()"
   ]
  },
  {
   "cell_type": "code",
   "execution_count": 3,
   "metadata": {},
   "outputs": [],
   "source": [
    "def softmax(xs):\n",
    "    return np.exp(xs) / np.sum(np.exp(xs))"
   ]
  },
  {
   "cell_type": "code",
   "execution_count": 13,
   "metadata": {},
   "outputs": [],
   "source": [
    "ks = np.array([4, 29, 2, 33, 49, 44, 21, 1, 90, 99])\n",
    "vs = np.array([49, 51, 97, 48, 77, 65, 57, 28, 67, 16])"
   ]
  },
  {
   "cell_type": "code",
   "execution_count": 14,
   "metadata": {},
   "outputs": [
    {
     "data": {
      "text/plain": [
       "16"
      ]
     },
     "execution_count": 14,
     "metadata": {},
     "output_type": "execute_result"
    }
   ],
   "source": [
    "v = vs[np.argmax(ks)]\n",
    "v"
   ]
  },
  {
   "cell_type": "markdown",
   "metadata": {},
   "source": [
    "But here $v$ is not differentiable because $argmax$ is not differentiable. If I wanted to use $v$ in any optimization function, I will not be able to do that. The way to get around this limitation is to use softmax.\n",
    "\n",
    "$$\n",
    "\\mathbf p = softmax(\\mathbf k) \\\\\n",
    "v = \\sum_i p_i v_i\n",
    "$$\n",
    "\n",
    "This is almost equivalent to -\n",
    "$$\n",
    "j = argmax(\\mathbf k) \\\\\n",
    "v = v_j \\\\\n",
    "$$\n",
    "\n",
    "Lets see this in action -"
   ]
  },
  {
   "cell_type": "code",
   "execution_count": 15,
   "metadata": {},
   "outputs": [
    {
     "data": {
      "text/plain": [
       "16.006293123375297"
      ]
     },
     "execution_count": 15,
     "metadata": {},
     "output_type": "execute_result"
    }
   ],
   "source": [
    "v = np.sum(softmax(ks) * vs)\n",
    "v"
   ]
  },
  {
   "cell_type": "code",
   "execution_count": null,
   "metadata": {},
   "outputs": [],
   "source": []
  }
 ],
 "metadata": {
  "kernelspec": {
   "display_name": "dev",
   "language": "python",
   "name": "python3"
  },
  "language_info": {
   "codemirror_mode": {
    "name": "ipython",
    "version": 3
   },
   "file_extension": ".py",
   "mimetype": "text/x-python",
   "name": "python",
   "nbconvert_exporter": "python",
   "pygments_lexer": "ipython3",
   "version": "3.11.5"
  }
 },
 "nbformat": 4,
 "nbformat_minor": 2
}
