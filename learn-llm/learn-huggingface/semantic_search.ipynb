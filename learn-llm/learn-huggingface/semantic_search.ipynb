{
 "cells": [
  {
   "cell_type": "code",
   "execution_count": 13,
   "metadata": {},
   "outputs": [],
   "source": [
    "from datasets import load_dataset\n",
    "from datasets import Dataset"
   ]
  },
  {
   "cell_type": "code",
   "execution_count": 2,
   "metadata": {},
   "outputs": [
    {
     "name": "stderr",
     "output_type": "stream",
     "text": [
      "/Users/avilay/miniconda3/envs/ai/lib/python3.12/site-packages/huggingface_hub/repocard.py:105: UserWarning: Repo card metadata block was not found. Setting CardData to empty.\n",
      "  warnings.warn(\"Repo card metadata block was not found. Setting CardData to empty.\")\n"
     ]
    },
    {
     "data": {
      "text/plain": [
       "Dataset({\n",
       "    features: ['url', 'repository_url', 'labels_url', 'comments_url', 'events_url', 'html_url', 'id', 'node_id', 'number', 'title', 'user', 'labels', 'state', 'locked', 'assignee', 'assignees', 'milestone', 'comments', 'created_at', 'updated_at', 'closed_at', 'author_association', 'active_lock_reason', 'pull_request', 'body', 'timeline_url', 'performed_via_github_app', 'is_pull_request'],\n",
       "    num_rows: 3019\n",
       "})"
      ]
     },
     "execution_count": 2,
     "metadata": {},
     "output_type": "execute_result"
    }
   ],
   "source": [
    "issues_ds = load_dataset(\"lewtun/github-issues\", split=\"train\")\n",
    "issues_ds"
   ]
  },
  {
   "cell_type": "code",
   "execution_count": 3,
   "metadata": {},
   "outputs": [
    {
     "data": {
      "text/plain": [
       "Dataset({\n",
       "    features: ['url', 'repository_url', 'labels_url', 'comments_url', 'events_url', 'html_url', 'id', 'node_id', 'number', 'title', 'user', 'labels', 'state', 'locked', 'assignee', 'assignees', 'milestone', 'comments', 'created_at', 'updated_at', 'closed_at', 'author_association', 'active_lock_reason', 'pull_request', 'body', 'timeline_url', 'performed_via_github_app', 'is_pull_request'],\n",
       "    num_rows: 808\n",
       "})"
      ]
     },
     "execution_count": 3,
     "metadata": {},
     "output_type": "execute_result"
    }
   ],
   "source": [
    "issues_ds = issues_ds.filter(\n",
    "    lambda x: (x[\"is_pull_request\"] == False and len(x[\"comments\"]) > 0)\n",
    ")\n",
    "issues_ds"
   ]
  },
  {
   "cell_type": "code",
   "execution_count": 4,
   "metadata": {},
   "outputs": [
    {
     "data": {
      "text/plain": [
       "Dataset({\n",
       "    features: ['html_url', 'title', 'comments', 'body'],\n",
       "    num_rows: 808\n",
       "})"
      ]
     },
     "execution_count": 4,
     "metadata": {},
     "output_type": "execute_result"
    }
   ],
   "source": [
    "columns = issues_ds.column_names\n",
    "columns_to_keep = [\"title\", \"body\", \"html_url\", \"comments\"]\n",
    "columns_to_remove = set(columns_to_keep).symmetric_difference(columns)\n",
    "issues_ds = issues_ds.remove_columns(columns_to_remove)\n",
    "issues_ds"
   ]
  },
  {
   "cell_type": "code",
   "execution_count": 5,
   "metadata": {},
   "outputs": [
    {
     "data": {
      "text/plain": [
       "{'html_url': 'https://github.com/huggingface/datasets/issues/2945',\n",
       " 'title': 'Protect master branch',\n",
       " 'comments': ['Cool, I think we can do both :)',\n",
       "  '@lhoestq now the 2 are implemented.\\r\\n\\r\\nPlease note that for the the second protection, finally I have chosen to protect the master branch only from **merge commits** (see update comment above), so no need to disable/re-enable the protection on each release (direct commits, different from merge commits, can be pushed to the remote master branch; and eventually reverted without messing up the repo history).'],\n",
       " 'body': 'After accidental merge commit (91c55355b634d0dc73350a7ddee1a6776dbbdd69) into `datasets` master branch, all commits present in the feature branch were permanently added to `datasets` master branch history, as e.g.:\\r\\n- 00cc036fea7c7745cfe722360036ed306796a3f2\\r\\n- 13ae8c98602bbad8197de3b9b425f4c78f582af1\\r\\n- ...\\r\\n\\r\\nI propose to protect our master branch, so that we avoid we can accidentally make this kind of mistakes in the future:\\r\\n- [x] For Pull Requests using GitHub, allow only squash merging, so that only a single commit per Pull Request is merged into the master branch\\r\\n  - Currently, simple merge commits are already disabled\\r\\n  - I propose to disable rebase merging as well\\r\\n- ~~Protect the master branch from direct pushes (to avoid accidentally pushing of merge commits)~~\\r\\n  - ~~This protection would reject direct pushes to master branch~~\\r\\n  - ~~If so, for each release (when we need to commit directly to the master branch), we should previously disable the protection and re-enable it again after the release~~\\r\\n- [x] Protect the master branch only from direct pushing of **merge commits**\\r\\n  - GitHub offers the possibility to protect the master branch only from merge commits (which are the ones that introduce all the commits from the feature branch into the master branch).\\r\\n  - No need to disable/re-enable this protection on each release \\r\\n\\r\\nThis purpose of this Issue is to open a discussion about this problem and to agree in a solution.'}"
      ]
     },
     "execution_count": 5,
     "metadata": {},
     "output_type": "execute_result"
    }
   ],
   "source": [
    "issues_ds[0]"
   ]
  },
  {
   "cell_type": "code",
   "execution_count": 7,
   "metadata": {},
   "outputs": [
    {
     "data": {
      "text/plain": [
       "2"
      ]
     },
     "execution_count": 7,
     "metadata": {},
     "output_type": "execute_result"
    }
   ],
   "source": [
    "len(issues_ds[0][\"comments\"])"
   ]
  },
  {
   "cell_type": "code",
   "execution_count": 8,
   "metadata": {},
   "outputs": [],
   "source": [
    "issues_ds.set_format(\"pandas\")\n",
    "df = issues_ds[:]"
   ]
  },
  {
   "cell_type": "code",
   "execution_count": 11,
   "metadata": {},
   "outputs": [
    {
     "data": {
      "text/plain": [
       "['Cool, I think we can do both :)',\n",
       " '@lhoestq now the 2 are implemented.\\r\\n\\r\\nPlease note that for the the second protection, finally I have chosen to protect the master branch only from **merge commits** (see update comment above), so no need to disable/re-enable the protection on each release (direct commits, different from merge commits, can be pushed to the remote master branch; and eventually reverted without messing up the repo history).']"
      ]
     },
     "execution_count": 11,
     "metadata": {},
     "output_type": "execute_result"
    }
   ],
   "source": [
    "df[\"comments\"][0].tolist()"
   ]
  },
  {
   "cell_type": "code",
   "execution_count": 12,
   "metadata": {},
   "outputs": [
    {
     "data": {
      "text/html": [
       "<div>\n",
       "<style scoped>\n",
       "    .dataframe tbody tr th:only-of-type {\n",
       "        vertical-align: middle;\n",
       "    }\n",
       "\n",
       "    .dataframe tbody tr th {\n",
       "        vertical-align: top;\n",
       "    }\n",
       "\n",
       "    .dataframe thead th {\n",
       "        text-align: right;\n",
       "    }\n",
       "</style>\n",
       "<table border=\"1\" class=\"dataframe\">\n",
       "  <thead>\n",
       "    <tr style=\"text-align: right;\">\n",
       "      <th></th>\n",
       "      <th>html_url</th>\n",
       "      <th>title</th>\n",
       "      <th>comments</th>\n",
       "      <th>body</th>\n",
       "    </tr>\n",
       "  </thead>\n",
       "  <tbody>\n",
       "    <tr>\n",
       "      <th>0</th>\n",
       "      <td>https://github.com/huggingface/datasets/issues...</td>\n",
       "      <td>Protect master branch</td>\n",
       "      <td>Cool, I think we can do both :)</td>\n",
       "      <td>After accidental merge commit (91c55355b634d0d...</td>\n",
       "    </tr>\n",
       "    <tr>\n",
       "      <th>1</th>\n",
       "      <td>https://github.com/huggingface/datasets/issues...</td>\n",
       "      <td>Protect master branch</td>\n",
       "      <td>@lhoestq now the 2 are implemented.\\r\\n\\r\\nPle...</td>\n",
       "      <td>After accidental merge commit (91c55355b634d0d...</td>\n",
       "    </tr>\n",
       "    <tr>\n",
       "      <th>2</th>\n",
       "      <td>https://github.com/huggingface/datasets/issues...</td>\n",
       "      <td>Backwards compatibility broken for cached data...</td>\n",
       "      <td>Hi ! I guess the caching mechanism should have...</td>\n",
       "      <td>## Describe the bug\\r\\nAfter upgrading to data...</td>\n",
       "    </tr>\n",
       "    <tr>\n",
       "      <th>3</th>\n",
       "      <td>https://github.com/huggingface/datasets/issues...</td>\n",
       "      <td>Backwards compatibility broken for cached data...</td>\n",
       "      <td>If it's easy enough to implement, then yes ple...</td>\n",
       "      <td>## Describe the bug\\r\\nAfter upgrading to data...</td>\n",
       "    </tr>\n",
       "  </tbody>\n",
       "</table>\n",
       "</div>"
      ],
      "text/plain": [
       "                                            html_url  \\\n",
       "0  https://github.com/huggingface/datasets/issues...   \n",
       "1  https://github.com/huggingface/datasets/issues...   \n",
       "2  https://github.com/huggingface/datasets/issues...   \n",
       "3  https://github.com/huggingface/datasets/issues...   \n",
       "\n",
       "                                               title  \\\n",
       "0                              Protect master branch   \n",
       "1                              Protect master branch   \n",
       "2  Backwards compatibility broken for cached data...   \n",
       "3  Backwards compatibility broken for cached data...   \n",
       "\n",
       "                                            comments  \\\n",
       "0                    Cool, I think we can do both :)   \n",
       "1  @lhoestq now the 2 are implemented.\\r\\n\\r\\nPle...   \n",
       "2  Hi ! I guess the caching mechanism should have...   \n",
       "3  If it's easy enough to implement, then yes ple...   \n",
       "\n",
       "                                                body  \n",
       "0  After accidental merge commit (91c55355b634d0d...  \n",
       "1  After accidental merge commit (91c55355b634d0d...  \n",
       "2  ## Describe the bug\\r\\nAfter upgrading to data...  \n",
       "3  ## Describe the bug\\r\\nAfter upgrading to data...  "
      ]
     },
     "execution_count": 12,
     "metadata": {},
     "output_type": "execute_result"
    }
   ],
   "source": [
    "comments_df = df.explode(\"comments\", ignore_index=True)\n",
    "comments_df.head(4)"
   ]
  },
  {
   "cell_type": "code",
   "execution_count": 18,
   "metadata": {},
   "outputs": [
    {
     "data": {
      "text/plain": [
       "Dataset({\n",
       "    features: ['html_url', 'title', 'comments', 'body'],\n",
       "    num_rows: 2964\n",
       "})"
      ]
     },
     "execution_count": 18,
     "metadata": {},
     "output_type": "execute_result"
    }
   ],
   "source": [
    "comments_ds = Dataset.from_pandas(comments_df)\n",
    "comments_ds"
   ]
  },
  {
   "cell_type": "code",
   "execution_count": 19,
   "metadata": {},
   "outputs": [
    {
     "data": {
      "text/plain": [
       "str"
      ]
     },
     "execution_count": 19,
     "metadata": {},
     "output_type": "execute_result"
    }
   ],
   "source": [
    "type(comments_ds[0][\"comments\"])"
   ]
  },
  {
   "cell_type": "code",
   "execution_count": 20,
   "metadata": {},
   "outputs": [
    {
     "data": {
      "application/vnd.jupyter.widget-view+json": {
       "model_id": "014bbc30cfb7459aa88e63dc77ec0577",
       "version_major": 2,
       "version_minor": 0
      },
      "text/plain": [
       "Map:   0%|          | 0/2964 [00:00<?, ? examples/s]"
      ]
     },
     "metadata": {},
     "output_type": "display_data"
    },
    {
     "data": {
      "application/vnd.jupyter.widget-view+json": {
       "model_id": "a9775f90124f428d9ff47283d292d88b",
       "version_major": 2,
       "version_minor": 0
      },
      "text/plain": [
       "Filter:   0%|          | 0/2964 [00:00<?, ? examples/s]"
      ]
     },
     "metadata": {},
     "output_type": "display_data"
    },
    {
     "data": {
      "text/plain": [
       "Dataset({\n",
       "    features: ['html_url', 'title', 'comments', 'body', 'comment_len'],\n",
       "    num_rows: 2175\n",
       "})"
      ]
     },
     "execution_count": 20,
     "metadata": {},
     "output_type": "execute_result"
    }
   ],
   "source": [
    "comments_ds = comments_ds.map(lambda x: {\"comment_len\": len(x[\"comments\"].split())})\n",
    "comments_ds = comments_ds.filter(lambda x: x[\"comment_len\"] > 15)\n",
    "comments_ds"
   ]
  },
  {
   "cell_type": "code",
   "execution_count": 22,
   "metadata": {},
   "outputs": [
    {
     "data": {
      "application/vnd.jupyter.widget-view+json": {
       "model_id": "96ce5324a8c14c15aa2541f1f89b850c",
       "version_major": 2,
       "version_minor": 0
      },
      "text/plain": [
       "Map:   0%|          | 0/2175 [00:00<?, ? examples/s]"
      ]
     },
     "metadata": {},
     "output_type": "display_data"
    },
    {
     "data": {
      "text/plain": [
       "Dataset({\n",
       "    features: ['html_url', 'title', 'comments', 'body', 'comment_len', 'text'],\n",
       "    num_rows: 2175\n",
       "})"
      ]
     },
     "execution_count": 22,
     "metadata": {},
     "output_type": "execute_result"
    }
   ],
   "source": [
    "def cat(x):\n",
    "    return {\n",
    "        \"text\": x[\"title\"] + \"\\n\" + x[\"body\"] + \"\\n\" + x[\"comments\"]\n",
    "    }\n",
    "\n",
    "comments_ds = comments_ds.map(cat)\n",
    "comments_ds"
   ]
  },
  {
   "cell_type": "code",
   "execution_count": 23,
   "metadata": {},
   "outputs": [],
   "source": [
    "from transformers import AutoTokenizer, AutoModel"
   ]
  },
  {
   "cell_type": "code",
   "execution_count": 25,
   "metadata": {},
   "outputs": [],
   "source": [
    "model_ckpt = \"sentence-transformers/multi-qa-mpnet-base-dot-v1\"\n",
    "tokenizer = AutoTokenizer.from_pretrained(model_ckpt)\n",
    "model = AutoModel.from_pretrained(model_ckpt)"
   ]
  },
  {
   "cell_type": "code",
   "execution_count": 26,
   "metadata": {},
   "outputs": [
    {
     "data": {
      "text/plain": [
       "MPNetModel(\n",
       "  (embeddings): MPNetEmbeddings(\n",
       "    (word_embeddings): Embedding(30527, 768, padding_idx=1)\n",
       "    (position_embeddings): Embedding(514, 768, padding_idx=1)\n",
       "    (LayerNorm): LayerNorm((768,), eps=1e-05, elementwise_affine=True)\n",
       "    (dropout): Dropout(p=0.1, inplace=False)\n",
       "  )\n",
       "  (encoder): MPNetEncoder(\n",
       "    (layer): ModuleList(\n",
       "      (0-11): 12 x MPNetLayer(\n",
       "        (attention): MPNetAttention(\n",
       "          (attn): MPNetSelfAttention(\n",
       "            (q): Linear(in_features=768, out_features=768, bias=True)\n",
       "            (k): Linear(in_features=768, out_features=768, bias=True)\n",
       "            (v): Linear(in_features=768, out_features=768, bias=True)\n",
       "            (o): Linear(in_features=768, out_features=768, bias=True)\n",
       "            (dropout): Dropout(p=0.1, inplace=False)\n",
       "          )\n",
       "          (LayerNorm): LayerNorm((768,), eps=1e-05, elementwise_affine=True)\n",
       "          (dropout): Dropout(p=0.1, inplace=False)\n",
       "        )\n",
       "        (intermediate): MPNetIntermediate(\n",
       "          (dense): Linear(in_features=768, out_features=3072, bias=True)\n",
       "          (intermediate_act_fn): GELUActivation()\n",
       "        )\n",
       "        (output): MPNetOutput(\n",
       "          (dense): Linear(in_features=3072, out_features=768, bias=True)\n",
       "          (LayerNorm): LayerNorm((768,), eps=1e-05, elementwise_affine=True)\n",
       "          (dropout): Dropout(p=0.1, inplace=False)\n",
       "        )\n",
       "      )\n",
       "    )\n",
       "    (relative_attention_bias): Embedding(32, 12)\n",
       "  )\n",
       "  (pooler): MPNetPooler(\n",
       "    (dense): Linear(in_features=768, out_features=768, bias=True)\n",
       "    (activation): Tanh()\n",
       "  )\n",
       ")"
      ]
     },
     "execution_count": 26,
     "metadata": {},
     "output_type": "execute_result"
    }
   ],
   "source": [
    "model"
   ]
  },
  {
   "cell_type": "code",
   "execution_count": 29,
   "metadata": {},
   "outputs": [
    {
     "data": {
      "text/plain": [
       "'Protect master branch'"
      ]
     },
     "execution_count": 29,
     "metadata": {},
     "output_type": "execute_result"
    }
   ],
   "source": [
    "comments_ds[0][\"title\"]"
   ]
  },
  {
   "cell_type": "code",
   "execution_count": 35,
   "metadata": {},
   "outputs": [
    {
     "data": {
      "text/plain": [
       "{'input_ids': tensor([[   0, 4051, 3044, 3593,    2]]), 'attention_mask': tensor([[1, 1, 1, 1, 1]])}"
      ]
     },
     "execution_count": 35,
     "metadata": {},
     "output_type": "execute_result"
    }
   ],
   "source": [
    "input = tokenizer(comments_ds[0][\"title\"], padding=True, truncation=True, return_tensors=\"pt\")\n",
    "input"
   ]
  },
  {
   "cell_type": "code",
   "execution_count": 46,
   "metadata": {},
   "outputs": [
    {
     "data": {
      "text/plain": [
       "'<s> protect master branch </s>'"
      ]
     },
     "execution_count": 46,
     "metadata": {},
     "output_type": "execute_result"
    }
   ],
   "source": [
    "tokenizer.decode(input[\"input_ids\"].squeeze())"
   ]
  },
  {
   "cell_type": "code",
   "execution_count": 40,
   "metadata": {},
   "outputs": [
    {
     "data": {
      "text/plain": [
       "BaseModelOutputWithPooling(last_hidden_state=tensor([[[-0.1652, -0.3874, -0.2802,  ..., -0.0648, -0.0930, -0.1708],\n",
       "         [-0.0116,  0.0443, -0.2461,  ..., -0.1197, -0.0159, -0.1503],\n",
       "         [-0.0918, -0.0714, -0.2280,  ..., -0.1481,  0.0234, -0.0936],\n",
       "         [-0.0452, -0.2429, -0.2649,  ..., -0.1260,  0.0675, -0.0753],\n",
       "         [-0.1162, -0.2402, -0.2831,  ..., -0.1805, -0.0239, -0.2220]]],\n",
       "       grad_fn=<NativeLayerNormBackward0>), pooler_output=tensor([[-1.0269e-01,  1.5401e-01,  4.0680e-02, -2.4256e-01, -2.3250e-01,\n",
       "         -1.0266e-01,  3.5946e-02,  9.6521e-02, -1.7180e-01, -6.3049e-02,\n",
       "          3.8489e-02, -2.6652e-01,  1.3987e-01,  7.9973e-02, -4.9818e-02,\n",
       "         -1.0918e-01,  1.6311e-03,  1.3704e-01,  5.5705e-02, -1.3963e-01,\n",
       "         -8.5225e-03, -1.1314e-01, -3.4650e-02,  1.5067e-02,  1.8766e-02,\n",
       "          1.9006e-01, -1.2701e-01,  1.5054e-02,  2.6048e-01,  1.7298e-02,\n",
       "          1.8773e-02, -1.5541e-01,  1.0155e-01,  8.8125e-02,  4.5931e-02,\n",
       "          1.4480e-01, -4.4784e-01, -4.8788e-02, -1.9080e-01,  4.0174e-02,\n",
       "         -2.4095e-01, -1.3943e-01, -1.1673e-01, -5.3517e-02, -8.7933e-02,\n",
       "          2.7117e-01, -4.6085e-02, -7.4861e-02,  1.6959e-01,  1.3888e-01,\n",
       "         -6.0176e-02, -1.9608e-02, -8.2113e-02, -1.8711e-01,  1.4636e-01,\n",
       "          1.8631e-02, -8.9780e-02, -8.7814e-02,  9.7186e-02, -8.8214e-02,\n",
       "         -9.2149e-02,  1.8281e-01,  8.6400e-02, -1.8387e-01, -1.9808e-01,\n",
       "         -8.0754e-02, -1.6020e-04,  9.4873e-02,  1.3841e-01,  9.5504e-02,\n",
       "          3.9695e-02,  2.4166e-01, -1.0147e-02,  2.2694e-01,  1.4714e-01,\n",
       "          1.6806e-01, -1.0957e-02,  5.0302e-02, -1.6094e-01,  2.0412e-01,\n",
       "          2.8689e-02, -2.7696e-02,  2.7700e-02, -1.1172e-02,  3.5743e-02,\n",
       "          2.2102e-01,  2.1910e-01,  1.4850e-02,  1.5645e-01,  4.1825e-02,\n",
       "          2.8592e-01, -1.0516e-02,  8.2396e-04,  9.5975e-02,  6.8240e-02,\n",
       "         -2.1000e-02,  1.4424e-01, -1.3866e-01,  4.1820e-02,  1.5463e-01,\n",
       "          6.3480e-02, -4.7021e-02, -5.6779e-02,  7.2103e-02,  2.0408e-01,\n",
       "         -4.6028e-02, -1.0882e-01, -4.7060e-02,  4.8687e-02, -2.0637e-01,\n",
       "          1.7809e-01, -1.9567e-01, -6.8667e-02,  1.3884e-01,  7.5220e-02,\n",
       "         -2.3228e-01, -1.6725e-01, -8.4491e-02, -7.3954e-03, -2.4079e-02,\n",
       "         -5.0092e-02, -2.2196e-01, -2.1588e-01,  9.9473e-02, -7.8877e-02,\n",
       "          1.2950e-01, -2.3751e-01, -2.1233e-01, -8.9697e-02, -2.9916e-01,\n",
       "          1.2247e-01,  1.6109e-02,  2.2633e-02, -1.3091e-02,  1.1383e-01,\n",
       "          3.4497e-02, -1.1518e-01, -1.9164e-02, -7.4669e-02, -1.1022e-01,\n",
       "         -4.0996e-02, -4.3104e-02, -2.4874e-01, -1.2645e-01,  8.3169e-03,\n",
       "          4.4605e-02,  2.0487e-01,  1.7440e-02, -2.1654e-02,  7.3128e-02,\n",
       "         -6.7099e-02, -1.3735e-02, -1.2709e-03,  1.9014e-01,  7.7839e-02,\n",
       "         -2.3939e-01, -1.0078e-01,  4.2843e-02,  9.5546e-02, -1.0889e-02,\n",
       "          8.2292e-02, -3.4632e-02,  1.5857e-01, -3.3008e-02,  8.0203e-02,\n",
       "          2.0446e-02,  1.6183e-02, -6.6562e-02,  7.3157e-02, -2.0265e-02,\n",
       "          2.0483e-01, -2.1700e-02,  1.0252e-01,  7.2915e-02,  8.6103e-02,\n",
       "         -2.9371e-02,  2.5656e-01,  3.0722e-02,  6.1205e-02,  1.3776e-01,\n",
       "         -1.3980e-01, -1.5819e-01, -1.3749e-01,  3.1000e-02, -9.7082e-02,\n",
       "         -2.8065e-01, -8.9762e-02,  1.5902e-01,  2.5277e-03,  9.3093e-02,\n",
       "         -1.2487e-01, -7.1000e-02, -2.5112e-02, -1.1929e-01,  8.9457e-02,\n",
       "         -2.4354e-01, -1.1849e-02,  1.3449e-01, -2.3727e-02,  4.6025e-02,\n",
       "          8.0228e-03, -8.8459e-02,  1.0376e-01, -1.4529e-01, -6.6200e-02,\n",
       "         -1.1132e-02,  1.6585e-01,  1.0584e-01, -1.1703e-01,  1.5488e-01,\n",
       "         -1.1267e-02, -1.2721e-01,  9.2223e-02,  1.2856e-01,  4.1978e-03,\n",
       "         -1.8175e-01,  1.2981e-01,  1.5305e-02,  2.7248e-02, -5.6616e-02,\n",
       "          1.8991e-01, -3.2788e-01,  9.8877e-02,  1.3227e-01, -1.5519e-01,\n",
       "          2.2738e-01,  1.2828e-01, -1.8017e-01,  7.2280e-02,  2.2176e-01,\n",
       "          1.1398e-01, -9.4867e-03,  7.0088e-02,  1.0372e-01, -2.4782e-02,\n",
       "         -2.2935e-01, -2.8112e-01, -9.9312e-02,  1.3056e-03, -1.6826e-01,\n",
       "          2.0303e-02,  1.2791e-01, -2.1606e-01, -3.6112e-02, -1.6743e-01,\n",
       "         -1.4027e-01, -3.0899e-02,  9.0590e-02,  4.4448e-02,  1.7354e-01,\n",
       "          7.1692e-02, -2.2164e-01,  2.0489e-01, -5.7782e-02,  1.3133e-02,\n",
       "         -1.6599e-02,  3.0510e-02, -2.7999e-02,  5.2388e-02, -2.4395e-02,\n",
       "          1.3147e-01, -6.9279e-02, -2.1826e-01,  1.3533e-01,  1.1351e-01,\n",
       "          1.4032e-01,  1.7220e-01, -7.1052e-02, -6.1490e-02, -1.7027e-01,\n",
       "         -5.1771e-02, -2.4134e-01,  1.0458e-01,  1.4262e-01,  2.0945e-02,\n",
       "          1.0795e-01,  2.6398e-01, -5.4204e-03, -2.1380e-02, -3.4215e-02,\n",
       "          1.5135e-01, -1.9114e-01,  4.6841e-02,  2.2738e-01,  7.3646e-02,\n",
       "          6.7787e-02,  1.6628e-01, -1.6798e-01, -1.1343e-01, -5.7484e-02,\n",
       "         -9.9240e-02, -1.7189e-01,  1.8407e-01, -3.5260e-02, -8.8396e-02,\n",
       "         -1.1161e-01,  7.0473e-02, -2.3906e-01, -6.5815e-02,  1.7208e-01,\n",
       "          2.1361e-02, -2.0270e-01,  2.3772e-01,  1.3475e-01,  5.8695e-02,\n",
       "         -1.8225e-01, -2.2177e-01, -2.8215e-02,  1.3483e-01, -1.5739e-02,\n",
       "          9.6194e-02,  4.0754e-02, -5.8231e-02,  1.8488e-01,  7.8463e-02,\n",
       "          1.0846e-01, -5.6551e-02, -8.0373e-02, -1.2954e-01, -3.0087e-01,\n",
       "         -1.6743e-01,  4.5691e-02, -1.7604e-02,  1.0051e-02, -1.1280e-01,\n",
       "          2.3736e-01, -1.7893e-01, -1.4662e-01, -1.3617e-01, -6.2206e-02,\n",
       "          8.7227e-02, -1.8401e-01, -2.6202e-03,  8.1928e-02,  6.9604e-02,\n",
       "         -1.3067e-01,  2.4004e-01,  9.7414e-02, -1.8293e-01,  3.0074e-01,\n",
       "         -1.7670e-02,  3.7823e-02,  5.1735e-02,  1.3758e-01, -8.9844e-02,\n",
       "         -8.5674e-02,  9.9512e-02,  9.8432e-04,  7.4782e-02, -9.1291e-02,\n",
       "          8.7829e-02,  7.5666e-02,  1.5555e-01, -2.7404e-02, -1.4012e-01,\n",
       "         -7.3511e-02, -3.4454e-02, -3.3100e-02, -1.5113e-01, -1.1194e-01,\n",
       "          5.5650e-02, -1.3804e-03,  1.1635e-01,  2.1238e-01, -2.7220e-01,\n",
       "          1.4227e-02,  4.6851e-02,  9.2704e-02, -7.5819e-02,  4.7488e-02,\n",
       "         -1.4539e-01, -5.6301e-02,  1.8598e-01, -1.3352e-01, -5.7633e-02,\n",
       "          1.4847e-01,  1.3503e-01, -9.3876e-02, -2.4217e-01, -1.9202e-01,\n",
       "          4.3066e-02,  4.3617e-02,  1.1194e-01, -5.1626e-02, -5.2411e-02,\n",
       "         -6.4295e-03,  5.4601e-02,  7.9788e-03,  8.1526e-02, -1.8099e-01,\n",
       "          1.7315e-01,  2.7678e-01, -2.3662e-02, -2.3675e-01,  8.0286e-02,\n",
       "          2.9782e-01,  6.7085e-02,  3.3632e-01,  9.5714e-02,  7.5658e-03,\n",
       "          2.9624e-01,  1.4478e-01,  3.7248e-02, -1.4539e-01,  1.4784e-01,\n",
       "          1.2383e-01, -5.3374e-02,  8.8814e-02,  1.3757e-01, -1.9888e-01,\n",
       "         -5.4855e-02, -1.2518e-01, -5.1383e-02, -1.0316e-01, -4.5354e-02,\n",
       "         -2.7840e-02,  1.4589e-02,  1.1742e-01,  8.6346e-02, -5.6202e-02,\n",
       "         -4.1316e-02,  7.8630e-02, -6.5073e-02, -2.0288e-02,  7.1649e-02,\n",
       "         -4.9825e-02,  1.3807e-01,  1.9845e-03, -1.5718e-01, -1.5549e-01,\n",
       "          1.7795e-01,  1.1681e-02,  9.1813e-03, -7.4851e-02, -1.1406e-01,\n",
       "         -1.4199e-02,  9.6121e-02,  8.0628e-03,  1.8497e-01, -8.9477e-02,\n",
       "         -1.9112e-01, -5.4675e-03,  7.6079e-02,  3.0119e-01,  5.9097e-02,\n",
       "         -4.7482e-02, -8.7404e-02, -2.0915e-03,  7.2124e-02,  2.0773e-03,\n",
       "         -9.7634e-02,  1.1935e-01, -5.3117e-03, -1.3457e-01,  1.2308e-01,\n",
       "          9.7161e-02,  1.0612e-01, -1.6445e-01,  6.3529e-02,  3.4369e-02,\n",
       "          6.6758e-02, -1.3901e-01, -5.6393e-02, -1.7560e-01, -4.1194e-02,\n",
       "          1.1013e-01,  1.7044e-01, -1.4839e-01, -3.3722e-02, -3.1290e-03,\n",
       "          8.7651e-02,  1.2206e-01,  6.4872e-02, -5.8665e-02, -1.3543e-01,\n",
       "         -1.3601e-01,  4.2124e-03, -7.4165e-02,  1.7151e-01, -9.0506e-03,\n",
       "         -1.6977e-01,  2.5761e-02,  9.3889e-02,  2.1051e-01,  5.2974e-02,\n",
       "         -3.0581e-02, -4.2041e-02, -3.4234e-01,  3.7434e-02, -2.5028e-02,\n",
       "         -8.1794e-02, -4.6869e-02, -4.4890e-02, -2.1618e-01,  2.1280e-01,\n",
       "          2.0865e-01,  5.5531e-02, -4.2959e-02,  2.1070e-01,  3.4516e-01,\n",
       "         -1.5331e-01, -1.0477e-01,  3.7165e-02, -1.3624e-01,  7.8424e-02,\n",
       "          1.1701e-01,  1.2747e-01,  1.2348e-01, -1.7936e-01,  1.2482e-01,\n",
       "          4.6784e-02, -5.9035e-03, -1.6670e-01, -2.5445e-01, -5.8990e-02,\n",
       "          6.3336e-02,  8.9541e-02,  6.1981e-02, -2.6500e-02, -6.4506e-02,\n",
       "         -8.5958e-02, -1.4516e-02, -5.0482e-02, -8.5015e-03,  1.1011e-01,\n",
       "         -7.9510e-02,  1.9140e-02,  8.1605e-02,  3.5826e-02, -3.9888e-02,\n",
       "          3.0206e-02, -5.2217e-02, -8.1661e-02, -6.4540e-03,  3.5242e-02,\n",
       "         -8.9504e-02, -2.5622e-02,  1.7034e-01,  9.2888e-03,  3.9020e-02,\n",
       "          1.3080e-01,  8.7219e-02,  1.1683e-02,  2.9250e-02,  5.2699e-02,\n",
       "          8.9875e-04,  7.4838e-02, -2.3442e-01, -6.9520e-02,  3.1818e-02,\n",
       "          1.7468e-02,  1.4631e-03, -5.5375e-02,  9.0737e-02,  5.8818e-02,\n",
       "          2.3602e-02,  1.0539e-01,  1.5585e-01, -1.7638e-01,  8.6387e-02,\n",
       "         -1.8138e-01, -5.8370e-02, -9.3522e-02,  1.5402e-01,  1.1299e-01,\n",
       "          6.3756e-02, -1.5225e-01,  5.2231e-02, -1.7065e-01, -1.0675e-01,\n",
       "          7.7224e-02, -6.6905e-02,  2.9133e-01, -1.2019e-02, -2.9560e-02,\n",
       "          5.3227e-02,  1.0474e-01,  2.2960e-02, -1.5118e-01,  6.3445e-02,\n",
       "          2.1077e-02,  2.4784e-02,  1.2374e-01, -1.8029e-01,  6.4894e-02,\n",
       "          8.0863e-02,  1.0790e-01,  1.4751e-02,  9.8729e-02,  3.8131e-02,\n",
       "          3.8393e-02,  1.0803e-01,  1.9703e-01,  2.1363e-01,  1.3218e-02,\n",
       "         -1.0006e-01, -4.6663e-02, -1.7119e-01, -4.7516e-02, -4.0710e-02,\n",
       "          1.2451e-01,  1.9254e-02,  1.9844e-01, -1.9881e-01,  6.0883e-03,\n",
       "          1.0726e-01,  5.1357e-02,  2.8598e-03, -2.1686e-01, -1.2971e-01,\n",
       "         -6.7763e-04,  1.7041e-01, -1.5203e-01, -6.4492e-02,  3.1229e-01,\n",
       "         -3.5143e-02,  1.2049e-02,  2.3385e-01,  5.0950e-02,  8.4161e-02,\n",
       "         -6.7454e-02, -2.1069e-01, -9.9028e-02, -1.0597e-02, -1.0714e-01,\n",
       "          2.6788e-01,  2.5339e-02, -8.8264e-02, -8.8115e-02,  7.2135e-02,\n",
       "         -2.7382e-02,  2.0463e-01,  2.3181e-01, -2.2792e-01, -1.3502e-01,\n",
       "         -3.9955e-01, -6.2000e-02, -2.3934e-01, -2.6729e-01,  3.2630e-02,\n",
       "         -1.6426e-02,  4.7961e-02,  9.0755e-02,  1.0066e-01,  3.4948e-02,\n",
       "         -9.6867e-02, -2.0158e-01,  1.3218e-02, -4.4749e-02, -1.6157e-01,\n",
       "          1.7984e-01,  2.0787e-01,  2.8843e-02,  4.3207e-02,  8.7726e-02,\n",
       "          8.5588e-02,  1.5478e-01,  4.7369e-02,  2.1546e-02,  2.5660e-02,\n",
       "         -2.3780e-02, -4.8186e-02, -1.7535e-01,  1.2539e-02,  5.5954e-02,\n",
       "          4.7365e-02,  2.9002e-02, -2.0920e-01,  3.0588e-01, -1.7625e-01,\n",
       "          1.5907e-01, -1.1544e-02, -2.3638e-01, -1.9954e-01,  2.5885e-02,\n",
       "          1.8730e-01, -1.2552e-01, -1.3720e-01,  2.6499e-05, -1.2876e-01,\n",
       "          2.0331e-01, -1.2301e-03,  1.4532e-01, -2.5546e-02,  1.6499e-01,\n",
       "          6.7878e-02, -1.7588e-01,  9.8825e-02,  1.3269e-01,  4.6549e-03,\n",
       "         -9.1164e-02, -1.7277e-01, -1.7470e-01,  5.0024e-02,  1.0951e-01,\n",
       "         -3.3003e-02, -1.4200e-01,  1.2800e-01, -1.0540e-01, -1.7517e-01,\n",
       "          3.9175e-02,  1.7820e-01,  1.5143e-01,  5.7949e-02,  2.4768e-01,\n",
       "         -1.1012e-01, -5.6669e-03, -4.8953e-02, -6.1540e-02, -5.8862e-02,\n",
       "         -3.7320e-02,  1.3665e-01,  4.3516e-02,  1.9704e-01,  1.6096e-02,\n",
       "         -9.4839e-02, -1.9168e-01,  1.6483e-01,  1.3191e-01, -6.6877e-02,\n",
       "         -2.2240e-01,  2.9738e-02, -5.9444e-02, -2.1482e-01,  7.6586e-02,\n",
       "         -9.0386e-04, -8.5750e-02, -5.5990e-02,  1.9969e-04,  1.0387e-01,\n",
       "          2.0955e-01, -3.9792e-02,  6.4910e-02, -1.2769e-01, -5.4188e-02,\n",
       "          1.2760e-01,  1.4792e-01, -1.2521e-01, -2.1649e-01, -1.8275e-02,\n",
       "         -8.9345e-02, -6.2453e-02,  2.4912e-02,  2.2533e-02, -5.5430e-02,\n",
       "          5.5061e-02, -6.7172e-03,  1.9391e-01, -6.5113e-03, -5.3359e-02,\n",
       "          6.1512e-02, -3.7270e-02, -9.6351e-02,  6.4022e-02,  1.7867e-01,\n",
       "          1.5284e-01,  1.2371e-01,  1.2189e-01,  1.7021e-02, -1.9462e-01,\n",
       "          1.6155e-01,  2.4399e-02,  2.8693e-02,  2.9074e-02, -1.9215e-02,\n",
       "          1.9969e-01,  2.4891e-01, -1.3443e-01]], grad_fn=<TanhBackward0>), hidden_states=None, attentions=None)"
      ]
     },
     "execution_count": 40,
     "metadata": {},
     "output_type": "execute_result"
    }
   ],
   "source": [
    "output = model(**input)\n",
    "output"
   ]
  },
  {
   "cell_type": "code",
   "execution_count": 42,
   "metadata": {},
   "outputs": [
    {
     "data": {
      "text/plain": [
       "torch.Size([1, 5, 768])"
      ]
     },
     "execution_count": 42,
     "metadata": {},
     "output_type": "execute_result"
    }
   ],
   "source": [
    "output.last_hidden_state.shape"
   ]
  },
  {
   "cell_type": "code",
   "execution_count": 43,
   "metadata": {},
   "outputs": [
    {
     "data": {
      "text/plain": [
       "torch.Size([1, 768])"
      ]
     },
     "execution_count": 43,
     "metadata": {},
     "output_type": "execute_result"
    }
   ],
   "source": [
    "output.pooler_output.shape"
   ]
  },
  {
   "cell_type": "code",
   "execution_count": 48,
   "metadata": {},
   "outputs": [
    {
     "data": {
      "text/plain": [
       "torch.Size([1, 768])"
      ]
     },
     "execution_count": 48,
     "metadata": {},
     "output_type": "execute_result"
    }
   ],
   "source": [
    "output.last_hidden_state[:, 0].shape"
   ]
  },
  {
   "cell_type": "code",
   "execution_count": null,
   "metadata": {},
   "outputs": [],
   "source": []
  }
 ],
 "metadata": {
  "kernelspec": {
   "display_name": "Python 3 (ipykernel)",
   "language": "python",
   "name": "python3"
  },
  "language_info": {
   "codemirror_mode": {
    "name": "ipython",
    "version": 3
   },
   "file_extension": ".py",
   "mimetype": "text/x-python",
   "name": "python",
   "nbconvert_exporter": "python",
   "pygments_lexer": "ipython3",
   "version": "3.12.2"
  }
 },
 "nbformat": 4,
 "nbformat_minor": 4
}
