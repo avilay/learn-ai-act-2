{
 "cells": [
  {
   "cell_type": "markdown",
   "metadata": {},
   "source": [
    "# Datasets\n",
    "\n",
    "For the most part I'll not use this capability a lot. I'll probably just push all the data into a sqlite3 db and then use my sqlite3 `Dataset`. HF has a dataset hub where I can explore the data pretty well without having to download it. In this notebook I'll go over what I think will be some common concepts that I'll use a lot. [Here is a good tutorial](https://huggingface.co/learn/nlp-course/chapter5/1?fw=pt) with a lot more details.\n",
    "\n",
    "When I call `load_dataset`, it will download the dataset in `~/.cache/huggingface/datasets` directory. But I can change this if needed by setting the `HF_HOME` env.\n",
    "\n",
    "\n",
    "\n",
    "Here I load the MRPC dataset that is one of the 10 datasets in the GLUE benchmark. Each instance is a pair of sentences with a binary label that indicates whethere the two sentences are equivalent or not."
   ]
  },
  {
   "cell_type": "code",
   "execution_count": 1,
   "metadata": {},
   "outputs": [],
   "source": [
    "from datasets import load_dataset"
   ]
  },
  {
   "cell_type": "code",
   "execution_count": 2,
   "metadata": {},
   "outputs": [
    {
     "data": {
      "text/plain": [
       "DatasetDict({\n",
       "    train: Dataset({\n",
       "        features: ['sentence1', 'sentence2', 'label', 'idx'],\n",
       "        num_rows: 3668\n",
       "    })\n",
       "    validation: Dataset({\n",
       "        features: ['sentence1', 'sentence2', 'label', 'idx'],\n",
       "        num_rows: 408\n",
       "    })\n",
       "    test: Dataset({\n",
       "        features: ['sentence1', 'sentence2', 'label', 'idx'],\n",
       "        num_rows: 1725\n",
       "    })\n",
       "})"
      ]
     },
     "execution_count": 2,
     "metadata": {},
     "output_type": "execute_result"
    }
   ],
   "source": [
    "mrpc = load_dataset(\"glue\", \"mrpc\")\n",
    "mrpc"
   ]
  },
  {
   "cell_type": "code",
   "execution_count": 3,
   "metadata": {},
   "outputs": [
    {
     "data": {
      "text/plain": [
       "{'sentence1': Value(dtype='string', id=None),\n",
       " 'sentence2': Value(dtype='string', id=None),\n",
       " 'label': ClassLabel(names=['not_equivalent', 'equivalent'], id=None),\n",
       " 'idx': Value(dtype='int32', id=None)}"
      ]
     },
     "execution_count": 3,
     "metadata": {},
     "output_type": "execute_result"
    }
   ],
   "source": [
    "mrpc[\"train\"].features"
   ]
  },
  {
   "cell_type": "code",
   "execution_count": 4,
   "metadata": {},
   "outputs": [
    {
     "data": {
      "text/plain": [
       "{'sentence1': 'Amrozi accused his brother , whom he called \" the witness \" , of deliberately distorting his evidence .',\n",
       " 'sentence2': 'Referring to him as only \" the witness \" , Amrozi accused his brother of deliberately distorting his evidence .',\n",
       " 'label': 1,\n",
       " 'idx': 0}"
      ]
     },
     "execution_count": 4,
     "metadata": {},
     "output_type": "execute_result"
    }
   ],
   "source": [
    "mrpc[\"train\"][0]"
   ]
  },
  {
   "cell_type": "markdown",
   "metadata": {},
   "source": [
    "The `Dataset` object has a lot of pandas like functions like, `select`, `shuffle`, `map`, `filter`, etc. "
   ]
  },
  {
   "cell_type": "code",
   "execution_count": 11,
   "metadata": {},
   "outputs": [
    {
     "data": {
      "text/plain": [
       "Dataset({\n",
       "    features: ['sentence1', 'sentence2', 'label', 'idx'],\n",
       "    num_rows: 10\n",
       "})"
      ]
     },
     "execution_count": 11,
     "metadata": {},
     "output_type": "execute_result"
    }
   ],
   "source": [
    "# This selects the first 10 instances in the dataset\n",
    "small_mrpc = mrpc[\"train\"].select(range(10))\n",
    "small_mrpc"
   ]
  },
  {
   "cell_type": "code",
   "execution_count": 14,
   "metadata": {},
   "outputs": [
    {
     "name": "stdout",
     "output_type": "stream",
     "text": [
      "[0]: Amrozi accused his brother , whom he called \" the witness \" , of deliberately distorting his evidence .\n",
      "\n",
      "[1]: Yucaipa owned Dominick 's before selling the chain to Safeway in 1998 for $ 2.5 billion .\n",
      "\n",
      "[2]: They had published an advertisement on the Internet on June 10 , offering the cargo for sale , he added .\n",
      "\n",
      "[3]: Around 0335 GMT , Tab shares were up 19 cents , or 4.4 % , at A $ 4.56 , having earlier set a record high of A $ 4.57 .\n",
      "\n",
      "[4]: The stock rose $ 2.11 , or about 11 percent , to close Friday at $ 21.51 on the New York Stock Exchange .\n",
      "\n",
      "[5]: Revenue in the first quarter of the year dropped 15 percent from the same period a year earlier .\n",
      "\n",
      "[6]: The Nasdaq had a weekly gain of 17.27 , or 1.2 percent , closing at 1,520.15 on Friday .\n",
      "\n",
      "[7]: The DVD-CCA then appealed to the state Supreme Court .\n",
      "\n",
      "[8]: That compared with $ 35.18 million , or 24 cents per share , in the year-ago period .\n",
      "\n",
      "[9]: Shares of Genentech , a much larger company with several products on the market , rose more than 2 percent .\n",
      "\n"
     ]
    }
   ],
   "source": [
    "for i in range(10):\n",
    "    print(f\"[{i}]: {small_mrpc[i][\"sentence1\"]}\\n\")"
   ]
  },
  {
   "cell_type": "code",
   "execution_count": 15,
   "metadata": {},
   "outputs": [
    {
     "name": "stdout",
     "output_type": "stream",
     "text": [
      "[0]: \" Germany is on the right path , \" Mr. Schrder said , specifying his government 's announced structural reform plan , known as Agenda 2010 , and cuts in taxes .\n",
      "\n",
      "[1]: The Saudi newspaper Okaz reported Monday that suspects who escaped Saturday 's raid fled in a car that broke down on the outskirts of Mecca Sunday afternoon .\n",
      "\n",
      "[2]: She was surrounded by about 50 women who regret having abortions .\n",
      "\n",
      "[3]: Democratic Lt. Gov. Cruz Bustamante and Republican state Sen. Tom McClintock are in different political worlds .\n",
      "\n",
      "[4]: The decades-long conflict has killed more than 10,000 people in the resource-rich province , most of them civilians .\n",
      "\n",
      "[5]: Energy prices dropped by 8.6 percent , the biggest decline since July 1986 .\n",
      "\n",
      "[6]: But it now has 600 fewer stores - about 1,500 in all - and a $ 2 billion loan to compete against bigger merchants .\n",
      "\n",
      "[7]: No legislative action is final without concurrence of the House , and it appeared the measure faced a tougher road there .\n",
      "\n",
      "[8]: Ebert asked Franklin , pointing to a color photo of Linda Franklin on a projection screen .\n",
      "\n",
      "[9]: Bush also said he plans to meet with scientists and legal experts and will not make a determination on the bill for a few more weeks .\n",
      "\n"
     ]
    }
   ],
   "source": [
    "# This first shuffles the dataset and then selects the first 10 instances\n",
    "shuffled_small_mrpc = mrpc[\"train\"].shuffle(seed=1).select(range(10))\n",
    "for i in range(10):\n",
    "    print(f\"[{i}]: {shuffled_small_mrpc[i][\"sentence1\"]}\\n\")"
   ]
  },
  {
   "cell_type": "code",
   "execution_count": 8,
   "metadata": {},
   "outputs": [
    {
     "data": {
      "application/vnd.jupyter.widget-view+json": {
       "model_id": "e674f8842dd544c285f8f414cc6a8144",
       "version_major": 2,
       "version_minor": 0
      },
      "text/plain": [
       "Map:   0%|          | 0/10 [00:00<?, ? examples/s]"
      ]
     },
     "metadata": {},
     "output_type": "display_data"
    },
    {
     "name": "stdout",
     "output_type": "stream",
     "text": [
      "START\n",
      " {'sentence1': 'Amrozi accused his brother , whom he called \" the witness \" , of deliberately distorting his evidence .', 'sentence2': 'Referring to him as only \" the witness \" , Amrozi accused his brother of deliberately distorting his evidence .', 'label': 1, 'idx': 0} \n",
      "END\n",
      "\n",
      "START\n",
      " {'sentence1': \"Yucaipa owned Dominick 's before selling the chain to Safeway in 1998 for $ 2.5 billion .\", 'sentence2': \"Yucaipa bought Dominick 's in 1995 for $ 693 million and sold it to Safeway for $ 1.8 billion in 1998 .\", 'label': 0, 'idx': 1} \n",
      "END\n",
      "\n",
      "START\n",
      " {'sentence1': 'They had published an advertisement on the Internet on June 10 , offering the cargo for sale , he added .', 'sentence2': \"On June 10 , the ship 's owners had published an advertisement on the Internet , offering the explosives for sale .\", 'label': 1, 'idx': 2} \n",
      "END\n",
      "\n",
      "START\n",
      " {'sentence1': 'Around 0335 GMT , Tab shares were up 19 cents , or 4.4 % , at A $ 4.56 , having earlier set a record high of A $ 4.57 .', 'sentence2': 'Tab shares jumped 20 cents , or 4.6 % , to set a record closing high at A $ 4.57 .', 'label': 0, 'idx': 3} \n",
      "END\n",
      "\n",
      "START\n",
      " {'sentence1': 'The stock rose $ 2.11 , or about 11 percent , to close Friday at $ 21.51 on the New York Stock Exchange .', 'sentence2': 'PG & E Corp. shares jumped $ 1.63 or 8 percent to $ 21.03 on the New York Stock Exchange on Friday .', 'label': 1, 'idx': 4} \n",
      "END\n",
      "\n",
      "START\n",
      " {'sentence1': 'Revenue in the first quarter of the year dropped 15 percent from the same period a year earlier .', 'sentence2': \"With the scandal hanging over Stewart 's company , revenue the first quarter of the year dropped 15 percent from the same period a year earlier .\", 'label': 1, 'idx': 5} \n",
      "END\n",
      "\n",
      "START\n",
      " {'sentence1': 'The Nasdaq had a weekly gain of 17.27 , or 1.2 percent , closing at 1,520.15 on Friday .', 'sentence2': 'The tech-laced Nasdaq Composite .IXIC rallied 30.46 points , or 2.04 percent , to 1,520.15 .', 'label': 0, 'idx': 6} \n",
      "END\n",
      "\n",
      "START\n",
      " {'sentence1': 'The DVD-CCA then appealed to the state Supreme Court .', 'sentence2': 'The DVD CCA appealed that decision to the U.S. Supreme Court .', 'label': 1, 'idx': 7} \n",
      "END\n",
      "\n",
      "START\n",
      " {'sentence1': 'That compared with $ 35.18 million , or 24 cents per share , in the year-ago period .', 'sentence2': 'Earnings were affected by a non-recurring $ 8 million tax benefit in the year-ago period .', 'label': 0, 'idx': 8} \n",
      "END\n",
      "\n",
      "START\n",
      " {'sentence1': 'Shares of Genentech , a much larger company with several products on the market , rose more than 2 percent .', 'sentence2': 'Shares of Xoma fell 16 percent in early trade , while shares of Genentech , a much larger company with several products on the market , were up 2 percent .', 'label': 0, 'idx': 10} \n",
      "END\n",
      "\n"
     ]
    },
    {
     "data": {
      "text/plain": [
       "Dataset({\n",
       "    features: ['sentence1', 'sentence2', 'label', 'idx'],\n",
       "    num_rows: 10\n",
       "})"
      ]
     },
     "execution_count": 8,
     "metadata": {},
     "output_type": "execute_result"
    }
   ],
   "source": [
    "def dbg(x):\n",
    "    print(\"START\\n\", x, \"\\nEND\\n\")\n",
    "    return {}\n",
    "\n",
    "small_mrpc.map(dbg)"
   ]
  },
  {
   "cell_type": "markdown",
   "metadata": {},
   "source": [
    "We can see that each instance in the dataset is passed to the udf given to map. The udf can return any `dict`, this will be merged with the original `dict` resulting in the creation of additional columns."
   ]
  },
  {
   "cell_type": "code",
   "execution_count": 9,
   "metadata": {},
   "outputs": [
    {
     "name": "stdout",
     "output_type": "stream",
     "text": [
      "Dataset({\n",
      "    features: ['sentence1', 'sentence2', 'label', 'idx', 'len1', 'len2'],\n",
      "    num_rows: 10\n",
      "})\n",
      "{'sentence1': 'Amrozi accused his brother , whom he called \" the witness \" , of deliberately distorting his evidence .', 'sentence2': 'Referring to him as only \" the witness \" , Amrozi accused his brother of deliberately distorting his evidence .', 'label': 1, 'idx': 0, 'len1': 103, 'len2': 111}\n"
     ]
    }
   ],
   "source": [
    "def lens(x):\n",
    "    return {\n",
    "        \"len1\": len(x[\"sentence1\"]),\n",
    "        \"len2\": len(x[\"sentence2\"])\n",
    "    }\n",
    "\n",
    "new_small_mrpc = small_mrpc.map(lens)\n",
    "print(new_small_mrpc)\n",
    "print(new_small_mrpc[0])\n"
   ]
  },
  {
   "cell_type": "markdown",
   "metadata": {},
   "source": [
    "I can call also call `map` on a dataset with `batched=True` along with a batch size (defaults to 1000). This will process a batch of instances at a time. The input will still be a `dict` with the same keys as a single instance. However, the values of each key will be a list of the instances in the batch. E.g., the input still has a key called `sentence1`, but its value is a list of 3 sentences that are in this batch."
   ]
  },
  {
   "cell_type": "code",
   "execution_count": 10,
   "metadata": {},
   "outputs": [
    {
     "data": {
      "application/vnd.jupyter.widget-view+json": {
       "model_id": "ffc2020bd2874db1b6491aaeda65fd9c",
       "version_major": 2,
       "version_minor": 0
      },
      "text/plain": [
       "Map:   0%|          | 0/10 [00:00<?, ? examples/s]"
      ]
     },
     "metadata": {},
     "output_type": "display_data"
    },
    {
     "name": "stdout",
     "output_type": "stream",
     "text": [
      "START\n",
      " {'sentence1': ['Amrozi accused his brother , whom he called \" the witness \" , of deliberately distorting his evidence .', \"Yucaipa owned Dominick 's before selling the chain to Safeway in 1998 for $ 2.5 billion .\", 'They had published an advertisement on the Internet on June 10 , offering the cargo for sale , he added .'], 'sentence2': ['Referring to him as only \" the witness \" , Amrozi accused his brother of deliberately distorting his evidence .', \"Yucaipa bought Dominick 's in 1995 for $ 693 million and sold it to Safeway for $ 1.8 billion in 1998 .\", \"On June 10 , the ship 's owners had published an advertisement on the Internet , offering the explosives for sale .\"], 'label': [1, 0, 1], 'idx': [0, 1, 2]} \n",
      "END\n",
      "\n",
      "START\n",
      " {'sentence1': ['Around 0335 GMT , Tab shares were up 19 cents , or 4.4 % , at A $ 4.56 , having earlier set a record high of A $ 4.57 .', 'The stock rose $ 2.11 , or about 11 percent , to close Friday at $ 21.51 on the New York Stock Exchange .', 'Revenue in the first quarter of the year dropped 15 percent from the same period a year earlier .'], 'sentence2': ['Tab shares jumped 20 cents , or 4.6 % , to set a record closing high at A $ 4.57 .', 'PG & E Corp. shares jumped $ 1.63 or 8 percent to $ 21.03 on the New York Stock Exchange on Friday .', \"With the scandal hanging over Stewart 's company , revenue the first quarter of the year dropped 15 percent from the same period a year earlier .\"], 'label': [0, 1, 1], 'idx': [3, 4, 5]} \n",
      "END\n",
      "\n",
      "START\n",
      " {'sentence1': ['The Nasdaq had a weekly gain of 17.27 , or 1.2 percent , closing at 1,520.15 on Friday .', 'The DVD-CCA then appealed to the state Supreme Court .', 'That compared with $ 35.18 million , or 24 cents per share , in the year-ago period .'], 'sentence2': ['The tech-laced Nasdaq Composite .IXIC rallied 30.46 points , or 2.04 percent , to 1,520.15 .', 'The DVD CCA appealed that decision to the U.S. Supreme Court .', 'Earnings were affected by a non-recurring $ 8 million tax benefit in the year-ago period .'], 'label': [0, 1, 0], 'idx': [6, 7, 8]} \n",
      "END\n",
      "\n",
      "START\n",
      " {'sentence1': ['Shares of Genentech , a much larger company with several products on the market , rose more than 2 percent .'], 'sentence2': ['Shares of Xoma fell 16 percent in early trade , while shares of Genentech , a much larger company with several products on the market , were up 2 percent .'], 'label': [0], 'idx': [10]} \n",
      "END\n",
      "\n"
     ]
    },
    {
     "data": {
      "text/plain": [
       "Dataset({\n",
       "    features: ['sentence1', 'sentence2', 'label', 'idx'],\n",
       "    num_rows: 10\n",
       "})"
      ]
     },
     "execution_count": 10,
     "metadata": {},
     "output_type": "execute_result"
    }
   ],
   "source": [
    "small_mrpc.map(dbg, batched=True, batch_size=3)"
   ]
  },
  {
   "cell_type": "markdown",
   "metadata": {},
   "source": [
    "And just like in the single instance case, the batched udf map should also return a dict of str -> list."
   ]
  },
  {
   "cell_type": "code",
   "execution_count": 18,
   "metadata": {},
   "outputs": [
    {
     "data": {
      "application/vnd.jupyter.widget-view+json": {
       "model_id": "3ba665cca8394d8e816f7d1b6f848a5f",
       "version_major": 2,
       "version_minor": 0
      },
      "text/plain": [
       "Map:   0%|          | 0/10 [00:00<?, ? examples/s]"
      ]
     },
     "metadata": {},
     "output_type": "display_data"
    },
    {
     "data": {
      "text/plain": [
       "Dataset({\n",
       "    features: ['sentence1', 'sentence2', 'label', 'idx', 'len1', 'len2'],\n",
       "    num_rows: 10\n",
       "})"
      ]
     },
     "execution_count": 18,
     "metadata": {},
     "output_type": "execute_result"
    }
   ],
   "source": [
    "def batched_len(batch):\n",
    "    return {\n",
    "        \"len1\": [len(x) for x in batch[\"sentence1\"]],\n",
    "        \"len2\": [len(x) for x in batch[\"sentence2\"]],\n",
    "    }\n",
    "    \n",
    "\n",
    "new_small_rpc = small_mrpc.map(batched_len, batched=True, batch_size=3)\n",
    "new_small_rpc"
   ]
  },
  {
   "cell_type": "code",
   "execution_count": 19,
   "metadata": {},
   "outputs": [
    {
     "data": {
      "text/plain": [
       "{'sentence1': 'Amrozi accused his brother , whom he called \" the witness \" , of deliberately distorting his evidence .',\n",
       " 'sentence2': 'Referring to him as only \" the witness \" , Amrozi accused his brother of deliberately distorting his evidence .',\n",
       " 'label': 1,\n",
       " 'idx': 0,\n",
       " 'len1': 103,\n",
       " 'len2': 111}"
      ]
     },
     "execution_count": 19,
     "metadata": {},
     "output_type": "execute_result"
    }
   ],
   "source": [
    "new_small_rpc[0]"
   ]
  },
  {
   "cell_type": "code",
   "execution_count": null,
   "metadata": {},
   "outputs": [],
   "source": []
  }
 ],
 "metadata": {
  "kernelspec": {
   "display_name": "Python 3 (ipykernel)",
   "language": "python",
   "name": "python3"
  },
  "language_info": {
   "codemirror_mode": {
    "name": "ipython",
    "version": 3
   },
   "file_extension": ".py",
   "mimetype": "text/x-python",
   "name": "python",
   "nbconvert_exporter": "python",
   "pygments_lexer": "ipython3",
   "version": "3.12.7"
  }
 },
 "nbformat": 4,
 "nbformat_minor": 4
}
