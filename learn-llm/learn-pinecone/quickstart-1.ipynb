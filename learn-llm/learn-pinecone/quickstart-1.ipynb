{
 "cells": [
  {
   "cell_type": "code",
   "execution_count": 10,
   "metadata": {},
   "outputs": [],
   "source": [
    "import shortuuid\n",
    "import torch as pt\n",
    "import torch.distributed as dist\n",
    "from pinecone import Pinecone, PodSpec\n",
    "from sentence_transformers import SentenceTransformer\n",
    "from sklearn.metrics.pairwise import paired_distances\n",
    "from dotenv import load_dotenv\n",
    "import os"
   ]
  },
  {
   "cell_type": "code",
   "execution_count": 11,
   "metadata": {},
   "outputs": [
    {
     "data": {
      "text/plain": [
       "True"
      ]
     },
     "execution_count": 11,
     "metadata": {},
     "output_type": "execute_result"
    }
   ],
   "source": [
    "load_dotenv()"
   ]
  },
  {
   "cell_type": "code",
   "execution_count": 3,
   "metadata": {},
   "outputs": [],
   "source": [
    "device = \"cpu\"\n",
    "if pt.cuda.is_available():\n",
    "    device = \"cuda\"\n",
    "elif pt.backends.mps.is_available():\n",
    "    device = \"mps\"\n",
    "\n",
    "model = SentenceTransformer(\"all-MiniLM-L6-v2\", device=device)"
   ]
  },
  {
   "cell_type": "code",
   "execution_count": 12,
   "metadata": {},
   "outputs": [],
   "source": [
    "pc = Pinecone(api_key=os.environ[\"PINECONE_API_KEY\"])\n",
    "spec = PodSpec(environment=\"gcp-starter\")\n",
    "pc.create_index(\n",
    "    name=\"quickstart-1\",\n",
    "    dimension=model.get_sentence_embedding_dimension(),\n",
    "    metric=\"cosine\",\n",
    "    spec=spec\n",
    ")\n",
    "index = pc.Index(\"quickstart-1\")"
   ]
  },
  {
   "cell_type": "code",
   "execution_count": 13,
   "metadata": {},
   "outputs": [],
   "source": [
    "sentences = [\n",
    "    \"The new Finder puts a user 's folders , hard drive , network servers , iDisk and removable media in one location , providing one-click access .\",\n",
    "    \"Panther 's redesigned Finder navigation tool puts a user 's favourite folders , hard drive , network servers , iDisk and removable media in one location .\",\n",
    "    \"But tropical storm warnings and watches were posted today for Haiti , western portions of the Dominican Republic , the southeastern Bahamas and the Turk and Caicos islands .\",\n",
    "    \"Tropical storm warnings were in place Thursday for Jamaica and Haiti and watches for the western Dominican Republic , the southeastern Bahamas and the Turks and Caicos islands .\",\n",
    "    \"Singapore is already the United States ' 12th-largest trading partner , with two-way trade totaling more than $ 34 billion .\",\n",
    "    \"Although a small city-state , Singapore is the 12th-largest trading partner of the United States , with trade volume of $ 33.4 billion last year .\"\n",
    "]"
   ]
  },
  {
   "cell_type": "code",
   "execution_count": 14,
   "metadata": {},
   "outputs": [
    {
     "data": {
      "text/plain": [
       "{'upserted_count': 6}"
      ]
     },
     "execution_count": 14,
     "metadata": {},
     "output_type": "execute_result"
    }
   ],
   "source": [
    "embs = [model.encode(sentence) for sentence in sentences]\n",
    "\n",
    "vectors = [\n",
    "    {\n",
    "        \"id\": shortuuid.uuid()[:5],\n",
    "        \"values\": emb,\n",
    "        \"metadata\": {\"sentence\": sentence}\n",
    "    }\n",
    "    for emb, sentence in zip(embs, sentences)\n",
    "]\n",
    "\n",
    "index.upsert(vectors, \"quickstart\")"
   ]
  },
  {
   "cell_type": "code",
   "execution_count": 16,
   "metadata": {},
   "outputs": [
    {
     "data": {
      "text/plain": [
       "{'dimension': 384,\n",
       " 'index_fullness': 6e-05,\n",
       " 'namespaces': {'quickstart': {'vector_count': 6}},\n",
       " 'total_vector_count': 6}"
      ]
     },
     "execution_count": 16,
     "metadata": {},
     "output_type": "execute_result"
    }
   ],
   "source": [
    "index.describe_index_stats()"
   ]
  },
  {
   "cell_type": "code",
   "execution_count": 17,
   "metadata": {},
   "outputs": [],
   "source": [
    "query_sentence = \"The dynamic economic partnership between Singapore and the United States has resulted in mutual trade volume exceeding $34 billion, with Singapore emerging as the U.S.' 12th-largest trading partner.\"\n",
    "query_emb = model.encode(query_sentence)"
   ]
  },
  {
   "cell_type": "code",
   "execution_count": 18,
   "metadata": {},
   "outputs": [],
   "source": [
    "matches = index.query(\n",
    "    namespace=\"quickstart\",\n",
    "    vector=query_emb.tolist(),\n",
    "    top_k=3,\n",
    "    include_metadata=True,\n",
    "    include_values=False\n",
    ")"
   ]
  },
  {
   "cell_type": "code",
   "execution_count": 20,
   "metadata": {},
   "outputs": [
    {
     "name": "stdout",
     "output_type": "stream",
     "text": [
      "score: 0.858420372\n",
      "Although a small city-state , Singapore is the 12th-largest trading partner of the United States , with trade volume of $ 33.4 billion last year .\n",
      "--------------------\n",
      "score: 0.837462783\n",
      "Singapore is already the United States ' 12th-largest trading partner , with two-way trade totaling more than $ 34 billion .\n",
      "--------------------\n",
      "score: 0.0559085868\n",
      "Panther 's redesigned Finder navigation tool puts a user 's favourite folders , hard drive , network servers , iDisk and removable media in one location .\n",
      "--------------------\n"
     ]
    }
   ],
   "source": [
    "for match in matches[\"matches\"]:\n",
    "    print(f\"score: {match[\"score\"]}\")\n",
    "    print(match[\"metadata\"][\"sentence\"])\n",
    "    print(\"-\"*20)"
   ]
  },
  {
   "cell_type": "code",
   "execution_count": 21,
   "metadata": {},
   "outputs": [],
   "source": [
    "pc.delete_index(\"quickstart-1\")"
   ]
  },
  {
   "cell_type": "code",
   "execution_count": null,
   "metadata": {},
   "outputs": [],
   "source": []
  }
 ],
 "metadata": {
  "kernelspec": {
   "display_name": "ai",
   "language": "python",
   "name": "python3"
  },
  "language_info": {
   "codemirror_mode": {
    "name": "ipython",
    "version": 3
   },
   "file_extension": ".py",
   "mimetype": "text/x-python",
   "name": "python",
   "nbconvert_exporter": "python",
   "pygments_lexer": "ipython3",
   "version": "3.12.1"
  }
 },
 "nbformat": 4,
 "nbformat_minor": 2
}
