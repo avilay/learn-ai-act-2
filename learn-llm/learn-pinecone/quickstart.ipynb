{
 "cells": [
  {
   "cell_type": "code",
   "execution_count": 4,
   "metadata": {},
   "outputs": [],
   "source": [
    "from pinecone import Pinecone, PodSpec\n",
    "from sklearn.metrics import pairwise_distances\n",
    "import numpy as np\n",
    "from sklearn.metrics.pairwise import paired_distances\n",
    "from dotenv import load_dotenv\n",
    "import os"
   ]
  },
  {
   "cell_type": "code",
   "execution_count": 5,
   "metadata": {},
   "outputs": [],
   "source": [
    "load_dotenv()\n",
    "\n",
    "np.set_printoptions(\n",
    "    edgeitems=30,\n",
    "    linewidth=100_000,\n",
    "    precision=3,\n",
    "    suppress=True\n",
    ")"
   ]
  },
  {
   "cell_type": "code",
   "execution_count": 8,
   "metadata": {},
   "outputs": [],
   "source": [
    "def retrieve(query, vectors):\n",
    "    db = np.array([vec[\"values\"] for vec in vectors])\n",
    "    queries = np.full_like(db, query)\n",
    "    distances = paired_distances(queries, db, metric=\"cosine\")\n",
    "    return vectors[np.argmin(distances)]"
   ]
  },
  {
   "cell_type": "code",
   "execution_count": 9,
   "metadata": {},
   "outputs": [],
   "source": [
    "def print_vectors(vectors):\n",
    "    for vector in vectors:\n",
    "        id = vector[\"id\"]\n",
    "        values = vector[\"values\"]\n",
    "        values_type = type(values)\n",
    "        snippet = values[:3]\n",
    "        shape = values.shape if hasattr(values, \"shape\") else len(values)\n",
    "        print(f\"id: {id}, snippet: {snippet}, type: {values_type}, shape: {shape}\")"
   ]
  },
  {
   "cell_type": "code",
   "execution_count": 6,
   "metadata": {},
   "outputs": [],
   "source": [
    "pc = Pinecone(api_key=os.environ[\"PINECONE_API_KEY\"])\n",
    "spec = PodSpec(environment=\"gcp-starter\")\n",
    "pc.create_index(\n",
    "    name=\"quickstart\",\n",
    "    dimension=2,\n",
    "    metric=\"cosine\",\n",
    "    spec=spec\n",
    ")"
   ]
  },
  {
   "cell_type": "code",
   "execution_count": 7,
   "metadata": {},
   "outputs": [],
   "source": [
    "index = pc.Index(\"quickstart\")"
   ]
  },
  {
   "cell_type": "code",
   "execution_count": 10,
   "metadata": {},
   "outputs": [
    {
     "name": "stdout",
     "output_type": "stream",
     "text": [
      "id: vec0, snippet: [1. 2.], type: <class 'numpy.ndarray'>, shape: (2,)\n",
      "id: vec1, snippet: [2. 1.], type: <class 'numpy.ndarray'>, shape: (2,)\n",
      "id: vec2, snippet: [2. 2.], type: <class 'numpy.ndarray'>, shape: (2,)\n"
     ]
    }
   ],
   "source": [
    "np_vecs = [\n",
    "    np.array([1., 2.]),\n",
    "    np.array([2., 1.]),\n",
    "    np.array([2., 2.])\n",
    "]\n",
    "\n",
    "vectors = [\n",
    "    {\"id\": f\"vec{i}\", \"values\": vec} for i, vec in enumerate(np_vecs)\n",
    "]\n",
    "\n",
    "print_vectors(vectors)"
   ]
  },
  {
   "cell_type": "code",
   "execution_count": 11,
   "metadata": {},
   "outputs": [
    {
     "data": {
      "text/plain": [
       "{'upserted_count': 3}"
      ]
     },
     "execution_count": 11,
     "metadata": {},
     "output_type": "execute_result"
    }
   ],
   "source": [
    "index.upsert(\n",
    "    vectors=vectors\n",
    ")"
   ]
  },
  {
   "cell_type": "code",
   "execution_count": 15,
   "metadata": {},
   "outputs": [
    {
     "data": {
      "text/plain": [
       "{'dimension': 2,\n",
       " 'index_fullness': 3e-05,\n",
       " 'namespaces': {'': {'vector_count': 3}},\n",
       " 'total_vector_count': 3}"
      ]
     },
     "execution_count": 15,
     "metadata": {},
     "output_type": "execute_result"
    }
   ],
   "source": [
    "index.describe_index_stats()"
   ]
  },
  {
   "cell_type": "code",
   "execution_count": 12,
   "metadata": {},
   "outputs": [
    {
     "name": "stdout",
     "output_type": "stream",
     "text": [
      "id: vec0, snippet: [1.0, 2.0], type: <class 'list'>, shape: 2\n",
      "id: vec1, snippet: [2.0, 1.0], type: <class 'list'>, shape: 2\n",
      "id: vec2, snippet: [2.0, 2.0], type: <class 'list'>, shape: 2\n"
     ]
    }
   ],
   "source": [
    "print_vectors(vectors)"
   ]
  },
  {
   "cell_type": "code",
   "execution_count": null,
   "metadata": {},
   "outputs": [
    {
     "data": {
      "text/plain": [
       "{'matches': [{'id': 'vec0', 'score': 0.989940703, 'values': [1.0, 2.0]},\n",
       "             {'id': 'vec2', 'score': 0.892666519, 'values': [2.0, 2.0]},\n",
       "             {'id': 'vec1', 'score': 0.708220363, 'values': [2.0, 1.0]}],\n",
       " 'namespace': '',\n",
       " 'usage': {'read_units': 6}}"
      ]
     },
     "execution_count": 14,
     "metadata": {},
     "output_type": "execute_result"
    }
   ],
   "source": [
    "query = np.array([0.5, 1.5])\n",
    "matches = index.query(\n",
    "    vector=query.tolist(),  # does not support numpy natively\n",
    "    top_k=3,\n",
    "    include_values=True\n",
    ")\n",
    "matches"
   ]
  },
  {
   "cell_type": "markdown",
   "metadata": {},
   "source": [
    "As can be seen in the diagram below, the query vector [0.5, 1.5] has the smallest angle with [1, 2].\n",
    "![vectors](./vectors.png)"
   ]
  },
  {
   "cell_type": "code",
   "execution_count": 16,
   "metadata": {},
   "outputs": [],
   "source": [
    "pc.delete_index(\"quickstart\")"
   ]
  }
 ],
 "metadata": {
  "kernelspec": {
   "display_name": "dev",
   "language": "python",
   "name": "python3"
  },
  "language_info": {
   "codemirror_mode": {
    "name": "ipython",
    "version": 3
   },
   "file_extension": ".py",
   "mimetype": "text/x-python",
   "name": "python",
   "nbconvert_exporter": "python",
   "pygments_lexer": "ipython3",
   "version": "3.11.7"
  }
 },
 "nbformat": 4,
 "nbformat_minor": 2
}
