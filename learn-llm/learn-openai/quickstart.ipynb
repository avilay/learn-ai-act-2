{
 "cells": [
  {
   "cell_type": "code",
   "execution_count": 3,
   "metadata": {},
   "outputs": [],
   "source": [
    "import os\n",
    "from openai import OpenAI"
   ]
  },
  {
   "cell_type": "code",
   "execution_count": 4,
   "metadata": {},
   "outputs": [],
   "source": [
    "openai = OpenAI()"
   ]
  },
  {
   "cell_type": "code",
   "execution_count": 6,
   "metadata": {},
   "outputs": [],
   "source": [
    "completion = openai.chat.completions.create(\n",
    "    temperature=0,\n",
    "    model=\"gpt-3.5-turbo\",\n",
    "    messages=[\n",
    "        {\n",
    "            \"role\": \"system\",\n",
    "            \"content\": \"You are a poetic assistant, skilled in explaining complex programming concepts with creative flair.\",\n",
    "        },\n",
    "        {\n",
    "            \"role\": \"user\",\n",
    "            \"content\": \"Compose a poem that explains the concept of recursion in programming.\",\n",
    "        },\n",
    "    ],\n",
    ")"
   ]
  },
  {
   "cell_type": "code",
   "execution_count": 9,
   "metadata": {},
   "outputs": [
    {
     "data": {
      "text/plain": [
       "ChatCompletion(id='chatcmpl-8rVbGo7q2RMGwJF78UVcIfq9TQzkC', choices=[Choice(finish_reason='stop', index=0, logprobs=None, message=ChatCompletionMessage(content=\"In the realm of code, where logic takes flight,\\nThere lies a concept, both wondrous and bright.\\nRecursion it's called, a loop with a twist,\\nA dance of self-reference, a programmer's tryst.\\n\\nImagine a function, a magical spell,\\nThat calls itself, oh what a tale to tell!\\nLike a mirror reflecting its own reflection,\\nRecursion dives deep, with no hesitation.\\n\\nWith each recursive call, a problem is split,\\nInto smaller pieces, bit by bit.\\nLike a Russian doll, nested within,\\nRecursion unravels, revealing its kin.\\n\\nA base case, a condition to break the chain,\\nTo prevent an infinite loop, causing strain.\\nWhen the problem is small, recursion takes flight,\\nSolving it gracefully, with all its might.\\n\\nBut beware, dear coder, for a misstep can lead,\\nTo a stack overflow, a programmer's creed.\\nToo many recursive calls, without an end,\\nCan crash your program, my dear friend.\\n\\nYet when used with care, recursion can shine,\\nSolving complex problems, line by line.\\nFrom traversing trees to sorting arrays,\\nRecursion's elegance, it never betrays.\\n\\nSo embrace this concept, let it be your guide,\\nIn the realm of code, where wonders reside.\\nWith recursion as your ally, you'll surely find,\\nA world of possibilities, in the programmer's mind.\", role='assistant', function_call=None, tool_calls=None))], created=1707763546, model='gpt-3.5-turbo-0613', object='chat.completion', system_fingerprint=None, usage=CompletionUsage(completion_tokens=279, prompt_tokens=39, total_tokens=318))"
      ]
     },
     "execution_count": 9,
     "metadata": {},
     "output_type": "execute_result"
    }
   ],
   "source": [
    "completion"
   ]
  },
  {
   "cell_type": "markdown",
   "metadata": {},
   "source": [
    "```\n",
    "ChatCompletion(\n",
    "    id='chatcmpl-8rVbGo7q2RMGwJF78UVcIfq9TQzkC', \n",
    "    choices=[\n",
    "        Choice(\n",
    "            finish_reason='stop', \n",
    "            index=0, \n",
    "            logprobs=None, \n",
    "            message=ChatCompletionMessage(\n",
    "                content=\"In the realm of code, where logic takes flight,\\nThere lies a concept, both wondrous and bright.\\nRecursion it's called, a loop with a twist,\\nA dance of self-reference, a programmer's tryst.\\n\\nImagine a function, a magical spell,\\nThat calls itself, oh what a tale to tell!\\nLike a mirror reflecting its own reflection,\\nRecursion dives deep, with no hesitation.\\n\\nWith each recursive call, a problem is split,\\nInto smaller pieces, bit by bit.\\nLike a Russian doll, nested within,\\nRecursion unravels, revealing its kin.\\n\\nA base case, a condition to break the chain,\\nTo prevent an infinite loop, causing strain.\\nWhen the problem is small, recursion takes flight,\\nSolving it gracefully, with all its might.\\n\\nBut beware, dear coder, for a misstep can lead,\\nTo a stack overflow, a programmer's creed.\\nToo many recursive calls, without an end,\\nCan crash your program, my dear friend.\\n\\nYet when used with care, recursion can shine,\\nSolving complex problems, line by line.\\nFrom traversing trees to sorting arrays,\\nRecursion's elegance, it never betrays.\\n\\nSo embrace this concept, let it be your guide,\\nIn the realm of code, where wonders reside.\\nWith recursion as your ally, you'll surely find,\\nA world of possibilities, in the programmer's mind.\", \n",
    "                role='assistant', \n",
    "                function_call=None, \n",
    "                tool_calls=None\n",
    "            )\n",
    "        )\n",
    "    ], \n",
    "    created=1707763546, \n",
    "    model='gpt-3.5-turbo-0613', \n",
    "    object='chat.completion', \n",
    "    system_fingerprint=None, \n",
    "    usage=CompletionUsage(\n",
    "        completion_tokens=279, \n",
    "        prompt_tokens=39, \n",
    "        total_tokens=318\n",
    "    )\n",
    ")\n",
    "```"
   ]
  },
  {
   "cell_type": "code",
   "execution_count": 7,
   "metadata": {},
   "outputs": [
    {
     "name": "stdout",
     "output_type": "stream",
     "text": [
      "In the realm of code, a concept profound,\n",
      "Recursion dances, a cycle unbound.\n",
      "A function calls itself, a loop in disguise,\n",
      "Unraveling mysteries, reaching the skies.\n",
      "\n",
      "Like a mirror reflecting its own reflection,\n",
      "Recursion dives deep, a boundless connection.\n",
      "Through layers of calls, it travels with grace,\n",
      "Solving problems complex, at a steady pace.\n",
      "\n",
      "A journey recursive, a path to explore,\n",
      "Breaking down tasks, to the very core.\n",
      "Infinite loops, a magical spell,\n",
      "In the world of programming, recursion dwells.\n",
      "\n",
      "So embrace the loop that loops within,\n",
      "Let recursion guide you, let the journey begin.\n",
      "A poetic dance of function and call,\n",
      "In the realm of code, the greatest of all.\n"
     ]
    }
   ],
   "source": [
    "print(completion.choices[0].message.content)"
   ]
  },
  {
   "cell_type": "code",
   "execution_count": null,
   "metadata": {},
   "outputs": [],
   "source": []
  }
 ],
 "metadata": {
  "kernelspec": {
   "display_name": "ai",
   "language": "python",
   "name": "python3"
  },
  "language_info": {
   "codemirror_mode": {
    "name": "ipython",
    "version": 3
   },
   "file_extension": ".py",
   "mimetype": "text/x-python",
   "name": "python",
   "nbconvert_exporter": "python",
   "pygments_lexer": "ipython3",
   "version": "3.13.2"
  }
 },
 "nbformat": 4,
 "nbformat_minor": 2
}
