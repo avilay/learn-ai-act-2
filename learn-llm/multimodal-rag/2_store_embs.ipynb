{
 "cells": [
  {
   "cell_type": "markdown",
   "id": "ef6d731e-63c8-4231-9489-39da645caa81",
   "metadata": {},
   "source": [
    "# Store Embeddings"
   ]
  },
  {
   "cell_type": "markdown",
   "id": "3decc24a-f961-45b4-af41-af1c801d1948",
   "metadata": {},
   "source": [
    "## Setup creating image embeddings"
   ]
  },
  {
   "cell_type": "code",
   "execution_count": 8,
   "id": "c1314b20-5270-4a64-8af5-77e0b5564e4c",
   "metadata": {},
   "outputs": [],
   "source": [
    "from transformers import AutoImageProcessor, AutoModel, AutoTokenizer\n",
    "from datasets import load_dataset"
   ]
  },
  {
   "cell_type": "code",
   "execution_count": 7,
   "id": "204acd15-366a-49c4-a33f-8902a5816250",
   "metadata": {},
   "outputs": [],
   "source": [
    "model_chkpoint = \"openai/clip-vit-base-patch16\"\n",
    "model = AutoModel.from_pretrained(model_chkpoint)\n",
    "processor = AutoImageProcessor.from_pretrained(model_chkpoint)\n",
    "tokenizer = AutoTokenizer.from_pretrained(model_chkpoint)"
   ]
  },
  {
   "cell_type": "code",
   "execution_count": 10,
   "id": "9758833e-f6ba-4e9c-9953-ee94498d6d6b",
   "metadata": {},
   "outputs": [],
   "source": [
    "ds = load_dataset(\"jmhessel/newyorker_caption_contest\", \"explanation\")\n",
    "trainset = ds[\"train\"]"
   ]
  },
  {
   "cell_type": "markdown",
   "id": "81158e0b-8203-4d42-a1f1-6aab57bd4932",
   "metadata": {},
   "source": [
    "## Set up PGVector\n",
    "1. Create db `multimodal_rag`.\n",
    "```shell\n",
    "ॐ createdb -O pguser multimodal_rag 'Multimodal RAG demo'\n",
    "\n",
    "# or if the createdb client does not know about the /run/postgresql socket\n",
    "ॐ created -h /run/postgresql -O pguser multimodal_rag 'Multimodal RAG demo'\n",
    "```\n",
    "\n",
    "2. Install the pgvector extension. Even though the database owner is `pguser`, I'll need to log into the psql shell with an admin user (in this case with the same name as my linux user) -\n",
    "```shell\n",
    "ॐ psql --dbname multimodal_rag\n",
    "```\n",
    "And run -\n",
    "```sql\n",
    "CREATE EXTENSION vector;\n",
    "```\n",
    " \n",
    "3. Create the `images` table.\n",
    "```sql\n",
    "CREATE TABLE IF NOT EXISTS images (\n",
    " id serial CONSTRAINT i_pri_key PRIMARY KEY,\n",
    " filename varchar(1024),\n",
    " description text,\n",
    " uncanny_description text,\n",
    " embedding vector(512)\n",
    ");\n",
    "```"
   ]
  },
  {
   "cell_type": "code",
   "execution_count": 11,
   "id": "fa963d5e-b3a6-470f-9eb6-8cb90058d013",
   "metadata": {},
   "outputs": [],
   "source": [
    "import psycopg as pg\n",
    "from pgvector.psycopg import register_vector\n",
    "import numpy as np"
   ]
  },
  {
   "cell_type": "code",
   "execution_count": 12,
   "id": "a313c561-9df6-431c-b6e3-9900e9b4605f",
   "metadata": {},
   "outputs": [],
   "source": [
    "connstr = \"dbname=multimodal_rag user=pguser\""
   ]
  },
  {
   "cell_type": "code",
   "execution_count": 28,
   "id": "ce08d3f7-330e-48c5-8411-e0711b34901b",
   "metadata": {},
   "outputs": [],
   "source": [
    "# Delete any existing data\n",
    "with pg.connect(connstr) as conn:\n",
    "    conn.execute(\"DELETE FROM images\")"
   ]
  },
  {
   "cell_type": "code",
   "execution_count": 29,
   "id": "6b2170af-270d-40f5-96e5-fcf5fa91d926",
   "metadata": {},
   "outputs": [],
   "source": [
    "insert_sql = \"\"\"\n",
    "INSERT INTO images (filename, description, uncanny_description, embedding)\n",
    "VALUES (%s, %s, %s, %s)\n",
    "\"\"\""
   ]
  },
  {
   "cell_type": "code",
   "execution_count": 30,
   "id": "f7b954a5-0427-4479-9962-22b85d0c4844",
   "metadata": {},
   "outputs": [],
   "source": [
    "with pg.connect(connstr) as conn:\n",
    "    register_vector(conn)\n",
    "    with conn.cursor() as cur:\n",
    "        for i in range(10):\n",
    "            instance = trainset[i]\n",
    "            filename = f\"trainset[{i}].image\"  # Mock the filename\n",
    "            description = instance[\"image_description\"]\n",
    "            uncanny_description = instance[\"image_uncanny_description\"]\n",
    "\n",
    "            img = instance[\"image\"]\n",
    "            img_tensor = processor(img, return_tensors=\"pt\")\n",
    "            emb_tensor = model.get_image_features(**img_tensor)\n",
    "            embedding = emb_tensor.detach().squeeze().numpy()\n",
    "\n",
    "            cur.execute(insert_sql, (\n",
    "                filename,\n",
    "                description,\n",
    "                uncanny_description,\n",
    "                embedding\n",
    "            ))"
   ]
  },
  {
   "cell_type": "code",
   "execution_count": 31,
   "id": "14c6a12b-dc4a-4089-985e-7dd66ffee223",
   "metadata": {},
   "outputs": [
    {
     "name": "stdout",
     "output_type": "stream",
     "text": [
      "51 trainset[0].image\n"
     ]
    }
   ],
   "source": [
    "emb = None\n",
    "with pg.connect(connstr) as conn:\n",
    "    register_vector(conn)\n",
    "    with conn.cursor() as cur:\n",
    "        cur.execute(\"SELECT id, filename, embedding FROM images LIMIT 1\")\n",
    "        row = cur.fetchone()\n",
    "        print(row[0], row[1])\n",
    "        emb = embedding"
   ]
  },
  {
   "cell_type": "code",
   "execution_count": 32,
   "id": "d12d9ee1-be59-47dd-8d1b-5b5c074e7944",
   "metadata": {},
   "outputs": [
    {
     "data": {
      "text/plain": [
       "numpy.ndarray"
      ]
     },
     "execution_count": 32,
     "metadata": {},
     "output_type": "execute_result"
    }
   ],
   "source": [
    "type(emb)"
   ]
  },
  {
   "cell_type": "code",
   "execution_count": 33,
   "id": "33f20fe5-bd75-48e0-b16f-50b8d39aa9e0",
   "metadata": {},
   "outputs": [
    {
     "data": {
      "text/plain": [
       "(512,)"
      ]
     },
     "execution_count": 33,
     "metadata": {},
     "output_type": "execute_result"
    }
   ],
   "source": [
    "emb.shape"
   ]
  },
  {
   "cell_type": "code",
   "execution_count": null,
   "id": "1d5176d7-556e-4547-abf0-866449737b32",
   "metadata": {},
   "outputs": [],
   "source": []
  }
 ],
 "metadata": {
  "kernelspec": {
   "display_name": "Python 3 (ipykernel)",
   "language": "python",
   "name": "python3"
  },
  "language_info": {
   "codemirror_mode": {
    "name": "ipython",
    "version": 3
   },
   "file_extension": ".py",
   "mimetype": "text/x-python",
   "name": "python",
   "nbconvert_exporter": "python",
   "pygments_lexer": "ipython3",
   "version": "3.12.7"
  }
 },
 "nbformat": 4,
 "nbformat_minor": 5
}
