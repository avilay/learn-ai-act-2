{
 "cells": [
  {
   "cell_type": "code",
   "execution_count": 1,
   "metadata": {},
   "outputs": [],
   "source": [
    "from dotenv import load_dotenv"
   ]
  },
  {
   "cell_type": "code",
   "execution_count": 2,
   "metadata": {},
   "outputs": [],
   "source": [
    "from llama_index.llms.ollama import Ollama"
   ]
  },
  {
   "cell_type": "code",
   "execution_count": 3,
   "metadata": {},
   "outputs": [],
   "source": [
    "from llama_index.core import (\n",
    "    Settings,\n",
    "    SimpleDirectoryReader,\n",
    "    VectorStoreIndex,\n",
    "    set_global_handler,\n",
    ")"
   ]
  },
  {
   "cell_type": "code",
   "execution_count": 4,
   "metadata": {},
   "outputs": [
    {
     "data": {
      "text/plain": [
       "True"
      ]
     },
     "execution_count": 4,
     "metadata": {},
     "output_type": "execute_result"
    }
   ],
   "source": [
    "load_dotenv()"
   ]
  },
  {
   "cell_type": "code",
   "execution_count": 5,
   "metadata": {},
   "outputs": [],
   "source": [
    "llm = Ollama(model=\"llama2\", request_timeout=30)"
   ]
  },
  {
   "cell_type": "code",
   "execution_count": 6,
   "metadata": {},
   "outputs": [],
   "source": [
    "resp = llm.complete(\"Who is Paul Graham?\")"
   ]
  },
  {
   "cell_type": "code",
   "execution_count": 7,
   "metadata": {},
   "outputs": [
    {
     "name": "stdout",
     "output_type": "stream",
     "text": [
      "Paul Graham is a prominent computer scientist, entrepreneur, and writer who has made significant contributions to the fields of artificial intelligence, machine learning, and human-computer interaction. He is known for his work on logic programming, computational linguistics, and the development of the Lisp programming language.\n",
      "\n",
      "Graham was born in 1944 in London, England, and received his bachelor's degree in mathematics from Cambridge University in 1965. He went on to earn his PhD in computer science from Harvard University in 1970. After completing his doctorate, Graham worked at the Massachusetts Institute of Technology (MIT) and later co-founded the AI lab at Yale University.\n",
      "\n",
      "Graham is perhaps best known for his work on logic programming, which is a form of programming that allows computers to reason logically about the world. He developed the first fully functional logic programming system in the 1970s, and he has continued to work on this area throughout his career.\n",
      "\n",
      "In addition to his technical contributions, Graham is also known for his writing and teaching. He has written several books on computer science and related topics, including \"On Lisp\" and \"A Language Extracted from the Arts and Sciences of the Western World.\" He has also taught courses at Harvard University, MIT, and other institutions, and he has been a visiting professor at several universities around the world.\n",
      "\n",
      "Graham is a fellow of the American Association for Artificial Intelligence and the Association for Computing Machinery, and he has received numerous awards for his contributions to the field of computer science. Despite his many accomplishments, Graham remains humble and continues to work on new projects and ideas in the field of artificial intelligence.\n"
     ]
    }
   ],
   "source": [
    "print(resp)"
   ]
  },
  {
   "cell_type": "code",
   "execution_count": 8,
   "metadata": {},
   "outputs": [],
   "source": [
    "Settings.llm = llm"
   ]
  },
  {
   "cell_type": "code",
   "execution_count": 10,
   "metadata": {},
   "outputs": [],
   "source": [
    "documents = SimpleDirectoryReader(\"data\").load_data()\n",
    "index = VectorStoreIndex.from_documents(documents)\n",
    "query_engine = index.as_query_engine()"
   ]
  },
  {
   "cell_type": "code",
   "execution_count": 11,
   "metadata": {},
   "outputs": [],
   "source": [
    "resp = query_engine.query(\"What did the author do growing up?\")"
   ]
  },
  {
   "cell_type": "code",
   "execution_count": 12,
   "metadata": {},
   "outputs": [
    {
     "name": "stdout",
     "output_type": "stream",
     "text": [
      "Based on the context information provided, the author worked on several different things growing up, including:\n",
      "\n",
      "1. Writing short stories outside of school at the age of 13 or 14.\n",
      "2. Programming on the IBM 1401 in 9th grade, but found it difficult to figure out what to do with the machine since the only input was data stored on punched cards and he didn't have any data to work with.\n",
      "3. Building a microcomputer kit from Heathkit in about 1980, which allowed him to start programming more seriously.\n",
      "4. Writing simple games, predicting how high model rockets would fly, and using a TRS-80 to write a book with his father.\n",
      "5. Realizing the potential of online publishing and starting to write essays on his website, which led him to understand that there were many things he could work on that weren't prestigious at first but had potential for discovery and growth.\n"
     ]
    }
   ],
   "source": [
    "print(resp)"
   ]
  },
  {
   "cell_type": "code",
   "execution_count": 25,
   "metadata": {},
   "outputs": [],
   "source": [
    "class Cookie:\n",
    "    def __init__(self, flavor, calories):\n",
    "        self.flavor = flavor\n",
    "        self.calories = calories\n",
    "\n",
    "    @classmethod\n",
    "    def make_chocolate_chip(cls):\n",
    "        return Cookie(flavor=\"Chocolate Chip\", calories=180)\n",
    "    \n",
    "    @staticmethod\n",
    "    def make_any_other():\n",
    "        return 42\n",
    "    \n",
    "    def increment_calories(self):\n",
    "        self.calories += 100\n"
   ]
  },
  {
   "cell_type": "code",
   "execution_count": 26,
   "metadata": {},
   "outputs": [],
   "source": [
    "cookie = Cookie(flavor=\"Snicker Doodle\", calories=200)\n"
   ]
  },
  {
   "cell_type": "code",
   "execution_count": 28,
   "metadata": {},
   "outputs": [
    {
     "data": {
      "text/plain": [
       "200"
      ]
     },
     "execution_count": 28,
     "metadata": {},
     "output_type": "execute_result"
    }
   ],
   "source": [
    "cookie.calories"
   ]
  },
  {
   "cell_type": "code",
   "execution_count": 29,
   "metadata": {},
   "outputs": [],
   "source": [
    "cookie.increment_calories()"
   ]
  },
  {
   "cell_type": "code",
   "execution_count": 30,
   "metadata": {},
   "outputs": [
    {
     "data": {
      "text/plain": [
       "300"
      ]
     },
     "execution_count": 30,
     "metadata": {},
     "output_type": "execute_result"
    }
   ],
   "source": [
    "cookie.calories"
   ]
  },
  {
   "cell_type": "code",
   "execution_count": 31,
   "metadata": {},
   "outputs": [],
   "source": [
    "another_cookie = Cookie(flavor=\"Snicker Doodle\", calories=200)"
   ]
  },
  {
   "cell_type": "code",
   "execution_count": 32,
   "metadata": {},
   "outputs": [
    {
     "data": {
      "text/plain": [
       "200"
      ]
     },
     "execution_count": 32,
     "metadata": {},
     "output_type": "execute_result"
    }
   ],
   "source": [
    "another_cookie.calories"
   ]
  },
  {
   "cell_type": "code",
   "execution_count": 34,
   "metadata": {},
   "outputs": [
    {
     "data": {
      "text/plain": [
       "'Chocolate Chip'"
      ]
     },
     "execution_count": 34,
     "metadata": {},
     "output_type": "execute_result"
    }
   ],
   "source": [
    "cc = Cookie.make_chocolate_chip()\n",
    "cc.flavor"
   ]
  },
  {
   "cell_type": "code",
   "execution_count": null,
   "metadata": {},
   "outputs": [],
   "source": []
  }
 ],
 "metadata": {
  "kernelspec": {
   "display_name": "llm",
   "language": "python",
   "name": "python3"
  },
  "language_info": {
   "codemirror_mode": {
    "name": "ipython",
    "version": 3
   },
   "file_extension": ".py",
   "mimetype": "text/x-python",
   "name": "python",
   "nbconvert_exporter": "python",
   "pygments_lexer": "ipython3",
   "version": "3.11.7"
  }
 },
 "nbformat": 4,
 "nbformat_minor": 2
}
