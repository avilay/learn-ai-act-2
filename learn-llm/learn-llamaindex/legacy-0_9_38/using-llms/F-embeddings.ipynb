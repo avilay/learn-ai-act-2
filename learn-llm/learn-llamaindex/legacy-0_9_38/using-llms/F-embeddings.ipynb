{
 "cells": [
  {
   "cell_type": "code",
   "execution_count": null,
   "metadata": {},
   "outputs": [],
   "source": [
    "%%html\n",
    "<style>\n",
    "    body {\n",
    "        --vscode-font-family: \"Segoe UI\"\n",
    "    }\n",
    "</style>"
   ]
  },
  {
   "cell_type": "markdown",
   "metadata": {},
   "source": [
    "Embedding models are used when I am using some sort of vector store to index my content. By default llama-index uses the `text-embedding-ada-002` embedding model from OpenAI. If I want to use some other embedding model I should set it in the global service context."
   ]
  },
  {
   "cell_type": "code",
   "execution_count": null,
   "metadata": {},
   "outputs": [],
   "source": [
    "from dotenv import load_dotenv\n",
    "\n",
    "load_dotenv()"
   ]
  },
  {
   "cell_type": "code",
   "execution_count": null,
   "metadata": {},
   "outputs": [],
   "source": [
    "from llama_index import (\n",
    "    ServiceContext,\n",
    "    VectorStoreIndex,\n",
    "    SimpleDirectoryReader,\n",
    "    set_global_service_context,\n",
    ")\n",
    "from llama_index.embeddings import OpenAIEmbedding"
   ]
  },
  {
   "cell_type": "code",
   "execution_count": null,
   "metadata": {},
   "outputs": [],
   "source": [
    "service_context = ServiceContext.from_defaults()"
   ]
  },
  {
   "cell_type": "code",
   "execution_count": null,
   "metadata": {},
   "outputs": [],
   "source": [
    "service_context.embed_model"
   ]
  },
  {
   "cell_type": "code",
   "execution_count": null,
   "metadata": {},
   "outputs": [],
   "source": [
    "# This will use the OpenAIEmbedding model to index the data.\n",
    "docs = SimpleDirectoryReader(\"/Users/avilay/mldata/avilay.rocks\").load_data()\n",
    "index = VectorStoreIndex.from_documents(docs)"
   ]
  },
  {
   "cell_type": "code",
   "execution_count": null,
   "metadata": {},
   "outputs": [],
   "source": [
    "query_engine = index.as_query_engine()\n",
    "resp = query_engine.query(\"quantum computing\")"
   ]
  },
  {
   "cell_type": "code",
   "execution_count": null,
   "metadata": {},
   "outputs": [],
   "source": [
    "print(resp)"
   ]
  },
  {
   "cell_type": "code",
   "execution_count": null,
   "metadata": {},
   "outputs": [],
   "source": [
    "resp.metadata"
   ]
  },
  {
   "cell_type": "markdown",
   "metadata": {},
   "source": [
    "I can ask llama-index to use a local model after downloading an \"appropriate\" model from HF."
   ]
  },
  {
   "cell_type": "code",
   "execution_count": null,
   "metadata": {},
   "outputs": [],
   "source": [
    "service_context = ServiceContext.from_defaults(embed_model=\"local\")\n",
    "service_context.embed_model"
   ]
  },
  {
   "cell_type": "code",
   "execution_count": null,
   "metadata": {},
   "outputs": [],
   "source": [
    "set_global_service_context(service_context)"
   ]
  },
  {
   "cell_type": "code",
   "execution_count": null,
   "metadata": {},
   "outputs": [],
   "source": [
    "# Now it will use the `bge-small-en` embedding model.\n",
    "docs = SimpleDirectoryReader(\"/Users/avilay/mldata/avilay.rocks\").load_data()\n",
    "index = VectorStoreIndex.from_documents(docs)\n",
    "query_engine = index.as_query_engine()\n",
    "resp = query_engine.query(\"quantum computing\")\n",
    "print(resp)\n",
    "resp.metadata"
   ]
  },
  {
   "cell_type": "markdown",
   "metadata": {},
   "source": [
    "Instead of letting HF/llama-index choose the local model for me, I can specify the specific model name that I want."
   ]
  },
  {
   "cell_type": "code",
   "execution_count": null,
   "metadata": {},
   "outputs": [],
   "source": [
    "service_context = ServiceContext.from_defaults(\n",
    "    embed_model=\"local:sentence-transformers/multi-qa-mpnet-base-dot-v1\"\n",
    ")\n",
    "service_context.embed_model"
   ]
  },
  {
   "cell_type": "code",
   "execution_count": null,
   "metadata": {},
   "outputs": [],
   "source": [
    "set_global_service_context(service_context)\n",
    "# Now it will use the `sentence-transformers` embedding model.\n",
    "docs = SimpleDirectoryReader(\"/Users/avilay/mldata/avilay.rocks\").load_data()\n",
    "index = VectorStoreIndex.from_documents(docs)\n",
    "query_engine = index.as_query_engine()\n",
    "resp = query_engine.query(\"quantum computing\")\n",
    "print(resp)\n",
    "resp.metadata"
   ]
  },
  {
   "cell_type": "code",
   "execution_count": null,
   "metadata": {},
   "outputs": [],
   "source": [
    "emb = service_context.embed_model.get_text_embedding(\"I love to code!\")\n",
    "len(emb)"
   ]
  },
  {
   "cell_type": "code",
   "execution_count": null,
   "metadata": {},
   "outputs": [],
   "source": [
    "emb[:10]"
   ]
  },
  {
   "cell_type": "markdown",
   "metadata": {},
   "source": [
    "In addition to OpenAI and HF embeddings, llama-index has integration with a bunch of different embedding model providers. See list [here](http://127.0.0.1:8000/module_guides/models/embeddings.html#list-of-supported-embeddings).\n",
    "\n",
    "In case I want to use an embedding model that is not available directly in llama-index, or needs some special pre/post processing of prompts, I can wrap that embedding model in `BaseEmbedding` wrapper as shown [here](http://127.0.0.1:8000/module_guides/models/embeddings.html#custom-embedding-model).\n",
    "\n",
    "This example demonstrates the use of the [Instructor embedding](https://huggingface.co/hkunlp/instructor-large) which is good for domain specific embeddings. I didn't quite get the usage, will need to read their paper at some point soon."
   ]
  }
 ],
 "metadata": {
  "kernelspec": {
   "display_name": "py10",
   "language": "python",
   "name": "python3"
  },
  "language_info": {
   "codemirror_mode": {
    "name": "ipython",
    "version": 3
   },
   "file_extension": ".py",
   "mimetype": "text/x-python",
   "name": "python",
   "nbconvert_exporter": "python",
   "pygments_lexer": "ipython3",
   "version": "3.10.14"
  }
 },
 "nbformat": 4,
 "nbformat_minor": 2
}
