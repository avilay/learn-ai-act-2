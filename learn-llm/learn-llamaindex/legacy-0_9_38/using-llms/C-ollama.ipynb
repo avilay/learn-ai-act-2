{
 "cells": [
  {
   "cell_type": "code",
   "execution_count": 8,
   "metadata": {},
   "outputs": [
    {
     "data": {
      "text/html": [
       "<style>\n",
       "    body {\n",
       "        --vscode-font-family: \"Segoe UI\"\n",
       "    }\n",
       "</style>\n"
      ],
      "text/plain": [
       "<IPython.core.display.HTML object>"
      ]
     },
     "metadata": {},
     "output_type": "display_data"
    }
   ],
   "source": [
    "%%html\n",
    "<style>\n",
    "    body {\n",
    "        --vscode-font-family: \"Segoe UI\"\n",
    "    }\n",
    "</style>"
   ]
  },
  {
   "cell_type": "markdown",
   "metadata": {},
   "source": [
    "Instead of using the default OpenAI model, I can use any of the [dozens of models](http://127.0.0.1:8000/module_guides/models/llms/modules.html) that llama-index has integration with. Here I am using Ollama that is running locally on my laptop. At the time of llama-index's this release, llama-3 was not available, but I can still use it by passing the right model string. Here is a full list of models supported by Ollama - https://ollama.com/library.\n",
    "\n",
    "In order to use the llama3 model from HF I need to sign Meta's license agreement. This means that I should be authenticated by HF before I use llama3. I can do this by -\n",
    "  1. Installing the `huggingface_hub` package. I have installed it in the `llm` env. This will install a `huggingface-cli` executable.\n",
    "  2. Call the `huggingface-cli login` command. It will store my token in `/Users/avilay/.cache/huggingface/token`.\n",
    "More information available [here](https://huggingface.co/docs/huggingface_hub/main/en/quick-start#login-command).  "
   ]
  },
  {
   "cell_type": "code",
   "execution_count": 1,
   "metadata": {},
   "outputs": [],
   "source": [
    "from llama_index.llms import Ollama, ChatMessage\n",
    "from llama_index import set_global_tokenizer\n",
    "import transformers"
   ]
  },
  {
   "cell_type": "code",
   "execution_count": 2,
   "metadata": {},
   "outputs": [
    {
     "name": "stderr",
     "output_type": "stream",
     "text": [
      "Special tokens have been added in the vocabulary, make sure the associated word embeddings are fine-tuned or trained.\n"
     ]
    }
   ],
   "source": [
    "model = \"meta-llama/Meta-Llama-3-8B\"\n",
    "tokenize = transformers.AutoTokenizer.from_pretrained(model).encode"
   ]
  },
  {
   "cell_type": "code",
   "execution_count": 3,
   "metadata": {},
   "outputs": [
    {
     "data": {
      "text/plain": [
       "[128000, 40, 3021, 311, 2082]"
      ]
     },
     "execution_count": 3,
     "metadata": {},
     "output_type": "execute_result"
    }
   ],
   "source": [
    "tokenize(\"I love to code\")"
   ]
  },
  {
   "cell_type": "code",
   "execution_count": 4,
   "metadata": {},
   "outputs": [],
   "source": [
    "set_global_tokenizer(tokenize)"
   ]
  },
  {
   "cell_type": "code",
   "execution_count": 5,
   "metadata": {},
   "outputs": [],
   "source": [
    "llm = Ollama(model=\"llama3\", request_timeout=30)"
   ]
  },
  {
   "cell_type": "code",
   "execution_count": 7,
   "metadata": {},
   "outputs": [
    {
     "data": {
      "text/plain": [
       "CompletionResponse(text=\"Albert Einstein (1879-1955) was a German-born theoretical physicist who is widely regarded as one of the most influential scientists of the 20th century. He is best known for his theory of relativity and the famous equation E=mc², which relates energy and mass.\\n\\nEinstein's work revolutionized our understanding of space and time, and he is considered the father of modern physics. He was a key figure in the development of quantum mechanics and was awarded the Nobel Prize in Physics in 1921 for his explanation of the photoelectric effect.\\n\\nEarly Life and Education:\\nAlbert Einstein was born in Munich, Germany to a middle-class Jewish family. His early interest in science and mathematics led him to study physics at the Swiss Federal Polytechnic University (now ETH Zurich), where he graduated in 1900.\\n\\nCareer:\\nEinstein worked as a patent clerk in Bern, Switzerland from 1902 to 1909, during which time he developed his theory of special relativity. In 1915, he expanded this theory to include gravity and introduced the concept of general relativity.\\n\\nIn the 1920s, Einstein turned his attention to quantum mechanics and the behavior of atoms and subatomic particles. His work on the photoelectric effect led to a deeper understanding of light and its interaction with matter.\\n\\nEinstein's Theory of Relativity:\\nHis theory of special relativity (1905) posits that time and space are relative and can be affected by an object's speed and position. The famous equation E=mc², derived from this theory, shows that energy (E) is equal to mass (m) times the speed of light (c) squared.\\n\\nGeneral Relativity:\\nIn 1915, Einstein introduced general relativity, which describes gravity as the curvature of spacetime caused by massive objects. This theory predicted phenomena such as black holes and gravitational waves, which were later confirmed by observations.\\n\\nAwards and Legacy:\\nEinstein received numerous awards and honors for his work, including the Nobel Prize in Physics (1921), the Copley Medal (1925), and the Max Planck Medal (1929). He was also a prolific writer and public speaker, using his platform to advocate for peace, civil rights, and social justice.\\n\\nEinstein's legacy extends far beyond his scientific contributions. He inspired generations of scientists, philosophers, and thinkers around the world with his unique blend of creativity, curiosity, and intellectual rigor.\", additional_kwargs={'model': 'llama3', 'created_at': '2024-05-23T08:10:14.460667Z', 'done': True, 'done_reason': 'stop', 'context': [128006, 882, 128007, 198, 198, 15546, 374, 17971, 469, 17194, 258, 30, 128009, 128006, 78191, 128007, 198, 198, 67722, 55152, 220, 7, 9674, 24, 12, 6280, 20, 8, 574, 264, 6063, 12, 16381, 32887, 83323, 889, 374, 13882, 27458, 439, 832, 315, 279, 1455, 32549, 14248, 315, 279, 220, 508, 339, 9478, 13, 1283, 374, 1888, 3967, 369, 813, 10334, 315, 1375, 44515, 323, 279, 11495, 24524, 469, 28, 13183, 30556, 11, 902, 36716, 4907, 323, 3148, 13, 198, 198, 36, 37494, 6, 82, 990, 14110, 1534, 1057, 8830, 315, 3634, 323, 892, 11, 323, 568, 374, 6646, 279, 7126, 315, 6617, 22027, 13, 1283, 574, 264, 1401, 7216, 304, 279, 4500, 315, 31228, 30126, 323, 574, 22034, 279, 48078, 32293, 304, 28415, 304, 220, 5926, 16, 369, 813, 16540, 315, 279, 6685, 64465, 2515, 13, 198, 198, 42298, 9601, 323, 11930, 25, 198, 67722, 55152, 574, 9405, 304, 47304, 11, 10057, 311, 264, 6278, 12, 1058, 13653, 3070, 13, 5414, 4216, 2802, 304, 8198, 323, 38696, 6197, 1461, 311, 4007, 22027, 520, 279, 30791, 12411, 19294, 26522, 292, 3907, 220, 7, 3409, 38842, 72826, 705, 1405, 568, 33109, 304, 220, 7028, 15, 13, 198, 198, 91293, 25, 198, 36, 37494, 6575, 439, 264, 25589, 45357, 304, 14502, 11, 30221, 505, 220, 7028, 17, 311, 220, 7028, 24, 11, 2391, 902, 892, 568, 8040, 813, 10334, 315, 3361, 1375, 44515, 13, 763, 220, 7529, 20, 11, 568, 17626, 420, 10334, 311, 2997, 24128, 323, 11784, 279, 7434, 315, 4689, 1375, 44515, 13, 198, 198, 644, 279, 220, 5926, 15, 82, 11, 55152, 6656, 813, 6666, 311, 31228, 30126, 323, 279, 7865, 315, 33299, 323, 1207, 6756, 19252, 13, 5414, 990, 389, 279, 6685, 64465, 2515, 6197, 311, 264, 19662, 8830, 315, 3177, 323, 1202, 16628, 449, 5030, 13, 198, 198, 36, 37494, 6, 82, 31535, 315, 6649, 44515, 25, 198, 16366, 10334, 315, 3361, 1375, 44515, 220, 7, 7028, 20, 8, 1153, 1220, 430, 892, 323, 3634, 527, 8844, 323, 649, 387, 11754, 555, 459, 1665, 6, 82, 4732, 323, 2361, 13, 578, 11495, 24524, 469, 28, 13183, 30556, 11, 14592, 505, 420, 10334, 11, 5039, 430, 4907, 220, 7, 36, 8, 374, 6273, 311, 3148, 220, 7, 76, 8, 3115, 279, 4732, 315, 3177, 220, 7, 66, 8, 53363, 13, 198, 198, 15777, 6649, 44515, 25, 198, 644, 220, 7529, 20, 11, 55152, 11784, 4689, 1375, 44515, 11, 902, 16964, 24128, 439, 279, 83233, 315, 100108, 4199, 9057, 555, 11191, 6302, 13, 1115, 10334, 19698, 44247, 1778, 439, 3776, 20349, 323, 71019, 17301, 11, 902, 1051, 3010, 11007, 555, 24654, 13, 198, 198, 32, 4102, 323, 38987, 25, 198, 36, 37494, 4036, 12387, 23146, 323, 49593, 369, 813, 990, 11, 2737, 279, 48078, 32293, 304, 28415, 220, 7, 5926, 16, 705, 279, 356, 1184, 88, 17867, 220, 7, 5926, 20, 705, 323, 279, 7639, 9878, 377, 17867, 220, 7, 5926, 24, 570, 1283, 574, 1101, 264, 63100, 7061, 323, 586, 19114, 11, 1701, 813, 5452, 311, 29115, 369, 9096, 11, 8431, 3268, 11, 323, 3674, 12437, 13, 198, 198, 36, 37494, 6, 82, 20160, 2289, 3117, 7953, 813, 12624, 19564, 13, 1283, 14948, 22540, 315, 14248, 11, 61787, 11, 323, 69122, 2212, 279, 1917, 449, 813, 5016, 20955, 315, 28697, 11, 41328, 11, 323, 20207, 78477, 13, 128009], 'total_duration': 18386350666, 'load_duration': 14591500, 'prompt_eval_duration': 1871282000, 'eval_count': 495, 'eval_duration': 16496848000}, raw={'model': 'llama3', 'created_at': '2024-05-23T08:10:14.460667Z', 'response': \"Albert Einstein (1879-1955) was a German-born theoretical physicist who is widely regarded as one of the most influential scientists of the 20th century. He is best known for his theory of relativity and the famous equation E=mc², which relates energy and mass.\\n\\nEinstein's work revolutionized our understanding of space and time, and he is considered the father of modern physics. He was a key figure in the development of quantum mechanics and was awarded the Nobel Prize in Physics in 1921 for his explanation of the photoelectric effect.\\n\\nEarly Life and Education:\\nAlbert Einstein was born in Munich, Germany to a middle-class Jewish family. His early interest in science and mathematics led him to study physics at the Swiss Federal Polytechnic University (now ETH Zurich), where he graduated in 1900.\\n\\nCareer:\\nEinstein worked as a patent clerk in Bern, Switzerland from 1902 to 1909, during which time he developed his theory of special relativity. In 1915, he expanded this theory to include gravity and introduced the concept of general relativity.\\n\\nIn the 1920s, Einstein turned his attention to quantum mechanics and the behavior of atoms and subatomic particles. His work on the photoelectric effect led to a deeper understanding of light and its interaction with matter.\\n\\nEinstein's Theory of Relativity:\\nHis theory of special relativity (1905) posits that time and space are relative and can be affected by an object's speed and position. The famous equation E=mc², derived from this theory, shows that energy (E) is equal to mass (m) times the speed of light (c) squared.\\n\\nGeneral Relativity:\\nIn 1915, Einstein introduced general relativity, which describes gravity as the curvature of spacetime caused by massive objects. This theory predicted phenomena such as black holes and gravitational waves, which were later confirmed by observations.\\n\\nAwards and Legacy:\\nEinstein received numerous awards and honors for his work, including the Nobel Prize in Physics (1921), the Copley Medal (1925), and the Max Planck Medal (1929). He was also a prolific writer and public speaker, using his platform to advocate for peace, civil rights, and social justice.\\n\\nEinstein's legacy extends far beyond his scientific contributions. He inspired generations of scientists, philosophers, and thinkers around the world with his unique blend of creativity, curiosity, and intellectual rigor.\", 'done': True, 'done_reason': 'stop', 'context': [128006, 882, 128007, 198, 198, 15546, 374, 17971, 469, 17194, 258, 30, 128009, 128006, 78191, 128007, 198, 198, 67722, 55152, 220, 7, 9674, 24, 12, 6280, 20, 8, 574, 264, 6063, 12, 16381, 32887, 83323, 889, 374, 13882, 27458, 439, 832, 315, 279, 1455, 32549, 14248, 315, 279, 220, 508, 339, 9478, 13, 1283, 374, 1888, 3967, 369, 813, 10334, 315, 1375, 44515, 323, 279, 11495, 24524, 469, 28, 13183, 30556, 11, 902, 36716, 4907, 323, 3148, 13, 198, 198, 36, 37494, 6, 82, 990, 14110, 1534, 1057, 8830, 315, 3634, 323, 892, 11, 323, 568, 374, 6646, 279, 7126, 315, 6617, 22027, 13, 1283, 574, 264, 1401, 7216, 304, 279, 4500, 315, 31228, 30126, 323, 574, 22034, 279, 48078, 32293, 304, 28415, 304, 220, 5926, 16, 369, 813, 16540, 315, 279, 6685, 64465, 2515, 13, 198, 198, 42298, 9601, 323, 11930, 25, 198, 67722, 55152, 574, 9405, 304, 47304, 11, 10057, 311, 264, 6278, 12, 1058, 13653, 3070, 13, 5414, 4216, 2802, 304, 8198, 323, 38696, 6197, 1461, 311, 4007, 22027, 520, 279, 30791, 12411, 19294, 26522, 292, 3907, 220, 7, 3409, 38842, 72826, 705, 1405, 568, 33109, 304, 220, 7028, 15, 13, 198, 198, 91293, 25, 198, 36, 37494, 6575, 439, 264, 25589, 45357, 304, 14502, 11, 30221, 505, 220, 7028, 17, 311, 220, 7028, 24, 11, 2391, 902, 892, 568, 8040, 813, 10334, 315, 3361, 1375, 44515, 13, 763, 220, 7529, 20, 11, 568, 17626, 420, 10334, 311, 2997, 24128, 323, 11784, 279, 7434, 315, 4689, 1375, 44515, 13, 198, 198, 644, 279, 220, 5926, 15, 82, 11, 55152, 6656, 813, 6666, 311, 31228, 30126, 323, 279, 7865, 315, 33299, 323, 1207, 6756, 19252, 13, 5414, 990, 389, 279, 6685, 64465, 2515, 6197, 311, 264, 19662, 8830, 315, 3177, 323, 1202, 16628, 449, 5030, 13, 198, 198, 36, 37494, 6, 82, 31535, 315, 6649, 44515, 25, 198, 16366, 10334, 315, 3361, 1375, 44515, 220, 7, 7028, 20, 8, 1153, 1220, 430, 892, 323, 3634, 527, 8844, 323, 649, 387, 11754, 555, 459, 1665, 6, 82, 4732, 323, 2361, 13, 578, 11495, 24524, 469, 28, 13183, 30556, 11, 14592, 505, 420, 10334, 11, 5039, 430, 4907, 220, 7, 36, 8, 374, 6273, 311, 3148, 220, 7, 76, 8, 3115, 279, 4732, 315, 3177, 220, 7, 66, 8, 53363, 13, 198, 198, 15777, 6649, 44515, 25, 198, 644, 220, 7529, 20, 11, 55152, 11784, 4689, 1375, 44515, 11, 902, 16964, 24128, 439, 279, 83233, 315, 100108, 4199, 9057, 555, 11191, 6302, 13, 1115, 10334, 19698, 44247, 1778, 439, 3776, 20349, 323, 71019, 17301, 11, 902, 1051, 3010, 11007, 555, 24654, 13, 198, 198, 32, 4102, 323, 38987, 25, 198, 36, 37494, 4036, 12387, 23146, 323, 49593, 369, 813, 990, 11, 2737, 279, 48078, 32293, 304, 28415, 220, 7, 5926, 16, 705, 279, 356, 1184, 88, 17867, 220, 7, 5926, 20, 705, 323, 279, 7639, 9878, 377, 17867, 220, 7, 5926, 24, 570, 1283, 574, 1101, 264, 63100, 7061, 323, 586, 19114, 11, 1701, 813, 5452, 311, 29115, 369, 9096, 11, 8431, 3268, 11, 323, 3674, 12437, 13, 198, 198, 36, 37494, 6, 82, 20160, 2289, 3117, 7953, 813, 12624, 19564, 13, 1283, 14948, 22540, 315, 14248, 11, 61787, 11, 323, 69122, 2212, 279, 1917, 449, 813, 5016, 20955, 315, 28697, 11, 41328, 11, 323, 20207, 78477, 13, 128009], 'total_duration': 18386350666, 'load_duration': 14591500, 'prompt_eval_duration': 1871282000, 'eval_count': 495, 'eval_duration': 16496848000}, delta=None)"
      ]
     },
     "execution_count": 7,
     "metadata": {},
     "output_type": "execute_result"
    }
   ],
   "source": [
    "# Why does it take 18 seconds to make this call when the model is running locally?\n",
    "# Is local inference so slow that an OpenAI network call is faster at 1.5 seconds?!\n",
    "resp = llm.complete(\"Who is Albert Eistein?\")\n",
    "resp"
   ]
  },
  {
   "cell_type": "code",
   "execution_count": 9,
   "metadata": {},
   "outputs": [
    {
     "name": "stdout",
     "output_type": "stream",
     "text": [
      "Albert Einstein (1879-1955) was a German-born theoretical physicist who is widely regarded as one of the most influential scientists of the 20th century. He is best known for his theory of relativity and the famous equation E=mc², which relates energy and mass.\n",
      "\n",
      "Einstein's work revolutionized our understanding of space and time, and he is considered the father of modern physics. He was a key figure in the development of quantum mechanics and was awarded the Nobel Prize in Physics in 1921 for his explanation of the photoelectric effect.\n",
      "\n",
      "Early Life and Education:\n",
      "Albert Einstein was born in Munich, Germany to a middle-class Jewish family. His early interest in science and mathematics led him to study physics at the Swiss Federal Polytechnic University (now ETH Zurich), where he graduated in 1900.\n",
      "\n",
      "Career:\n",
      "Einstein worked as a patent clerk in Bern, Switzerland from 1902 to 1909, during which time he developed his theory of special relativity. In 1915, he expanded this theory to include gravity and introduced the concept of general relativity.\n",
      "\n",
      "In the 1920s, Einstein turned his attention to quantum mechanics and the behavior of atoms and subatomic particles. His work on the photoelectric effect led to a deeper understanding of light and its interaction with matter.\n",
      "\n",
      "Einstein's Theory of Relativity:\n",
      "His theory of special relativity (1905) posits that time and space are relative and can be affected by an object's speed and position. The famous equation E=mc², derived from this theory, shows that energy (E) is equal to mass (m) times the speed of light (c) squared.\n",
      "\n",
      "General Relativity:\n",
      "In 1915, Einstein introduced general relativity, which describes gravity as the curvature of spacetime caused by massive objects. This theory predicted phenomena such as black holes and gravitational waves, which were later confirmed by observations.\n",
      "\n",
      "Awards and Legacy:\n",
      "Einstein received numerous awards and honors for his work, including the Nobel Prize in Physics (1921), the Copley Medal (1925), and the Max Planck Medal (1929). He was also a prolific writer and public speaker, using his platform to advocate for peace, civil rights, and social justice.\n",
      "\n",
      "Einstein's legacy extends far beyond his scientific contributions. He inspired generations of scientists, philosophers, and thinkers around the world with his unique blend of creativity, curiosity, and intellectual rigor.\n"
     ]
    }
   ],
   "source": [
    "print(resp)"
   ]
  },
  {
   "cell_type": "markdown",
   "metadata": {},
   "source": [
    "This also returns the familiar `CompletionResponse` object.\n",
    "```python\n",
    "CompletionResponse(\n",
    "    text=\"Albert Einstein (1879-1955) was a German-born physicist...thinkers, and innovators.\", \n",
    "    additional_kwargs={\n",
    "        'model': 'llama3', \n",
    "        'created_at': '2024-05-23T06:27:58.775492Z', \n",
    "        'done': True, \n",
    "        'done_reason': 'stop', \n",
    "        'context': [128006, 882, 128007, 198, 198, 15546, 374, 17971, 469,...,128009], \n",
    "        'total_duration': 27801243000, \n",
    "        'load_duration': 10651180208, \n",
    "        'prompt_eval_count': 17, \n",
    "        'prompt_eval_duration': 197669000, \n",
    "        'eval_count': 501, \n",
    "        'eval_duration': 16934945000\n",
    "    }, \n",
    "    raw={\n",
    "        'model': 'llama3', \n",
    "        'created_at': '2024-05-23T06:27:58.775492Z', \n",
    "        'response': \"Albert Einstein (1879-1955) was a German-born physicist...innovators.\", \n",
    "        'done': True, \n",
    "        'done_reason': \n",
    "        'stop', \n",
    "        'context': [128006, 882, 128007, 198...,128009], \n",
    "        'total_duration': 27801243000, \n",
    "        'load_duration': 10651180208, \n",
    "        'prompt_eval_count': 17, \n",
    "        'prompt_eval_duration': 197669000, \n",
    "        'eval_count': 501, \n",
    "        'eval_duration': 16934945000\n",
    "    }, \n",
    "    delta=None\n",
    ")\n",
    "```"
   ]
  },
  {
   "cell_type": "code",
   "execution_count": 10,
   "metadata": {},
   "outputs": [],
   "source": [
    "messages = [\n",
    "    ChatMessage(\n",
    "        role=\"system\",\n",
    "        content=\"You are a pirate with a colorful personality\"\n",
    "    ),\n",
    "    ChatMessage(\n",
    "        role=\"user\",\n",
    "        content=\"What is your name\"\n",
    "    )\n",
    "]"
   ]
  },
  {
   "cell_type": "code",
   "execution_count": 11,
   "metadata": {},
   "outputs": [
    {
     "data": {
      "text/plain": [
       "ChatResponse(message=ChatMessage(role=<MessageRole.ASSISTANT: 'assistant'>, content=\"Arrr, me hearty! Me name be Captain Calico Cutlass, the most feared and infamous pirate to ever sail the Seven Seas! Me hair be as bright as the sun on a tropical isle, and me eyes be as blue as the ocean on a clear day. I be a master of sword fights, treasure hunts, and makin' me enemies walk the plank! So hoist the Jolly Roger high, me hearties, and prepare for swashbucklin' adventures with Captain Calico Cutlass yerself!\", additional_kwargs={}), raw={'model': 'llama3', 'created_at': '2024-05-23T08:11:31.096775Z', 'message': {'role': 'assistant', 'content': \"Arrr, me hearty! Me name be Captain Calico Cutlass, the most feared and infamous pirate to ever sail the Seven Seas! Me hair be as bright as the sun on a tropical isle, and me eyes be as blue as the ocean on a clear day. I be a master of sword fights, treasure hunts, and makin' me enemies walk the plank! So hoist the Jolly Roger high, me hearties, and prepare for swashbucklin' adventures with Captain Calico Cutlass yerself!\"}, 'done_reason': 'stop', 'done': True, 'total_duration': 7189461875, 'load_duration': 12032083, 'prompt_eval_count': 27, 'prompt_eval_duration': 3572781000, 'eval_count': 110, 'eval_duration': 3592095000}, delta=None, additional_kwargs={'model': 'llama3', 'created_at': '2024-05-23T08:11:31.096775Z', 'done_reason': 'stop', 'done': True, 'total_duration': 7189461875, 'load_duration': 12032083, 'prompt_eval_count': 27, 'prompt_eval_duration': 3572781000, 'eval_count': 110, 'eval_duration': 3592095000})"
      ]
     },
     "execution_count": 11,
     "metadata": {},
     "output_type": "execute_result"
    }
   ],
   "source": [
    "resp = llm.chat(messages)\n",
    "resp"
   ]
  },
  {
   "cell_type": "markdown",
   "metadata": {},
   "source": [
    "Again we have the familiar `ChatResponse` object.\n",
    "\n",
    "```python\n",
    "ChatResponse(\n",
    "    message=ChatMessage(\n",
    "        role=<MessageRole.ASSISTANT: 'assistant'>, \n",
    "        content='Arrr, me hearty! Me name be Captain Calamity Blackbeak...with yours truly!', \n",
    "        additional_kwargs={}\n",
    "    ), \n",
    "    raw={\n",
    "        'model': 'llama3', \n",
    "        'created_at': '2024-05-23T06:32:53.789002Z', \n",
    "        'message': {\n",
    "            'role': 'assistant', \n",
    "            'content': 'Arrr, me hearty!...yours truly!'\n",
    "        }, \n",
    "        'done_reason': 'stop', \n",
    "        'done': True, \n",
    "        'total_duration': 11374689875, \n",
    "        'load_duration': 7316690791, \n",
    "        'prompt_eval_count': 28, \n",
    "        'prompt_eval_duration': 198786000, \n",
    "        'eval_count': 114, \n",
    "        'eval_duration': 3850996000\n",
    "    }, \n",
    "    delta=None, \n",
    "    additional_kwargs={\n",
    "        'model': 'llama3', \n",
    "        'created_at': '2024-05-23T06:32:53.789002Z', \n",
    "        'done_reason': 'stop', \n",
    "        'done': True, \n",
    "        'total_duration': 11374689875, \n",
    "        'load_duration': 7316690791, \n",
    "        'prompt_eval_count': 28, \n",
    "        'prompt_eval_duration': 198786000, \n",
    "        'eval_count': 114, \n",
    "        'eval_duration': 3850996000\n",
    "    }\n",
    ")\n",
    "```"
   ]
  },
  {
   "cell_type": "code",
   "execution_count": 12,
   "metadata": {},
   "outputs": [
    {
     "name": "stdout",
     "output_type": "stream",
     "text": [
      "assistant: Arrr, me hearty! Me name be Captain Calico Cutlass, the most feared and infamous pirate to ever sail the Seven Seas! Me hair be as bright as the sun on a tropical isle, and me eyes be as blue as the ocean on a clear day. I be a master of sword fights, treasure hunts, and makin' me enemies walk the plank! So hoist the Jolly Roger high, me hearties, and prepare for swashbucklin' adventures with Captain Calico Cutlass yerself!\n"
     ]
    }
   ],
   "source": [
    "print(resp)"
   ]
  },
  {
   "cell_type": "code",
   "execution_count": 13,
   "metadata": {},
   "outputs": [
    {
     "name": "stdout",
     "output_type": "stream",
     "text": [
      "a legendary figure in the history of physics and beyond!\n",
      "\n",
      "Albert Einstein (1879-1955) was a German-born physicist who developed the theory of relativity, which revolutionized our understanding of space, time, and gravity. He is widely regarded as one of the most influential scientists of the 20th century.\n",
      "\n",
      "Some of his notable achievements include:\n",
      "\n",
      "1. **Theory of Special Relativity (1905)**: Einstein introduced the concept of spacetime, where time and space are intertwined, and proposed that the laws of physics are the same for all observers in uniform motion.\n",
      "2. **Theory of General Relativity (1915)**: He developed the theory of gravitation, which describes gravity as the curvature of spacetime caused by massive objects.\n",
      "3. **Mass-Energy Equivalence**: Einstein showed that mass and energy are interchangeable, as expressed by his famous equation E=mc².\n",
      "4. **Photoelectric Effect**: His work on the photoelectric effect led to a deeper understanding of light and its behavior.\n",
      "\n",
      "Einstein's impact extends far beyond physics, influencing philosophy, culture, and society at large. He is celebrated for his simplicity, humility, and passion for learning, as well as his iconic mustache!"
     ]
    }
   ],
   "source": [
    "resp = llm.stream_complete(\"Albert Eistein is \")\n",
    "for delta in resp:\n",
    "    print(delta.delta, end=\"\")"
   ]
  },
  {
   "cell_type": "markdown",
   "metadata": {},
   "source": [
    "Stream APIs don't seem to work consistently, they are a bit wonky. If I want to use it in my app, I should test it thoroughly. Best to avoid it."
   ]
  },
  {
   "cell_type": "markdown",
   "metadata": {},
   "source": []
  }
 ],
 "metadata": {
  "kernelspec": {
   "display_name": "py10",
   "language": "python",
   "name": "python3"
  },
  "language_info": {
   "codemirror_mode": {
    "name": "ipython",
    "version": 3
   },
   "file_extension": ".py",
   "mimetype": "text/x-python",
   "name": "python",
   "nbconvert_exporter": "python",
   "pygments_lexer": "ipython3",
   "version": "3.10.14"
  }
 },
 "nbformat": 4,
 "nbformat_minor": 2
}
