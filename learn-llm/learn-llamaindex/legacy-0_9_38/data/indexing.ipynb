{
 "cells": [
  {
   "cell_type": "code",
   "execution_count": 1,
   "metadata": {},
   "outputs": [
    {
     "data": {
      "text/html": [
       "<style>\n",
       "    body {\n",
       "        --vscode-font-family: \"Segoe UI\"\n",
       "    }\n",
       "</style>\n"
      ],
      "text/plain": [
       "<IPython.core.display.HTML object>"
      ]
     },
     "metadata": {},
     "output_type": "display_data"
    }
   ],
   "source": [
    "%%html\n",
    "<style>\n",
    "    body {\n",
    "        --vscode-font-family: \"Segoe UI\"\n",
    "    }\n",
    "</style>"
   ]
  },
  {
   "cell_type": "code",
   "execution_count": 2,
   "metadata": {},
   "outputs": [
    {
     "data": {
      "text/plain": [
       "True"
      ]
     },
     "execution_count": 2,
     "metadata": {},
     "output_type": "execute_result"
    }
   ],
   "source": [
    "from dotenv import load_dotenv\n",
    "load_dotenv()"
   ]
  },
  {
   "cell_type": "code",
   "execution_count": 14,
   "metadata": {},
   "outputs": [],
   "source": [
    "from glob import glob\n",
    "from pathlib import Path\n",
    "from llama_index.readers.file.flat_reader import FlatReader\n",
    "from llama_index.node_parser.file import SimpleFileNodeParser\n",
    "from llama_index.node_parser import SentenceSplitter\n",
    "from llama_index import VectorStoreIndex, set_global_handler\n",
    "from llama_index.ingestion import IngestionPipeline"
   ]
  },
  {
   "cell_type": "code",
   "execution_count": 4,
   "metadata": {},
   "outputs": [],
   "source": [
    "set_global_handler(\"simple\")"
   ]
  },
  {
   "cell_type": "code",
   "execution_count": 5,
   "metadata": {},
   "outputs": [],
   "source": [
    "DATAROOT = Path.home() / \"mldata\" / \"sherlock\" / \"md\""
   ]
  },
  {
   "cell_type": "code",
   "execution_count": 6,
   "metadata": {},
   "outputs": [],
   "source": [
    "reader = FlatReader()\n",
    "parser = SimpleFileNodeParser()\n",
    "splitter = SentenceSplitter(chunk_size=1024, chunk_overlap=128)"
   ]
  },
  {
   "cell_type": "code",
   "execution_count": 7,
   "metadata": {},
   "outputs": [
    {
     "name": "stdout",
     "output_type": "stream",
     "text": [
      "Split /Users/avilay/mldata/sherlock/md/retn.md into 175 chunks.\n",
      "Split /Users/avilay/mldata/sherlock/md/case.md into 133 chunks.\n",
      "Split /Users/avilay/mldata/sherlock/md/lstb.md into 113 chunks.\n",
      "Split /Users/avilay/mldata/sherlock/md/advs.md into 165 chunks.\n",
      "Split /Users/avilay/mldata/sherlock/md/mems.md into 134 chunks.\n"
     ]
    }
   ],
   "source": [
    "all_nodes = []\n",
    "for filepath in glob(str(DATAROOT/\"*.md\")):\n",
    "    docs = reader.load_data(Path(filepath))\n",
    "    nodes = parser.get_nodes_from_documents(docs)\n",
    "    chunks = splitter.get_nodes_from_documents(nodes)\n",
    "    print(f\"Split {filepath} into {len(chunks)} chunks.\")\n",
    "    all_nodes += chunks"
   ]
  },
  {
   "cell_type": "code",
   "execution_count": 8,
   "metadata": {},
   "outputs": [
    {
     "data": {
      "text/plain": [
       "720"
      ]
     },
     "execution_count": 8,
     "metadata": {},
     "output_type": "execute_result"
    }
   ],
   "source": [
    "len(all_nodes)"
   ]
  },
  {
   "cell_type": "code",
   "execution_count": 16,
   "metadata": {},
   "outputs": [
    {
     "data": {
      "text/plain": [
       "TextNode(id_='1cb4de75-6b97-4818-85e0-b2983cf6930b', embedding=None, metadata={'Header 1': 'The Return of Sherlock Holmes', 'filename': 'retn.md', 'extension': '.md'}, excluded_embed_metadata_keys=[], excluded_llm_metadata_keys=[], relationships={<NodeRelationship.SOURCE: '1'>: RelatedNodeInfo(node_id='d3d82be7-0864-4fc7-a151-f3896d819d43', node_type=<ObjectType.TEXT: '1'>, metadata={'Header 1': 'The Return of Sherlock Holmes', 'filename': 'retn.md', 'extension': '.md'}, hash='d6e9156f0b85bdc691f05a7aa71118c825424240dbba396317a5198e4325725d'), <NodeRelationship.NEXT: '3'>: RelatedNodeInfo(node_id='0902d526-25c3-4b88-aa03-c0ca32c267a4', node_type=<ObjectType.TEXT: '1'>, metadata={}, hash='6ba08607b54ee3be8623afad2eda4a1324ecb912cba3eac808066d39dbf28354')}, text='The Return of Sherlock Holmes\\nArthur Conan Doyle', start_char_idx=0, end_char_idx=48, text_template='{metadata_str}\\n\\n{content}', metadata_template='{key}: {value}', metadata_seperator='\\n')"
      ]
     },
     "execution_count": 16,
     "metadata": {},
     "output_type": "execute_result"
    }
   ],
   "source": [
    "all_nodes[0]"
   ]
  },
  {
   "cell_type": "markdown",
   "metadata": {},
   "source": [
    "```python\n",
    "TextNode(\n",
    "    id_='1cb4de75-6b97-4818-85e0-b2983cf6930b', \n",
    "    embedding=None, \n",
    "    metadata={\n",
    "        'Header 1': 'The Return of Sherlock Holmes', \n",
    "        'filename': 'retn.md', \n",
    "        'extension': '.md'\n",
    "    }, \n",
    "    excluded_embed_metadata_keys=[], \n",
    "    excluded_llm_metadata_keys=[], \n",
    "    relationships={\n",
    "        <NodeRelationship.SOURCE: '1'>: RelatedNodeInfo(\n",
    "            node_id='d3d82be7-0864-4fc7-a151-f3896d819d43', \n",
    "            node_type=<ObjectType.TEXT: '1'>, \n",
    "            metadata={\n",
    "                'Header 1': 'The Return of Sherlock Holmes', \n",
    "                'filename': 'retn.md', \n",
    "                'extension': '.md'\n",
    "            }, \n",
    "            hash='d6e9156f0b85bdc691f05a7aa71118c825424240dbba396317a5198e4325725d'\n",
    "        ), \n",
    "        <NodeRelationship.NEXT: '3'>: RelatedNodeInfo(\n",
    "            node_id='0902d526-25c3-4b88-aa03-c0ca32c267a4', \n",
    "            node_type=<ObjectType.TEXT: '1'>, \n",
    "            metadata={}, \n",
    "            hash='6ba08607b54ee3be8623afad2eda4a1324ecb912cba3eac808066d39dbf28354'\n",
    "        )\n",
    "    }, \n",
    "    text='The Return of Sherlock Holmes\\nArthur Conan Doyle', \n",
    "    start_char_idx=0, \n",
    "    end_char_idx=48, \n",
    "    text_template='{metadata_str}\\n\\n{content}', \n",
    "    metadata_template='{key}: {value}', \n",
    "    metadata_seperator='\\n'\n",
    ")\n",
    "```"
   ]
  },
  {
   "cell_type": "code",
   "execution_count": 9,
   "metadata": {},
   "outputs": [],
   "source": [
    "index = VectorStoreIndex(all_nodes)"
   ]
  },
  {
   "cell_type": "code",
   "execution_count": 17,
   "metadata": {},
   "outputs": [
    {
     "data": {
      "text/plain": [
       "{'d3d82be7-0864-4fc7-a151-f3896d819d43': RefDocInfo(node_ids=['1cb4de75-6b97-4818-85e0-b2983cf6930b'], metadata={'Header 1': 'The Return of Sherlock Holmes', 'filename': 'retn.md', 'extension': '.md'}),\n",
       " 'b4e5976c-c194-4474-ae76-c38d7c671c44': RefDocInfo(node_ids=['0902d526-25c3-4b88-aa03-c0ca32c267a4', 'a7d1c166-d5f5-458f-ad3c-00357aaacb22', '5f84f9ad-643a-4471-a0b9-da874ec9fd64', '5fdfe494-4d3c-4327-a03d-ba66aed532a0', 'a4f4ba15-8592-42e7-bd60-90366d7af9c5', '19a7c907-b1dc-4cd5-b1d9-d65d3615a6bf', 'af3390d2-fc78-40b6-bccf-07c761cbffe3', '5d8b5531-35d2-4588-9ed6-248a1b063af6', '933043c8-744a-4364-95d3-0c30a218f8e7', '7c0af202-5d00-4d9f-b2c3-b4b99e4cb852', '1df9c17a-adbc-4ea6-8f60-25aeee703c6f', '815a6417-f2b5-40fc-8df1-38e4cb0f0a26', '1f290ab2-ad92-4031-88dc-c472fc73b151'], metadata={'Header 1': 'The Return of Sherlock Holmes', 'Header 2': 'The Adventure of the Empty House', 'filename': 'retn.md', 'extension': '.md'}),\n",
       " '966950f8-cbb9-427b-8a1e-73e2edf718c6': RefDocInfo(node_ids=['a7c363c2-755b-417f-a0d4-97cbb519c2b6', 'b7408416-e2d8-49c2-a4a4-b8a856b2d5ac', 'ce467177-f963-4897-b514-27599240328e', '88ea3f6a-36f3-40bf-9464-a722c0ba92cd', '60968aaf-54ae-4cd2-bb7c-c75426372f8c', 'f5bd9790-42d3-48cd-85d3-2dec77247752', '1dc04762-8ccc-4779-8466-96c716c80fa0', 'c0f0e902-0a9f-4e0d-b4a6-6945d6e9ce27', 'fb73e340-0b56-4f93-9014-ddf8cc1c078a', 'e22335df-7ee6-4f0a-833b-f6c269c8baf5', '2e83f871-ad28-468b-8f5c-404a5a4d0bc5', '4c238024-ba36-4426-bb3f-240bf662e500', 'ed954ea5-1840-41a2-a96f-e9059de511d3', 'f32039b5-d537-4b44-b7a0-9429b893e458'], metadata={'Header 1': 'The Return of Sherlock Holmes', 'Header 2': 'The Adventure of the Norwood Builder', 'filename': 'retn.md', 'extension': '.md'}),\n",
       " '6398e9ea-9857-4155-ac2a-49abd5c76df4': RefDocInfo(node_ids=['5ed73009-c931-416d-ab05-4ccb42d16e66', '2b0b81f9-d91e-4834-a356-058d802e2f97', '19a387be-cda4-41f1-b47a-cd53b572fab9', '8b90676a-6df1-4bbd-8972-be0196f9c093', 'c4acb017-b265-4e5a-9216-30e39aff114a', '4f9c8cf9-a61b-4b54-8772-db0a7e7e1e06', '3ce6891b-3185-48dc-9174-f22fc5382413', '7dd63561-074e-4496-975e-f54d1a2e3136', '5b04c00c-d260-48a5-a9c8-7d6870998b61', '11ff992a-6091-437c-8f5a-9662767331d7', '4d9353e1-4831-4364-92d2-0c58182c964c', '13a7ec40-3e8a-4024-94fa-5cd1932c75be', '2a400209-ce3b-43ed-9740-ffb960fc25e4', 'c3058c6c-2d93-4bec-9df8-f22b15d2b9d8', '0bf2a901-ff28-4b2d-8a12-7d58e9dba0d0'], metadata={'Header 1': 'The Return of Sherlock Holmes', 'Header 2': 'The Adventure of the Dancing Men', 'filename': 'retn.md', 'extension': '.md'}),\n",
       " '09e5b709-41b4-4e8d-9e5a-05ba0dd1d3ba': RefDocInfo(node_ids=['b4ad7b1e-fbd1-464e-b3e6-66abe9aa25c8', 'aee44363-c3cb-49a6-a9f1-7035eb545326', '89bc43d3-e88d-4d9c-88f2-ecfccef2f4da', '05e05fad-7bcf-4fe5-93e7-cb340cbbb91b', '8801dfe7-84d1-439d-a317-859e7564dec3', '85695f0b-e99f-4c6a-a5da-4de2788f7f3f', 'd6363951-a83e-4e5e-b70c-c962931015bd', '9937ef29-bf38-4cb1-a32a-e3f33e554a36', 'ef93fe95-5800-49e8-b945-d27695e36c01', 'efa1b153-5781-4984-81b5-f8971a7a0e9f', 'baac8f2f-f2bb-47f8-9117-6dc4c7d9d54b', 'ff8325cb-3cb1-44e4-8c82-514b2a42d571'], metadata={'Header 1': 'The Return of Sherlock Holmes', 'Header 2': 'The Adventure of the Solitary Cyclist', 'filename': 'retn.md', 'extension': '.md'}),\n",
       " 'b67427de-ea2f-415f-863f-70fb58600cc9': RefDocInfo(node_ids=['48106189-c070-44e8-9038-ed6e46af4b96', 'cf67f8df-fd78-42db-9f64-30dc682fc7df', 'b52efdcc-255e-426c-a093-f8f2266bf8da', 'a0837d68-1e53-45c8-9db7-ed86b62964d8', 'be148d2f-3c03-474c-8ca5-a8a58a3b3067', '91eb0a35-d0e9-43be-a9ed-12a5e545f6e1', '4136fee4-0681-4ae2-9e7c-4664d69507cc', '6167eebc-0f3c-457d-8afe-aeb826498eb2', '03e6a8b5-f3f4-4562-84d8-e2115edc1078', '6068c50b-471b-47a6-b335-d28cc794afed', '49529d44-b4f5-4497-8ed8-c64cb58b1071', '9efcadf0-0e69-4633-b8c7-e6c21e8414c4', '20833d3a-4124-4c26-b2d9-0177852814b5', '573c3c25-4aed-4195-8515-20717de48267', 'a2275c36-c3a3-411c-a259-8e9700279bb1', 'e07f78e8-0eea-41e8-ac6b-7c021554ef68', '12fdbce7-ce40-4803-8d21-fbe329c31d1c', '77fdce5f-e28c-4c30-845b-53478e36edbb'], metadata={'Header 1': 'The Return of Sherlock Holmes', 'Header 2': 'The Adventure of the Priory School', 'filename': 'retn.md', 'extension': '.md'}),\n",
       " '177566a9-be20-412e-9894-eb472cf049d8': RefDocInfo(node_ids=['c002d08a-ec92-4237-ba23-add15760eb2d', '1a9cacc8-d601-4e77-9bc8-87f2f2a04297', 'ffaad136-6990-4a4d-93a1-7c8d437c5a65', '6ac7b85f-e015-401d-9254-b17a95a06f00', '8b72121a-b04a-4d6a-adf0-832fbef2f6b0', '6f9a7268-6024-49bc-b838-27bbe2803b77', 'ecee9c7f-1479-495f-a4d9-599381010ab4', '26108866-49b1-46e9-b08f-11daefef6c71', '26237e9d-669a-4155-bf35-9b787d576d58', '427a0e86-1f72-480c-a931-1e1bec695f76', '54c499c0-6d05-4287-a9f6-29f2c1bd19ac', '7fa85807-9d72-4b90-9cc7-98b582b53765'], metadata={'Header 1': 'The Return of Sherlock Holmes', 'Header 2': 'The Adventure of Black Peter', 'filename': 'retn.md', 'extension': '.md'}),\n",
       " '1462474d-5b54-46c8-9915-73ff97829844': RefDocInfo(node_ids=['318b4c27-ddc5-46cb-b5ab-90ebc2682594', 'b7ec1be5-9ea2-40fb-b4b4-b5fac1963d22', '40260c2c-367d-406a-a7de-be10aa6fd20a', '0a7c9d0b-2c3f-4822-95f5-89794ad28170', 'f1329be1-bb1f-4f69-9044-d584ea9b63dd', 'b824ade7-85cf-425c-b16e-9e76314f9969', '65811eb2-7716-42cb-885e-15522681aa76', 'c3461d9a-bf5f-4346-a148-299d2519a770', '59edeced-ff2c-4016-9820-a0e46a3d3df5', '8bb80c1d-21fb-43e1-a70e-7ab913c855c1', '27100846-d9ad-4521-b045-08f75aaaef37'], metadata={'Header 1': 'The Return of Sherlock Holmes', 'Header 2': 'The Adventure of Charles Augustus Milverton', 'filename': 'retn.md', 'extension': '.md'}),\n",
       " 'd9755a50-52cf-4bb7-9ccd-a60580028ac6': RefDocInfo(node_ids=['1490ce56-734d-4f40-9db7-9f307dbb9e5f', 'a2568a49-fdad-4780-87f4-586a963e7d13', '78d2983e-613d-441e-9a57-c313f894e5a4', '36900e20-4904-4798-821e-c5715e29e3e5', '76dd13da-ac3f-4007-8f37-df6e039a4911', 'b8df8e85-3908-43e1-be91-b150b6d87273', '797f6d26-d4c0-473b-b275-14207f606e55', '277ceed6-78e9-4487-bf90-091fe8f7fef8', '2af04d32-e24a-4027-9b57-5725100645eb', 'c4820f2a-607d-48fd-86b0-ad5eb6881338', '17385c7b-f1b1-461a-88d0-acc0d8021597', '13da0af3-a6b8-44b7-8976-fbd2d4748dc4', '2ca2f027-03cd-44c5-b6d2-e60a095a0b9a'], metadata={'Header 1': 'The Return of Sherlock Holmes', 'Header 2': 'The Adventure of the six napoleons', 'filename': 'retn.md', 'extension': '.md'}),\n",
       " '819052d9-992c-48fe-be93-dbc2716b15d5': RefDocInfo(node_ids=['b75cbb3d-847a-4778-93e3-fd022d86a2e6', 'd8e5eb58-b873-4114-9919-ba8b6bfa1baa', '92709edd-322b-4355-8965-cf5337b29538', '4c9e2a36-9593-496a-be6d-6ad20fe9a787', '538046be-a4d9-4354-9569-ba0cbb55f327', '797100a6-60b9-4cc4-8412-7cf0027257f4', '80a498b8-2d08-40b8-8a66-bf7a88b68031', 'd0bbc7ca-38fa-4fcb-a5ea-6c09ead76cd3', 'ff583296-8e97-4da9-8583-18d37aa8ea65', 'b007212d-f262-4514-80f0-c7e30bd0902d'], metadata={'Header 1': 'The Return of Sherlock Holmes', 'Header 2': 'The Adventure of the Three Students', 'filename': 'retn.md', 'extension': '.md'}),\n",
       " 'af29d246-a461-42fd-a683-80da31b35478': RefDocInfo(node_ids=['8a41a6e7-83e2-4e8a-b170-9bfdba0231e0', '1bba39e7-b77e-4bf0-839e-2e506ba155fe', '8d5e6af8-e62b-47cd-878c-271209e2b914', '1410f92b-4aa5-4004-b4a8-dd9b99fd467c', '13f9ccf6-9e74-4f26-ae1b-a2c8e34bc302', '4db06b28-08bb-4468-96a8-e948c0f41da7', 'eca13237-ddd4-4e60-a33b-63bf9316a513', '7e75d707-eab6-410c-907f-79e7acb35812', 'd5ea2fff-4e70-4aa8-bb59-c1cde45b1935', '5a442f33-96a6-4ef0-8859-e0f98a91d687', '38bcd62f-ebcb-4589-a56e-de1ad6cc8124', 'e64c4cc3-b7fc-4f9c-9d6f-5e0502acf924', '716ba6cc-30f9-4025-8c7f-d3db78617673', '1f564460-edf7-4ce3-bc30-9097a33c220d'], metadata={'Header 1': 'The Return of Sherlock Holmes', 'Header 2': 'The Adventure of the Golden Pince-Nez', 'filename': 'retn.md', 'extension': '.md'}),\n",
       " '029fcb8e-76f2-413f-8694-21ebb505741b': RefDocInfo(node_ids=['ed1e33d6-4159-4227-afe5-252069315092', '4891ccac-3a54-4b38-9aaa-53e456c84991', '85fe632e-714b-4037-acb1-350ed4f8c339', 'fc03b274-c7c3-4536-9ab9-3adc3a81af0a', '7a0c1018-fb7c-48a5-87ab-0c2998ed5332', 'a7705b12-e65b-4ff7-8e97-7ba30527fe07', 'd51f0f02-157d-42bc-a0b9-17b280fa7ddd', '1b863641-7107-4c12-a3be-762d16133917', '5da69feb-aad0-4927-a8ac-ed6feaf4dafb', 'f792e72c-4316-40bc-9951-93d6e76ecefe', '6f446724-8ce7-4cc1-abce-279746813611', '4a9fa2fc-7b57-4445-9c3f-c78facaf582c', 'e57ae8e6-9664-4bbc-b30a-1b623050fb30'], metadata={'Header 1': 'The Return of Sherlock Holmes', 'Header 2': 'The Adventure of the Missing Three-Quarter', 'filename': 'retn.md', 'extension': '.md'}),\n",
       " '69f407be-e1cc-457c-a827-148755cde61c': RefDocInfo(node_ids=['3b425636-ada0-4a06-839c-23fb0e5a559e', '6e5be00b-64cd-4b47-86db-f4487d36ce8a', '9a54c596-6a40-481e-a19e-7b53aad8717d', 'f1ab3f56-1c1c-474e-a57b-8341b6880785', '6958c818-cd9e-4843-ab9a-1cbcb14609bb', '5e6efea0-e5be-40cb-8662-05d1d170c41f', '96c0cb3c-0167-4157-9c0e-685701da0397', 'dc03a048-d269-4d86-8e4c-27c18e464d3c', 'cce5345e-af1b-4ec4-9666-b4a874f7a22d', '0371933d-0cb1-482a-a818-3bb7bee57e36', 'd1e28eef-aa3a-4bad-baeb-8f901f196699', 'ca29ea6c-b1b1-43a6-8878-d8d75c3b9bc5', '06e804a8-e2ee-4bfc-8827-22612868865f', 'e53f21ae-83fe-433a-987c-0279e253c2b7'], metadata={'Header 1': 'The Return of Sherlock Holmes', 'Header 2': 'The Adventure of the Abbey Grange', 'filename': 'retn.md', 'extension': '.md'}),\n",
       " '02f5f50d-89b1-483f-8481-a278c52b3634': RefDocInfo(node_ids=['462c54a8-a685-45d2-afc1-f6f9135ba8f4', 'bf482846-b68f-48a9-9680-e4a52919d254', 'f1d9433d-690e-47da-9f19-23350bd11c1d', '7087c572-eb0a-4ec5-9726-09348f057a14', '8c0008a1-57e6-451b-99f3-670f9652d023', 'f871ba15-310f-4814-a88a-75d4340fee36', '75f48e08-bfc4-40ec-bfa5-7446e64929cb', '521cef8a-7f17-4f3f-bcad-7159071e789c', 'fae67d09-c8f6-496b-9579-3df0896924c6', '34a54dcd-7830-4351-bfd0-81d0ddc28fe3', '19e59dd2-6104-433c-ba65-0a4186e6dd9b', 'c9d4e77e-6fd9-4cb3-9aa5-150a6b7651fc', '8f616ecc-8743-4a1c-a368-547f2d65c561', 'b844a65f-66f2-481f-bf51-410cc0cc3081', 'a6abbb7e-dd4e-437a-a64e-161dcf09b69c'], metadata={'Header 1': 'The Return of Sherlock Holmes', 'Header 2': 'The Adventure of the Second Stain', 'filename': 'retn.md', 'extension': '.md'}),\n",
       " '56ba8b04-2e9a-4f49-8ecb-eb395f3bee25': RefDocInfo(node_ids=['b544b634-3a1f-4843-a320-78892de5cb18'], metadata={'Header 1': 'The Case Book of Sherlock Holmes', 'filename': 'case.md', 'extension': '.md'}),\n",
       " 'e93a352f-b2df-4c44-80d8-470bee0f78e8': RefDocInfo(node_ids=['8b6c4058-8a0c-4e82-bcc1-f5e1328bc0bb'], metadata={'Header 1': 'The Case Book of Sherlock Holmes', 'Header 2': 'Preface', 'filename': 'case.md', 'extension': '.md'}),\n",
       " 'cda90940-3d44-4f2b-bdfc-425c5c98fc07': RefDocInfo(node_ids=['e81a24f0-0aef-41b4-b1f4-2dc65fe62d2a', 'd1855e70-1c1e-4b01-ade2-405dd284cfa7', '5ddac4a9-f9ed-4d34-8f11-b6b877138dfb', '3b012e01-f9e1-4da2-92d8-74a9b038c525', 'e36994e5-d211-437a-a5c4-ed60192a67a3', 'ec9c201f-cf5f-4a17-91f6-30ca6bed6fa2', '6b7f9dfc-8c2c-4e65-aadf-857fecd032df', '40843b82-ad2e-4470-ba3f-b1ba944b591e', 'd9327197-0b8a-4f70-92d8-88c9df36169d', '34a880e7-e499-4319-8896-ebf30d542183', 'ad17d95a-2a7d-467a-8177-6ce69a23039a', '9e24e7cb-0e81-4a86-b059-26f24b2fdd3b', 'feec56d3-0a28-4131-b7b9-a858992ed9c2', '4a8f5287-8c06-4fd3-9731-29cd596fb855', 'a0ac8109-2f9f-488e-9ea1-296ae9d7091f'], metadata={'Header 1': 'The Case Book of Sherlock Holmes', 'Header 2': 'The Illustrious Client', 'filename': 'case.md', 'extension': '.md'}),\n",
       " 'e4c402b9-c083-4610-92aa-4e8765db926e': RefDocInfo(node_ids=['f8e09b8c-c1d8-4015-9d5d-3481ec957ded', '3d548689-9968-4719-a62c-6b955b95a5f1', '1642b6cd-eff9-4f4f-a4f1-909491c5825d', 'b5fccfab-3788-4692-ab37-51d379c722b6', 'ab616d95-5c9e-4472-bf7f-50da4a57ab95', 'c01207bc-0ab1-4db5-8079-199c00f6acd2', 'a1a59646-f2f7-4c60-9428-4bae09e1e23a', 'ae800300-f472-4b58-b158-c35d879a6af4', 'b8ed1af2-e00f-4610-b6a5-d2f484172b01', 'c4ff5aae-3292-4a3a-9317-1d5c3a3e34ab', '36bd2353-16dc-4007-afcf-bb1594559c7a', '62e4cd99-3efa-4262-b0bc-50e88c144073'], metadata={'Header 1': 'The Case Book of Sherlock Holmes', 'Header 2': 'The Blanched Soldier', 'filename': 'case.md', 'extension': '.md'}),\n",
       " '98453e8a-8fd2-4ad7-9de4-57bc3d730661': RefDocInfo(node_ids=['0a0f9bc7-73e2-4166-b536-6bcf8a26a547', '07b74bc4-dc22-4a22-9b9b-89c787574d7a', '21cecde4-7859-43e7-8c2c-7318aedbf038', 'b2a750ea-52fe-4035-b361-9f54e66f4982', '4a09cf3d-f46a-49b3-89c7-3b110210dff7', 'ce5b694c-accd-4858-8f45-ee1779a42b17', '3e2d1775-4521-411f-a190-af2376a7d823', '9610b5e9-5b79-453c-ba6a-a29983c1bfc3', 'f8bf24ca-2d48-4ec4-889a-74a852f3d1a9', '062ba4d2-d5ef-479c-8c85-0230a7cd18e4'], metadata={'Header 1': 'The Case Book of Sherlock Holmes', 'Header 2': 'The Adventure of the Mazarin Stone', 'filename': 'case.md', 'extension': '.md'}),\n",
       " '540c37f5-2842-4a99-a6fe-e4dabdbc57d6': RefDocInfo(node_ids=['a9776622-1110-4ba7-93cf-45328bed436b', '20cf253e-f25a-4244-b057-dd80f35cf0b7', '1651ad53-77d4-48c2-b8ed-bb41c7145f6a', '945a2c9f-6f82-461b-974c-651ef40c7c18', '6afbdbe9-7b37-4ca8-b80a-e15b63aba1d3', '8ed003e2-05e6-401d-8742-2ff99dfc29a1', '89f104ca-541d-4ec3-863f-f60342a4bab7', '362ccc54-a412-4c84-8267-acdd19c510b0', '34989170-fe89-4770-a9c3-669a7f07a738', 'cecab694-f856-447c-a2e0-8003b4e99e60'], metadata={'Header 1': 'The Case Book of Sherlock Holmes', 'Header 2': 'The Adventure of the Three Gables', 'filename': 'case.md', 'extension': '.md'}),\n",
       " '59b6bc2f-204a-4307-9333-2d572c3bc118': RefDocInfo(node_ids=['8d053035-18cd-4c58-b48d-80ac89bcd338', '34652e8e-9e6f-49ae-898a-eb6dafc79d50', 'b6d576e2-f7c6-4bc4-ba6f-6a5a5cfdd107', '7613959e-7e62-49cb-90ad-e939cecff1f0', '77a6658a-2276-439d-bbb5-02c121e1ee2f', 'd09ea129-9fb4-4095-9453-4cd37dca696e', '2e0b065b-c25e-4529-b331-7db097eba53d', 'ed1d9f6c-0521-4430-b7ea-f35d2e55fd56', '8ce7491f-2a9d-4d08-8cb0-cf46c3852d86', '350b06ca-dd1a-4c48-ad8b-e47f58d1e581'], metadata={'Header 1': 'The Case Book of Sherlock Holmes', 'Header 2': 'The Adventure of the Sussex Vampire', 'filename': 'case.md', 'extension': '.md'}),\n",
       " 'ca7e28ac-3ef5-4ac9-b85e-72d6cbc18332': RefDocInfo(node_ids=['f6ee4fdb-54c1-4949-88d9-971ab65eccd0', 'd396f908-96e3-4d4c-b95e-6503cfb34ba0', '782705e1-c297-4da1-a42e-6af0ad80f80d', 'f0ff3ec0-7fc7-46b3-ab98-f5ace2f4daf6', '654da41a-9774-4748-b896-155f50a45799', 'b2fa9fd6-b4c5-4c41-a5c1-1d0f7ada6786', '22137198-8c73-4e60-8da5-5ef164282440', '23696ac8-c8a0-4235-9be7-035b31ee1c51', 'd84f8e8b-b8f1-4eff-a557-f322a7983e2f', '516aaa6c-98e5-4c8d-bd2b-3e49206165bc'], metadata={'Header 1': 'The Case Book of Sherlock Holmes', 'Header 2': 'The Adventure of the Three Garridebs', 'filename': 'case.md', 'extension': '.md'}),\n",
       " 'b2d935a5-868e-4bb2-b00a-daa7e8096f74': RefDocInfo(node_ids=['ac310373-6022-4650-a32d-feeb8c9f5136', 'f7f4187e-c008-4bda-a9b5-90ec76e786cc', 'ecae4070-d1c0-42bd-b1b2-838c29a8d534', '95b3eaaf-df3a-4e2c-afc6-e773e953f635', '21073e96-07f5-413d-b9c9-37d087a9a7ed', '6665eddd-20e0-4230-9812-63304dcd5f0f', '806bc80d-2915-4460-a076-5690f4a918bc', '00dab0e4-de58-494a-8ec7-47f08e8a88b8', '4deb40eb-6ea5-4630-92b1-80fabace9b50', '7b2b234f-bef3-43b3-b1dc-f8fca0ae64bb', '53d59e0b-eff7-492e-94c6-f2f369f646a7', '94bd8b3a-692f-48b1-b6b4-633533037a5e', 'b9aa1033-8291-4b8e-ba0d-20c92b11b4c5', '946dad09-76d2-458d-8cb1-dcbe25a4bf76', 'e3f92e20-c73a-454e-b8db-1e5e1c4f1eeb'], metadata={'Header 1': 'The Case Book of Sherlock Holmes', 'Header 2': 'The Problem of Thor Bridge', 'filename': 'case.md', 'extension': '.md'}),\n",
       " '47834ad2-ad48-4795-90a8-62b77c039283': RefDocInfo(node_ids=['7378ca3f-804f-401a-88f1-da6029e6c95f', '2190a309-dfde-4264-b7d6-2edbc5e534fb', 'c978c4d2-1e6c-4d4f-8360-96fcf490056f', 'b283e7b7-e650-487f-bb7f-388e1c45bc3e', 'bc0f3e67-90c5-4f0b-9922-dc7b88b9b0c7', '0e24c041-463f-45fb-9264-f67696b4ab74', '11f968fd-a323-4479-984b-1f6e1e6f032c', 'b870ca5d-56f7-46c1-973c-fda54ffb278b', 'db820a8a-2ccf-4cff-a439-b634362ce0ef', 'cf7a3692-f67e-413b-8e3c-dace16cdc724', '6b9eaa00-c2c5-43be-818f-7da5f420fb9e', '4b971e47-b698-4cd0-a8de-5cfe6d838528'], metadata={'Header 1': 'The Case Book of Sherlock Holmes', 'Header 2': 'The Adventure of the Creeping Man', 'filename': 'case.md', 'extension': '.md'}),\n",
       " '0026d884-e775-4ab5-8841-cf6444665593': RefDocInfo(node_ids=['bf5b089a-ee20-4b3d-959d-a8487b99cff6', 'f3fc568f-b298-4db2-b6ba-5b7774416620', '3607991f-5c47-4755-ae3d-205d0a78bc50', 'b6338bec-5512-450c-9fa9-3c9f8217e0c0', '94319952-4cb4-4817-b89d-e1e615d4593e', '8f9dd27a-229a-4921-88a2-4750ab5874b3', '6c67ba25-5f15-4bd6-b47d-524bd553fe41', '340b64f3-60af-4635-96e3-2e322cbf14a3', '02693ab2-a1e9-46c7-9d4a-9c29ee7a4866', '9c87a2bf-960b-4ad5-8296-a2787ece2e6c', '2b1a6568-84f6-4125-9971-090d48909fb6'], metadata={'Header 1': 'The Case Book of Sherlock Holmes', 'Header 2': \"The Adventure of the Lion's Mane\", 'filename': 'case.md', 'extension': '.md'}),\n",
       " '43775f88-f7d6-408b-8984-373215d8eb6a': RefDocInfo(node_ids=['c74c2063-0663-4cc6-a99a-e990813a007a', '436e4198-a597-493b-b28f-1586f337821a', '31c26403-0375-44b9-ab0f-a1e1f571e2f3', '145ef74e-1c64-4db4-b0ef-e9bdf602a314', 'e8b7824c-b926-49d1-a2a7-dbf59e6e85f6', '8d69c2c0-4a45-4832-a3b3-76a87cae6c1e', '1fb261b3-c2c7-4acc-b7c3-b768bd38c9aa'], metadata={'Header 1': 'The Case Book of Sherlock Holmes', 'Header 2': 'The Adventure of the Veiled Lodger', 'filename': 'case.md', 'extension': '.md'}),\n",
       " '694d7a02-e9c1-4493-b46a-4daa6b61d82f': RefDocInfo(node_ids=['7445eef4-c2f7-439f-ad4c-a8d4624f1ca4', '1c38ddb4-1254-4dd2-b338-506aa4674b7d', 'ad6c46f9-45f0-4cb8-ad98-da90771c8853', 'b0b54d4b-0cdd-446d-ac40-3cb2a97fd72f', '5ad8a051-69a1-44cf-ac4b-669b1035d135', '62b3efb2-357f-46b5-8209-79a53c013ec8', '41038d90-c056-4d08-9668-d050f64c783c', 'b6db1253-ca15-4cb0-a7af-24ecb1fc90fd', '1c4b2c66-7123-4460-b8e2-8b9a06bd181a', '8bdb57a9-2f20-46a5-ad24-5ee90216757f'], metadata={'Header 1': 'The Case Book of Sherlock Holmes', 'Header 2': 'The Adventure of Shoscombe Old Place', 'filename': 'case.md', 'extension': '.md'}),\n",
       " 'b4e75a1e-2a86-4031-8c14-c670dd4fc36d': RefDocInfo(node_ids=['c5475757-feb4-419d-977f-004f51015b50', '0a3dae97-a36b-444c-a145-d2ca87129441', 'f8c5f226-36d2-48ab-806c-cf482c853916', '37ac30a2-9bba-4425-aba9-921ed8fcf158', 'b9033d3b-7e48-4e61-9c6b-fc00f34f1472', 'd43c3732-d1cc-49c4-a4e1-de654f7129e7', '9634a64f-e7c8-461d-a5cf-22f7a3887588', '8a7ef60d-5ace-47f1-bbb8-0ed2de67dd65', '74cf644d-55ad-4f41-a234-118128bcdd95'], metadata={'Header 1': 'The Case Book of Sherlock Holmes', 'Header 2': 'The Adventure of the Retired Colourman', 'filename': 'case.md', 'extension': '.md'}),\n",
       " '69eb2a15-3470-4d36-aeb1-7d27d12ea55c': RefDocInfo(node_ids=['76bea020-c26a-4017-b59c-9362816d6a0f'], metadata={'Header 1': 'His Last Bow', 'filename': 'lstb.md', 'extension': '.md'}),\n",
       " 'a9010d1f-c986-4708-95e3-919c9819aed7': RefDocInfo(node_ids=['18b2255d-1752-4fc6-b9dc-c4fda8207e50'], metadata={'Header 1': 'His Last Bow', 'Header 2': 'Preface', 'filename': 'lstb.md', 'extension': '.md'}),\n",
       " '7efa62ef-dbb2-4e32-b6de-23b3dbb89109': RefDocInfo(node_ids=['2be81800-6268-4e00-ba8c-afb7f83c1906'], metadata={'Header 1': 'His Last Bow', 'Header 2': 'The Adventure of Wisteria Lodge', 'filename': 'lstb.md', 'extension': '.md'}),\n",
       " '7d765f99-7564-41a2-a8a6-9ecb5bc3b307': RefDocInfo(node_ids=['c71c392b-a915-49ea-bb12-5df968a5afaa', '1eaf8673-52a0-42ae-945b-1276190cef50', 'e01fd795-64b2-4c79-a5ed-4f8a45f08cdb', 'dc2e397d-7517-4f3e-851f-a6722baf22d0', '58733e3f-c0e6-4707-90a8-ff2d446282e2', 'c46fb78d-0b5d-4401-95fd-0754070e3ee9', '2e8759c7-b486-496f-935c-89d2f1b70c36', '1e909178-21fb-4895-9470-19cd50fa7b16'], metadata={'Header 1': 'His Last Bow', 'Header 2': 'The Adventure of Wisteria Lodge', 'Header 3': 'Chapter I The Singular Experience of Mr. John Scott Eccles ', 'filename': 'lstb.md', 'extension': '.md'}),\n",
       " 'b9d5f1e8-cf01-47c8-8afb-cb906e97917e': RefDocInfo(node_ids=['dca6409c-0c9e-49bc-bc5c-3aa74dcb4957', 'a45f6596-9ea9-4037-b911-9801e543e163', '2d405d74-0f53-4623-9130-1d9563163993', '47ad7dc7-6b11-4244-8b79-9bf836a30a98', '0c161160-3299-4d65-a846-2c23720e4eb0', '98b04f2d-cbae-465a-ac44-d9934e596415', '6290c47d-201e-4759-912d-e9f61135d3d5', 'ca49535d-7010-4b90-b926-bd6db6a81318', '687513cc-520e-45fd-adac-09350e2890cc', '10ab2cbc-e583-4f70-b981-5d881261eddf', 'eb39200c-305f-4f06-a668-62147715d9f5'], metadata={'Header 1': 'His Last Bow', 'Header 2': 'The Adventure of Wisteria Lodge', 'Header 3': 'Chapter II The Tiger of San Pedro ', 'filename': 'lstb.md', 'extension': '.md'}),\n",
       " '132e7b86-6d73-4e49-87a6-8b8f40d006c2': RefDocInfo(node_ids=['fcbe9a7d-0103-4f48-a51a-fd3eba1a619c', 'b284c6c3-f26f-499a-97a2-07c3ad432193', 'dd5e2df0-eec7-4c96-a351-8218fa1cb6e6', 'c1178f48-aab0-4433-8254-9456f4dd94d0', '7cf9892d-1850-4fba-bbec-b067c8917178', '2d4bd6af-2866-424d-9751-188a9b24480a', '09e1acf1-58da-4a30-a958-242f5a8cfa44', '66727886-59d6-4632-8b10-6522ef494a92', '15c98c02-2793-48a1-b52e-b7111b7fc0bf', '121bc955-0831-4ab0-9825-a3b02e30aee1', 'c5cace7e-4e48-476f-b69e-a275d7a93655', '7373808c-9cc1-4462-af8d-35eb0deb77ba', '987a681b-a731-4919-bb85-e8d40a0eb48e'], metadata={'Header 1': 'His Last Bow', 'Header 2': 'The Adventure of the Cardboard Box', 'filename': 'lstb.md', 'extension': '.md'}),\n",
       " 'f62bc580-ad14-4467-90fa-b2b4de7ec659': RefDocInfo(node_ids=['41f866ec-fdcc-490b-93d4-4343334043ee'], metadata={'Header 1': 'His Last Bow', 'Header 2': 'The Adventure of the Red Circle', 'filename': 'lstb.md', 'extension': '.md'}),\n",
       " 'b9d9ca4a-a949-4bba-9ecf-face6faffc21': RefDocInfo(node_ids=['3a6c3d62-42c3-4dc3-be08-db497d9de05e', '55a6d7fa-b015-4dd6-98b3-963d8552be22', '15f5897e-5558-414a-abcf-842f5a7cb926', '8826ec81-61ff-4fdb-b881-c57ce702f743', '89e92f48-c39f-4298-aeab-2733e81e7134', '0f41c6dc-393e-47e6-bd7a-2b30060046b9', 'f60029cc-5503-4c0c-b32f-72f31266690a'], metadata={'Header 1': 'His Last Bow', 'Header 2': 'The Adventure of the Red Circle', 'Header 3': 'Chapter I Part One ', 'filename': 'lstb.md', 'extension': '.md'}),\n",
       " '9a0901d1-9895-48eb-8318-d3577430a2cc': RefDocInfo(node_ids=['8bc602b2-941b-4975-94f8-bab6351fd7d8', 'e55e7f1f-f478-4327-806b-4505e17ae647', '51b71acc-0d1c-44ac-af7b-bfa3f6e105b6', '12a01eb3-3766-4165-b1aa-4d6c59830ea8', 'cc0f388f-65b5-433d-8366-cb6b7ed2f02e', '40158570-013f-41db-a53b-dceacc98d9cb'], metadata={'Header 1': 'His Last Bow', 'Header 2': 'The Adventure of the Red Circle', 'Header 3': 'Chapter II Part Two ', 'filename': 'lstb.md', 'extension': '.md'}),\n",
       " 'b81de712-63b8-4de7-a930-1deb9c923639': RefDocInfo(node_ids=['c93a6bad-7ff9-4be3-bc0e-206b58993c69', '671d5ebf-bf93-45cc-ae92-c256214f91f9', '49c7da5d-c08f-461f-8e5a-3b92be5ebca7', 'dec3f9e3-e8c1-4ba9-bc20-c543562b4d5c', '5367c0ef-d721-46cc-8981-4a1512627306', '8e8b0ecd-4f11-4551-87f2-9ca118d2835a', '8a35c676-dd55-4236-b3ed-2ef027b0f3c7', 'a8456597-923d-4b6a-bd6b-50f8b093a052', 'b4c48d4c-7ad7-4026-98fe-c338cbe0be68', 'bb08ace5-3828-4c37-87c8-e9e33439ea43', '65287614-e4ee-4003-abb5-c481caf11716', '02d771c7-28d7-4303-a07e-96a5b14fb45a', 'a5afad09-fbd4-4333-af4c-7a4e9ca72abf', '2635daed-df55-4176-85c3-04a903b2f00a', '44cf0e34-6248-4cb1-9419-9052b8caf17e', '8f9f610f-80ba-4bc9-a49a-f6ee32263009', 'b2f09c3a-71ff-4eb4-8f26-6a15e41d68b8'], metadata={'Header 1': 'His Last Bow', 'Header 2': 'The Adventure of the Bruce-Partington Plans', 'filename': 'lstb.md', 'extension': '.md'}),\n",
       " '7fa48dc3-d27d-48c0-8be4-ded2cfc72768': RefDocInfo(node_ids=['e5de1994-f058-448c-a0a5-50470c21de30', '33133e4f-d42c-4739-aaa9-99cacb613afa', 'ced9fc34-99d4-4e12-a204-b1cebc9fa311', 'e11b21d9-ed54-467a-95e9-be09b929d223', '00a4c99b-e320-4ccb-8a1e-48b7b2bc436c', '937da398-4996-47e1-a1b3-5378bc132e08', 'cf7f49a1-f38e-4317-a19a-9abfce8c6e6c', '96f7e1fe-744b-4b08-bf14-2a020175288e', 'f3a73505-d212-4a5e-9594-099e08210201', '6048d3ac-543e-4904-a0c5-757c656cf845'], metadata={'Header 1': 'His Last Bow', 'Header 2': 'The Adventure of the Dying Detective', 'filename': 'lstb.md', 'extension': '.md'}),\n",
       " '941e5f67-f3c0-42e6-b014-47c11e8c3f7c': RefDocInfo(node_ids=['e082bf29-e7b4-4bae-84a6-cde7cbe7ed2b', 'a30d253a-3eb6-41f6-9f53-bb6d053fd22c', '29cf2991-1f52-4961-9a3a-a43d2b0c81fb', '39790cde-5613-49e3-9da1-d48ca9c88e24', 'ff6c07f9-41c9-4042-8be2-795b9b4c6e37', '94c4d5cc-ed80-448b-ac68-c24dcefe456e', '528b0cb9-49c0-4ffd-81c7-0d908150fc97', '9bcd8bbd-3b47-43c3-8bf7-fdbd42a4b023', '3c3f7d36-ecda-4721-8f22-aed6e0ae1ad5', 'b6a18a70-c253-4089-9ffb-748343d9cec1', '36cd07b6-6939-436a-bdb7-e9feb4862c09', 'ad72b8e1-8cf8-453f-aeb2-8b1f6414d5c5'], metadata={'Header 1': 'His Last Bow', 'Header 2': 'The Disappearance of Lady Frances Carfax', 'filename': 'lstb.md', 'extension': '.md'}),\n",
       " '22a57cbe-bb36-4de0-bbde-862793d01391': RefDocInfo(node_ids=['2cb42da6-04cf-4ab5-b454-fb94f548588a', '9fb198aa-cff8-4759-87b9-83dcc837b8ac', '088dfbf4-4b32-4514-a1fd-4d1ae8d7ac73', 'f226d937-2410-4edd-8119-a1208cb752a9', '3abad4da-2caf-43b7-93a7-cf8043f960c9', '77847e68-d19c-4332-aec6-b57aed681d95', '0f0ced1e-6c78-4304-a44f-a607f9083f1b', 'f7be61fb-6377-49ff-8812-c3565fa14097', '90f5d504-37fb-462d-bcc7-a130daf6bbb8', 'a513a3f0-98e2-4f6c-960e-93822475732a', '0fba065a-e691-45ac-a82c-bff444fa3807', '89cad01c-4f78-445c-9993-8c458a6acce4', 'd3e5c635-cb43-486a-a861-937d066756a1', '69922991-356a-4f0b-8f30-42642b4ced81', '95e54c3e-08fc-4fd1-8fd8-82d1817bd012'], metadata={'Header 1': 'His Last Bow', 'Header 2': \"The Adventure of the Devil's Foot\", 'filename': 'lstb.md', 'extension': '.md'}),\n",
       " 'd9c0ee5b-3cd0-4847-aa52-e1bdc581f95a': RefDocInfo(node_ids=['a7b6c089-8c0c-4e2e-8ead-729eef92b98f', 'c1719a44-3157-4586-86fa-9cb3547c5752', 'e05a0636-7295-4ed6-9d53-b86f2f445ec4', 'dfb494e8-955d-41c6-9f34-350e299b9b27', 'f7db9219-4c05-4152-b2ce-525b99eda579', '2a6c1c30-0a51-40f3-abaf-6fb8bdab4c3f', 'e99d755d-e6d4-42b0-8425-b97efebdbe63', '4ddc7495-7fe0-4a4f-ad02-d7f1f36250c8', '7a6572fb-55f3-4a9e-ab11-fa173eecce76', 'd796cba7-b47e-4442-a9c0-0e60d0014678'], metadata={'Header 1': 'His Last Bow', 'Header 2': 'His Last Bow - An Epilogue of Sherlock Holmes', 'filename': 'lstb.md', 'extension': '.md'}),\n",
       " '663e9965-baaf-4dd6-b453-866e03acca8b': RefDocInfo(node_ids=['2ca96600-10ac-47df-8ad7-b7f1051c6a14'], metadata={'Header 1': 'The Adventures of Sherlock Holmes', 'filename': 'advs.md', 'extension': '.md'}),\n",
       " '8e2f2916-fe74-4d84-b6b8-909ea02190bc': RefDocInfo(node_ids=['a395d3c7-d69d-402f-a802-cbce4f86763f'], metadata={'Header 1': 'The Adventures of Sherlock Holmes', 'Header 2': 'A Scandal in Bohemia', 'filename': 'advs.md', 'extension': '.md'}),\n",
       " 'b65fce24-ba73-486f-9aec-541f43e8a6cb': RefDocInfo(node_ids=['33a6cbff-5f85-4935-9054-df83cea2f969', '462ea890-5aa2-4bb1-b846-07765189ab13', '8b1b665b-17fb-4dba-b870-a97a1ae81a3a', 'ba22d5a1-7443-4d80-a34b-47e228c3356a', 'c9a28a64-db51-4fa9-b56f-48139d6ba7c4', 'ae470a91-a356-4753-bcdb-2029ff60e992'], metadata={'Header 1': 'The Adventures of Sherlock Holmes', 'Header 2': 'A Scandal in Bohemia', 'Header 3': 'CHAPTER I ', 'filename': 'advs.md', 'extension': '.md'}),\n",
       " '2e06d797-ac14-4034-8258-cab9ff9ac3b4': RefDocInfo(node_ids=['64e1ec4b-2ac9-41df-ac19-150eb1e522bb', 'd265271b-8c79-4d1a-84f0-ed6f7b302180', '3d5b2399-983f-4f1f-829d-b27998202e5e', 'f9fa508a-1c5c-4a17-8bed-1d94fc7e5310', '062cf99c-9fbf-49f1-a253-5a667d02754e', '87372aba-b958-4887-a224-2d3d40665374'], metadata={'Header 1': 'The Adventures of Sherlock Holmes', 'Header 2': 'A Scandal in Bohemia', 'Header 3': 'Chapter II ', 'filename': 'advs.md', 'extension': '.md'}),\n",
       " '888d507a-79e4-4eca-864b-84373296011b': RefDocInfo(node_ids=['1a8e9bd5-ab19-4076-b328-f2ff131df4ab', '5e9c7fbf-68c0-433b-8826-a2272e6fe1d6'], metadata={'Header 1': 'The Adventures of Sherlock Holmes', 'Header 2': 'A Scandal in Bohemia', 'Header 3': 'Chapter III ', 'filename': 'advs.md', 'extension': '.md'}),\n",
       " '206077ee-51bc-48e8-8540-26f619ce42c9': RefDocInfo(node_ids=['362effbe-0768-4b5f-9484-b074e82ef02d', '37cbbb61-f360-47b4-a538-846929533677', '0fe63715-afef-41d0-80a0-8645f6695119', '6413dc1e-af36-4083-a989-f804f6b0f96b', 'f3d8ee1c-b877-4b37-89db-f1aaa82fd5a2', '3006bf00-fd2a-4bcc-9a3b-a0dd9f407bdb', 'd1135deb-2011-4612-a13b-118b20e24241', '73c24036-e8a0-4a9f-8ab6-f2a76545776a', '21fb12f1-4232-4e9b-9a19-ce806e8c669e', '9d13065c-c290-48a9-a452-56b426d81ea4', 'cd8ab052-3d34-4faf-aef0-fe0bd16a9335', '95fec1be-5370-4a29-a016-1a02f4fb1c14', '869f04e6-de3f-49b2-9188-12ec1b7c9c1b', '1db0d92f-98a4-4353-850f-76f11da58376'], metadata={'Header 1': 'The Adventures of Sherlock Holmes', 'Header 2': 'The Red-Headed League', 'filename': 'advs.md', 'extension': '.md'}),\n",
       " '21405c48-c76c-4e1e-9ba9-113754706c15': RefDocInfo(node_ids=['0b06bc30-76aa-4c00-baa9-7a8889de0d85', 'b2f88376-044f-478a-b34e-5122157291c8', 'd01d9296-85ed-4470-b2be-026fad13b4aa', '9ee5b301-bf64-40d4-a964-fb0ea5eb6825', '154404bb-ea44-4312-bc2d-83bf2426f9a1', '754b371a-1896-4a1b-a991-92fc59ed6203', '67edfc9c-2645-4672-a427-f15540e5037e', '4a770974-3eea-4277-8932-e3e89453c6e2', '7f2b8548-9c6b-481b-b874-5643080978f1', 'c3f32417-cee0-48b4-b6d7-fb1ccbe96943', '5ca8fa59-ae7b-465f-b8a4-da4756934d1a'], metadata={'Header 1': 'The Adventures of Sherlock Holmes', 'Header 2': 'A Case of Identity', 'filename': 'advs.md', 'extension': '.md'}),\n",
       " '89300c8e-c0b0-45da-8a54-d78aebcae38f': RefDocInfo(node_ids=['56419403-cda0-4ca7-be0a-0876241fdbe6', '1908f55d-5c96-4d2e-99f3-d03d971cbdd6', 'dfe21ed4-7efb-41b7-94df-ab0d5c5a3925', '90d2ec6c-9e78-45bc-988b-c9168da055a1', 'd6c41128-0bcc-4f00-a8c1-3d106ab2bc11', '7420d411-4ae5-4cb5-a7ea-2155ecbbe3cd', '829e9228-3106-4320-9a50-e7449bebfda4', '30dc2067-dd44-4ec0-8c0f-1a10fbed1355', 'f92a1bc5-82f6-40fc-a194-3f816bc109bf', '6ffe753f-45c4-48e0-bb39-a5af6b3069a4', 'b4707edf-732d-42a2-8f93-deb0071d91a2', 'f2639f01-0d5f-4f3d-a1f4-12db060b9a11', '77a386fe-a394-4074-bbd7-84520c413292', '3a171e07-a45d-424b-a05a-74ae3879ec1c', '767b90bf-49f5-431a-b31b-039e22da80d4'], metadata={'Header 1': 'The Adventures of Sherlock Holmes', 'Header 2': 'The Boscombe Valley Mystery', 'filename': 'advs.md', 'extension': '.md'}),\n",
       " '08cdf5ef-76c6-4938-8833-43c3192a0f5a': RefDocInfo(node_ids=['6ef20701-282c-4519-9b6b-664b77b399e0', '23a66f13-9223-4874-84e9-670c96540a7d', '4ded073a-aa00-4c1e-97c9-1166e711cda6', '60567679-3a52-4459-aca6-e9bf5fe7a657', 'bcc2b0b2-78f4-4857-a98a-810a1422bd2e', 'f45b67a4-7863-46e8-9d09-18e3957e8227', '199f1f82-bd70-4d6e-92b3-be82ecacba33', '68627793-fb66-47d1-8e29-d98318a65c7e', 'c93d125a-7dcd-44da-9843-9e8026bd8b7e', '23da87df-ab14-4644-ae6f-b8ccce61aebe', '571a3d36-422b-441c-a2ff-c7ed2ecd77dd'], metadata={'Header 1': 'The Adventures of Sherlock Holmes', 'Header 2': 'The Five Orange Pips', 'filename': 'advs.md', 'extension': '.md'}),\n",
       " '38c95449-0421-4176-be9e-e694c340d8b0': RefDocInfo(node_ids=['9d293df7-ad22-486d-afec-4dee7952755a', '9ad58ab5-31b1-4241-b975-5635d84474ae', 'd90e08ce-6103-4c43-a68b-a1989a92c6f4', 'b2ffa7fd-346d-4246-bd5b-a18feaba58bb', 'a752c0d2-2809-481d-a7af-2bbd367a04c6', 'c30f6986-e542-4e67-b8d9-29f766c2354d', 'a7d2c830-4660-48ee-8eb3-4f084e1ad83f', '9c8cf558-11a0-4988-b9af-1fbdcec0059f', '58597921-6130-4689-a2e6-ba818577cd03', 'e9e51e31-62cc-4955-b993-746d16b68326', '1f8e30cf-b90a-41bd-8f25-561e718d5d9a', '03e16622-7d87-4f32-bd1b-f95a279877b2', '086354f2-ed3b-4dbb-a3c9-cc6a1c2bc4f2', '9d90c8ff-3869-461b-b83a-70fd00ea77d9'], metadata={'Header 1': 'The Adventures of Sherlock Holmes', 'Header 2': 'The Man with the Twisted Lip', 'filename': 'advs.md', 'extension': '.md'}),\n",
       " '3f009666-85ba-466e-9edb-e2fe13a75e37': RefDocInfo(node_ids=['b6a2575e-6fae-43f6-8f07-de359e7f6dbc', '281e541f-5efc-47b7-9f04-33b5cfbaf918', '81b700df-ef9c-4a3c-91b6-668bfa2fe708', '531b7374-593d-468a-a81a-8aa51b7f76b1', '26d2bbcf-02c6-4a6d-a135-c5873c8b0a09', '60209c6c-5af5-4545-992e-aa9c1183837f', '19602c2b-8ce8-4061-b7d9-e043afb41ae6', '1442a43e-8443-4615-b470-721193f9c227', 'b6b2e66e-d840-4d7e-b2a6-977cadd28db2', '1ece8049-9ea3-4eba-a9d7-730653de3581', '231b913e-9e33-45f4-a7ca-b9ac2ad8c9b7', 'f35be0c1-843b-4a6a-bbce-fc9398b4d143', '5886f288-50ea-477c-aea9-0ee35f5abe21'], metadata={'Header 1': 'The Adventures of Sherlock Holmes', 'Header 2': 'The Adventure of the Blue Carbuncle', 'filename': 'advs.md', 'extension': '.md'}),\n",
       " 'c9897ef5-0961-47c7-ad2b-9b922a7f6ba6': RefDocInfo(node_ids=['40413748-d9c3-44ce-b7df-c6cfab32d79b', '258ec7bf-f304-4041-bac8-a0db6ceec0b6', '2a2b733e-0f7c-4c2b-8b4c-aa2a0027a3c7', 'e1ce1638-d204-4db8-badf-4cae3e0e0c6e', '6d4eb9a0-dec7-410d-a518-7b581f943b29', 'fdfd52a6-1f0d-4a2a-a93f-fc8ef9f61fa2', '088292a7-011a-4014-a530-891eb1691a73', '5cca31a6-563b-4720-b8cc-41c2493a34c6', '46c99b49-8ae7-4af5-9726-a89c913de936', 'b33c1e30-ae93-4738-bf49-aa96b350f16e', '1d922bdf-8f4b-461f-ad02-22721929c9e1', '585a35d2-7816-4a91-b28b-a6636403cac3', 'dc0e660b-40d9-4b11-b771-49cae5458548', '06c8c7b2-67cd-4888-bb12-fe15f2ef15fe', '5406ee53-0fed-4562-850e-677788cd4bdf'], metadata={'Header 1': 'The Adventures of Sherlock Holmes', 'Header 2': 'The Adventure of the Speckled Band', 'filename': 'advs.md', 'extension': '.md'}),\n",
       " 'bc2352fb-37bf-435e-9a07-3fed5fa22b15': RefDocInfo(node_ids=['f41e91ba-12fa-4edd-92ce-0d382952b6b2', 'bfd6377a-9cbd-4225-b929-19c9b014c9df', 'fd7dc592-9c6c-4140-99f8-8637da90a4c7', '0c52045c-bfeb-4553-8733-a85e235c75db', '3f79f619-608a-43a6-a0ea-94f20f6413ed', '32288e09-cc8b-45e8-be1d-2321baa6eea9', 'afb22d80-a667-417f-a728-4f668b95497e', '69feae9a-aeac-4df3-9769-12bad91944c5', 'cd317d7b-710e-44a3-bb3e-166519f88cf0', '9e2668bc-f61e-4882-ab75-344eb853d87a', '53f91404-35df-4388-b5d5-edace0f13df0', '35ae078c-ce99-4d79-8692-a3ddaf77dceb', '01841d61-dcc6-4813-9a09-430a9935aff4'], metadata={'Header 1': 'The Adventures of Sherlock Holmes', 'Header 2': \"The Adventure of the Engineer's Thumb\", 'filename': 'advs.md', 'extension': '.md'}),\n",
       " '73eb64ce-4b4d-436a-a4bb-8847377ceb1d': RefDocInfo(node_ids=['04d86ad2-8085-48c5-bf08-d1538447d8b0', '512c2b8c-6849-4f79-90f9-4ca6f918b9cf', 'f3d25b9f-89c3-439d-812b-7a8ceb72f542', 'c3e20d18-02f9-4dc4-a4a5-81ae3aa8f09f', '8c4450f7-e4d7-4863-8214-e9dcb2f11d85', '33ac7464-96b1-4a9c-a10d-e30da76373aa', '24d477d6-411a-4a5c-b0ad-f7c655ee1d82', 'f5688640-c61e-45a6-bcdb-f124132b4cdb', 'b3cfe54b-ea6d-4ece-919a-4ec3c7c6ef28', 'fa549800-2776-4f71-a7ad-84461a54443a', 'aabac415-8e28-4262-9bc1-60e170cd25ac', '40872de3-8ca7-45a7-b709-053c7f9f1b5a', 'c74e4063-7a54-4ca4-af28-a462fd2dd37d'], metadata={'Header 1': 'The Adventures of Sherlock Holmes', 'Header 2': 'The Adventure of the Noble Bachelor', 'filename': 'advs.md', 'extension': '.md'}),\n",
       " '35e48423-c0c8-41db-81a7-b6a1206b922c': RefDocInfo(node_ids=['62d91584-36e9-4026-870e-67cf6338d792', 'daae1975-6ef6-479e-9aa0-2ebee4624e02', 'eca7c4d5-aa63-4444-9e0f-d9ef44809842', '3ea293fa-e42e-4ecc-b494-1ed0f929ed5b', '7aaeac36-2252-4de6-97a8-7feb6e378b9a', '5c4a9d18-c59c-4bf1-82fc-53134d42cf91', '34df17ee-c6f2-4d2a-8e1c-c872c0296a5a', 'bd12ceaa-4eab-422d-9393-ea005f739b43', '4139f089-990c-47aa-aead-de6f60577826', '521063c2-06a4-48bb-b05e-d0a6efc60b6b', '9694b513-2155-4d64-b119-9e250ca10558', 'c0eb5202-2210-4cd0-8da0-6b557775f4d2', 'e777f7db-1bfc-4964-b362-88f8a3760521', '90cd1b11-0680-49ec-a34e-00add1537267', '64401ed0-3769-4fc4-b802-50554a729930'], metadata={'Header 1': 'The Adventures of Sherlock Holmes', 'Header 2': 'The Adventure of the Beryl Coronet', 'filename': 'advs.md', 'extension': '.md'}),\n",
       " 'e5614090-3084-45d1-8737-159b5f112a6b': RefDocInfo(node_ids=['436d88e1-ddd8-4852-98eb-18baf9e2198d', '2caee307-b606-47a6-9ba0-ae51168a8da9', '4822a790-8b92-4c31-a306-e9a89bc0131d', 'f5dc4d48-12ca-468f-b287-65148ab23680', 'f0aacbf6-e8bb-473e-8d63-96142208869a', '2b6cd592-7cd0-4a83-950b-948b1919ac3e', '45f3210e-3178-439e-8ada-9a742033e30c', 'ced6b523-be4b-4363-87ae-800b23b83968', '58572185-1e88-4746-98c8-715bb6fa1ad1', '0b71ae9a-5c63-4522-b622-712889c328c0', 'a62a3f90-0c62-43fe-8280-749d6ea433e4', 'de8a90dd-9a88-4a03-9066-380b40130c6b', 'd575351b-9f23-4417-aaab-417da83c13ac', 'b42a9a23-76e9-4dbe-beec-f598ccf3fa28', '34229129-6cdc-464b-8e98-4ed8218bfa34'], metadata={'Header 1': 'The Adventures of Sherlock Holmes', 'Header 2': 'The Adventure of the Copper Beeches', 'filename': 'advs.md', 'extension': '.md'}),\n",
       " '18a87990-fa3e-4b44-80bb-862ba8c1707f': RefDocInfo(node_ids=['213cbd51-d1fe-430f-8c92-2abcac423f3d'], metadata={'Header 1': 'The Memoirs of Sherlock Holmes', 'filename': 'mems.md', 'extension': '.md'}),\n",
       " 'c3e8eced-f6c3-47c9-8d20-ac815274ea8a': RefDocInfo(node_ids=['9cc82310-2344-4ce3-8d23-e2d7d44a994e', 'ec756482-2e62-4ace-b244-3cd465b84b94', '241f1d0f-668c-4305-98cd-3a4ca4015433', 'ba8e489e-d3a9-4585-b6ae-12134cf17a58', '8bd89d90-3468-454c-804b-7b312ddcc61f', 'b7ed258d-3a98-4e8e-836b-94af2c17f616', 'dbb9d532-ac4f-4522-a2df-a1356de10b56', '1262ddbd-5dd1-4615-9d5f-92847df91522', 'a9bb1f7e-ba64-43b2-bebb-0ea65d49d8fa', 'cc302325-8b25-44f6-b18d-8b0372a5e3b2', 'd27fd5de-b062-4be8-847f-b67297ea0b25', '1d1ee2c3-46ab-4a7e-a78b-d9390db01bc8', '10def3f0-77c8-4104-98d6-bfc2a524c6e3', '1c327981-903f-42c5-8939-c3366511f9f4', 'f6b61257-5670-42c2-a666-ea3a3ce6cf2b'], metadata={'Header 1': 'The Memoirs of Sherlock Holmes', 'Header 2': 'Silver Blaze', 'filename': 'mems.md', 'extension': '.md'}),\n",
       " '02d2b209-e80f-444b-9b02-d622fc45c5db': RefDocInfo(node_ids=['ad8ed724-8d14-4943-8e6a-002126e9b3f8', '8534a4ef-78eb-4ad8-a275-231964c722c6', '39271b23-b91c-46b4-85b5-217f969e93b4', 'bebbb575-019d-4ad5-a7b2-fb108efee3d4', '43675ca7-befc-451f-9101-1dc45f665f89', '3bf9f380-e30c-4dec-89d0-0a77327c9f2d', '076fa9de-29c0-4960-bf20-f9de46eb5477', '6cc3f983-24d9-46f8-8186-6d779c0b7e2a', '54ce2ff2-a2dd-4f91-948d-a72955cf9a12', '45b8ac67-f409-4b1b-b7f8-dea2505308c5', '1b3fefb9-d26d-4535-9a25-19515bd4dff7'], metadata={'Header 1': 'The Memoirs of Sherlock Holmes', 'Header 2': 'The Yellow Face', 'filename': 'mems.md', 'extension': '.md'}),\n",
       " '3f14726b-d73c-4a0b-ac92-16e4449aae67': RefDocInfo(node_ids=['c1cc1f88-7412-48ce-b668-af1cbd7ce88a', '3caec88c-8110-43a5-b393-212a22778cd4', 'd2b624b4-0c27-40b0-a980-0bc611d7a3e9', '7e8e373c-9772-4f85-b24d-d17645f76d25', '9362a6cf-283b-4a22-a229-ff8eb4f5f82f', '6d5ec995-68c2-4e47-aa09-89245269886b', '55a793af-2e44-4434-a3bd-7ed5f736041e', '52366af8-51e8-401e-87ba-9b2dccbad589', 'bb66ca6d-5e0d-49c4-8074-decc88566338', 'a2ef83fc-9715-471d-9fcd-c3c2e38e6647', 'f980c6b7-363c-4cab-885b-6a6c95392ccf'], metadata={'Header 1': 'The Memoirs of Sherlock Holmes', 'Header 2': \"The Stock-Broker's Clerk\", 'filename': 'mems.md', 'extension': '.md'}),\n",
       " '346bd982-df41-4e62-8776-f2e884385cf2': RefDocInfo(node_ids=['6760a7e9-a5c4-4908-940e-4f34a9a7fa58', 'de886bd2-7464-4475-8319-b975eeeb2551', 'f2f40c32-368b-4ce3-bbb1-96e0a1c70ce7', 'da3bc52c-06ae-4809-ab50-1c4feb8ca7e0', '353dc809-aaec-49aa-bb7e-4f1ed8854e30', 'a90ee1d9-d74f-4fec-adb3-e0264a017b9a', 'f0bed412-75f1-4b98-99e8-dec4e2b0cc59', '128121c2-9950-4f4b-b5c1-757e7f3e7fb8', '3ae3579e-1e20-4db1-8373-2e9bf5660c64', 'c0736949-7703-4dc6-a54d-d7520261aba1', 'fa8fa74a-7931-4e0a-b211-a86f7a52fb99', 'c4b23ceb-da51-4826-990d-018fa744d84f'], metadata={'Header 1': 'The Memoirs of Sherlock Holmes', 'Header 2': 'The \"Gloria Scott\"', 'filename': 'mems.md', 'extension': '.md'}),\n",
       " '31eeb2e1-1d6a-4e67-8c6a-3dfb78263df4': RefDocInfo(node_ids=['cea0c8ba-17c5-41f7-818f-27d4f9bbb6d3', '2d86bd8e-84c4-4873-8ce6-17c0fb59ed77', '0f2de0e8-446b-4b79-846b-b82457e09af8', '83a4a90a-dc2d-476c-8e61-bae2e7dc9c08', '6e20d87e-4d0a-4dc6-a399-fa91793512d2', 'c107f446-345e-46dc-9547-2ce7363ec59e', '4c48ed8d-1cc3-43fe-8a2b-995a3d3f9842', '42886861-4a02-4d0e-aee3-55a175bf1854', '8fd1cf8b-fab2-404f-9013-b31fc762ff08', 'fc8493e4-93a1-48dd-9260-29b4f7cf4438', '458493eb-dfab-4fe7-a5f4-6450211a9673'], metadata={'Header 1': 'The Memoirs of Sherlock Holmes', 'Header 2': 'The Musgrave Ritual', 'filename': 'mems.md', 'extension': '.md'}),\n",
       " 'cf0dc56d-e327-4d71-a748-ceeac10c6665': RefDocInfo(node_ids=['148594f4-f6ed-4d06-be84-61dde13a8d84', 'c57304c8-4001-44b9-ab89-7ac8a21b4bbb', '86c27a37-2a1e-4bca-acfa-037cfacee45d', '0d9ec1d0-8b21-44dd-859a-cb4ae87d51aa', '2a3ed488-49ff-4ab2-8744-e9a1e7cb991d', '2f351fd9-2c4b-47f5-8b4f-d1d31a26221f', 'bfe3e522-68c0-4438-abc7-f1b3802804f0', '174fedc3-0e03-448d-b692-7f476eb7d4b5', 'd776580b-387a-48db-b685-557738aecd53', 'ba5be2de-4703-475b-9941-9850a1a030e2', '14b127fb-f937-49dc-b8cd-13dd444f9554'], metadata={'Header 1': 'The Memoirs of Sherlock Holmes', 'Header 2': 'The Reigate Squires', 'filename': 'mems.md', 'extension': '.md'}),\n",
       " 'b8123abc-eab1-439b-bc24-e41dfbeff4d1': RefDocInfo(node_ids=['94ad017d-f96a-4832-b001-320c5f1d6328', '34db71d5-c31d-4e60-9d73-4a52984735c1', 'c4dfca10-7ef6-4809-816c-cdc89f58db79', '3bb05cc9-09ba-40b5-a99c-aeddf994d05f', 'd01a53c0-e282-4990-926e-d885d867db49', '1ee73f6f-1100-4fdc-a217-a3d1ede7a989', 'cc5ca916-4d36-4181-89a1-507f2d58e79f', 'b9dabccf-f113-45db-8c93-0c73cc50d233', '3c3aceeb-4d3c-4501-b432-fa6d9ce593e9', 'e417ee88-7809-441a-9471-1234ff690e2f', '0c364b45-3444-4fda-b7bb-61104938c0fd'], metadata={'Header 1': 'The Memoirs of Sherlock Holmes', 'Header 2': 'The Crooked Man', 'filename': 'mems.md', 'extension': '.md'}),\n",
       " '206510d1-85d1-4756-8006-f434ac57ba12': RefDocInfo(node_ids=['02b60149-aa23-4227-940e-965a0e70c807', 'cc795297-34cc-4aca-b688-f2a2ce1ad3eb', '9c04bfac-21ed-4345-b4f6-3bd3c3b83c14', '111daaae-7300-4a68-b46e-ef1affce84ff', '6a744d9f-9d70-4cdb-b4c6-c4dd3651476f', '8c5a4173-92cd-407f-a410-c203b5bb817a', 'f900b2c5-528d-4533-a1ec-c67f5c09d17c', '907b70dd-b2a6-4297-9b41-5c4fe3824fad', '7ec07531-cb22-453a-9215-75706c31ae26', '372b1c6c-5856-42e3-bf10-0f9fd410ebca'], metadata={'Header 1': 'The Memoirs of Sherlock Holmes', 'Header 2': 'The Resident Patient', 'filename': 'mems.md', 'extension': '.md'}),\n",
       " 'e10765a2-b629-4676-84e9-983ea3b5d2c3': RefDocInfo(node_ids=['62969d84-b5da-41a4-a3df-ec0c773f7f68', 'dd4773ed-c596-43f1-8ec7-1f5cd066c9d9', '412daf02-4ddc-467d-b6ec-44de95ef5a4a', '7b19c900-bf0c-4256-8a66-b0623cdea93d', '8cd68ba8-bb2c-4a19-b419-e659a2b4342e', '7e7668b0-55c0-46cb-8a1f-a765c29938e4', '49f414ec-acc9-4590-8c57-a67b0665982f', 'd108abae-89ef-44e3-9552-e90108334708', 'cbf09851-d93c-4060-b3ea-268583955fd0', '5b3de329-54c0-4b4c-be84-0bb3c4e50e0e', 'b6bf7463-35ce-4f93-8c9a-5fd0efa26b2c'], metadata={'Header 1': 'The Memoirs of Sherlock Holmes', 'Header 2': 'The Greek Interpreter', 'filename': 'mems.md', 'extension': '.md'}),\n",
       " '57f40ee8-6b68-48dd-a611-f83c3248d7af': RefDocInfo(node_ids=['440b6f7a-35bf-43d4-a0b3-653ba1042e0c', '18d08928-4f1e-4c40-88ac-2bbc905515a1', '5a094457-25ff-443a-9176-c3ee9ced9d98', '684891c4-cde7-455f-a16d-38e10549452a', '063b6ba3-22fb-4d4d-a6d2-b7a9509f4784', '678e4a3c-bd22-4e36-bcfd-bf0295efb7e2', '7f08597f-5b7c-44a5-8223-bdcd49aa8c85', 'c5500eec-a0af-4ee8-91d4-4e0d146e2727', 'dfbcb549-f5a2-4423-b050-a5b27a1f9193', 'bd958e25-3f56-4927-b7af-abddaba32980', 'bf8428f2-3da4-4e3f-a8a7-123f2834ffae', '88a07fb1-2e91-4a15-8341-9c13d2226374', '1fd13663-7445-4fdb-b353-9432dfd1bf7f', 'db057d11-3124-4ee7-809c-b96774ea0e1f', '9caa727c-cd8d-4781-91f0-1ff3eb349f0c', '2f5cb996-51b5-451b-bf79-ed40f070b909', '61824fcb-ecad-4ea4-ab78-7c1a535dd0bf', 'e0ce6387-933c-44b9-8356-2ed1e5c624c6', '0144d7c9-6dd9-4140-a103-aa86603cfa28'], metadata={'Header 1': 'The Memoirs of Sherlock Holmes', 'Header 2': 'The Naval Treaty', 'filename': 'mems.md', 'extension': '.md'}),\n",
       " '3d718e08-0bd4-4f2a-8c83-d273204750d3': RefDocInfo(node_ids=['3c695bd2-4174-486d-9ecf-4dba6b8d6eb4', 'b2b574f8-4fe7-419f-a57c-2db41d3a2011', 'cd2e2d38-a07f-43ec-a10d-66649e037770', 'dd18da4f-0949-4b24-b841-7394d3890adb', '17045625-bc9f-456d-a63b-6690d94f753c', 'e5cfcd13-d012-45d2-8364-b09fe939b35b', 'f3031093-c773-41fd-84e0-fa045c8638dd', '2f01e83a-1d4e-424c-9216-ef177aab10d4', '376bd09e-0006-44e0-8d5d-82114e82a251', '4d3e231b-a4e4-4adc-84f0-3ef1ec26c4a9', 'a0a72e87-4849-4ed9-a1b2-b4081dee6c46'], metadata={'Header 1': 'The Memoirs of Sherlock Holmes', 'Header 2': 'The Final Problem', 'filename': 'mems.md', 'extension': '.md'})}"
      ]
     },
     "execution_count": 17,
     "metadata": {},
     "output_type": "execute_result"
    }
   ],
   "source": [
    "index.ref_doc_info"
   ]
  },
  {
   "cell_type": "code",
   "execution_count": 18,
   "metadata": {},
   "outputs": [],
   "source": [
    "doc_id = \"57f40ee8-6b68-48dd-a611-f83c3248d7af\"\n",
    "for node in all_nodes:\n",
    "    if node.id_ == doc_id:\n",
    "        print(node)"
   ]
  },
  {
   "cell_type": "code",
   "execution_count": 19,
   "metadata": {},
   "outputs": [
    {
     "name": "stdout",
     "output_type": "stream",
     "text": [
      "Node ID: dd18da4f-0949-4b24-b841-7394d3890adb\n",
      "Text: \"'On the contrary,' I answered, 'I think it is fairly evident\n",
      "that I do.  Pray take a chair.  I can spare you five minutes if you\n",
      "have anything to say.'   \"'All that I have to say has already crossed\n",
      "your mind,' said he.   \"'Then possibly my answer has crossed yours,' I\n",
      "replied.   \"'You stand fast?'   \"'Absolutely.'   \"He clapped his hand\n",
      "into h...\n"
     ]
    }
   ],
   "source": [
    "node_id = \"dd18da4f-0949-4b24-b841-7394d3890adb\"\n",
    "for node in all_nodes:\n",
    "    if node.id_ == node_id:\n",
    "        print(node)"
   ]
  },
  {
   "cell_type": "code",
   "execution_count": null,
   "metadata": {},
   "outputs": [],
   "source": []
  },
  {
   "cell_type": "code",
   "execution_count": null,
   "metadata": {},
   "outputs": [],
   "source": []
  },
  {
   "cell_type": "code",
   "execution_count": 10,
   "metadata": {},
   "outputs": [
    {
     "name": "stdout",
     "output_type": "stream",
     "text": [
      "** Messages: **\n",
      "system: You are an expert Q&A system that is trusted around the world.\n",
      "Always answer the query using the provided context information, and not prior knowledge.\n",
      "Some rules to follow:\n",
      "1. Never directly reference the given context in your answer.\n",
      "2. Avoid statements like 'Based on the context, ...' or 'The context information ...' or anything along those lines.\n",
      "user: Context information is below.\n",
      "---------------------\n",
      "Header 1: The Adventures of Sherlock Holmes\n",
      "Header 2: A Scandal in Bohemia\n",
      "Header 3: CHAPTER I \n",
      "filename: advs.md\n",
      "extension: .md\n",
      "\n",
      "CHAPTER I \n",
      "To Sherlock Holmes she is always the woman. I have seldom heard him mention her under any other name. In his eyes she eclipses and predominates the whole of her sex. It was not that he felt any emotion akin to love for Irene Adler. All emotions, and that one particularly, were abhorrent to his cold, precise but admirably balanced mind. He was, I take it, the most perfect reasoning and observing machine that the world has seen, but as a lover he would have placed himself in a false position. He never spoke of the softer passions, save with a gibe and a sneer. They were admirable things for the observer--excellent for drawing the veil from men's motives and actions. But for the trained reasoner to admit such intrusions into his own delicate and finely adjusted temperament was to introduce a distracting factor which might throw a doubt upon all his mental results. Grit in a sensitive instrument, or a crack in one of his own high-power lenses, would not be more disturbing than a strong emotion in a nature such as his. And yet there was but one woman to him, and that woman was the late Irene Adler, of dubious and questionable memory. \n",
      "\n",
      "I had seen little of Holmes lately. My marriage had drifted us away from each other. My own complete happiness, and the home-centred interests which rise up around the man who first finds himself master of his own establishment, were sufficient to absorb all my attention, while Holmes, who loathed every form of society with his whole Bohemian soul, remained in our lodgings in Baker Street, buried among his old books, and alternating from week to week between cocaine and ambition, the drowsiness of the drug, and the fierce energy of his own keen nature. He was still, as ever, deeply attracted by the study of crime, and occupied his immense faculties and extraordinary powers of observation in following out those clues, and clearing up those mysteries which had been abandoned as hopeless by the official police. From time to time I heard some vague account of his doings: of his summons to Odessa in the case of the Trepoff murder, of his clearing up of the singular tragedy of the Atkinson brothers at Trincomalee, and finally of the mission which he had accomplished so delicately and successfully for the reigning family of Holland. Beyond these signs of his activity, however, which I merely shared with all the readers of the daily press, I knew little of my former friend and companion. \n",
      "\n",
      "One night--it was on the twentieth of March, 1888--I was returning from a journey to a patient (for I had now returned to civil practice), when my way led me through Baker Street. As I passed the well-remembered door, which must always be associated in my mind with my wooing, and with the dark incidents of the Study in Scarlet, I was seized with a keen desire to see Holmes again, and to know how he was employing his extraordinary powers. His rooms were brilliantly lit, and, even as I looked up, I saw his tall, spare figure pass twice in a dark silhouette against the blind. He was pacing the room swiftly, eagerly, with his head sunk upon his chest and his hands clasped behind him. To me, who knew his every mood and habit, his attitude and manner told their own story. He was at work again. He had risen out of his drug-created dreams and was hot upon the scent of some new problem. I rang the bell and was shown up to the chamber which had formerly been in part my own. \n",
      "\n",
      "His manner was not effusive. It seldom was; but he was glad, I think, to see me. With hardly a word spoken, but with a kindly eye, he waved me to an armchair, threw across his case of cigars, and indicated a spirit case and a gasogene in the corner. Then he stood before the fire and looked me over in his singular introspective fashion. \n",
      "\n",
      "\"Wedlock suits you,\" he remarked. \"I think, Watson, that you have put on seven and a half pounds since I saw you.\" \n",
      "\n",
      "\"Seven!\" I answered. \n",
      "\n",
      "\"Indeed, I should have thought a little more. Just a trifle more, I fancy, Watson. And in practice again, I observe. You did not tell me that you intended to go into harness.\" \n",
      "\n",
      "\"Then, how do you know?\" \n",
      "\n",
      "\"I see it, I deduce it. How do I know that you have been getting yourself very wet lately, and that you have a most clumsy and careless servant girl?\"\n",
      "\n",
      "Header 1: The Adventures of Sherlock Holmes\n",
      "Header 2: A Scandal in Bohemia\n",
      "Header 3: Chapter III \n",
      "filename: advs.md\n",
      "extension: .md\n",
      "\n",
      "Sherlock Holmes. Then I, rather imprudently, wished you good-night, and started for the Temple to see my husband. \"We both thought the best resource was flight, when pursued by so formidable an antagonist; so you will find the nest empty when you call to-morrow. As to the photograph, your client may rest in peace. I love and am loved by a better man than he. The King may do what he will without hindrance from one whom he has cruelly wronged. I keep it only to safeguard myself, and to preserve a weapon which will always secure me from any steps which he might take in the future. I leave a photograph which he might care to possess; and I remain, dear Mr. Sherlock Holmes, \"Very truly yours, \"Irene Norton, née Adler.\" \n",
      "\n",
      "\"What a woman--oh, what a woman!\" cried the King of Bohemia, when we had all three read this epistle. \"Did I not tell you how quick and resolute she was? Would she not have made an admirable queen? Is it not a pity that she was not on my level?\" \n",
      "\n",
      "\"From what I have seen of the lady she seems indeed to be on a very different level to your Majesty,\" said Holmes coldly. \"I am sorry that I have not been able to bring your Majesty's business to a more successful conclusion.\" \n",
      "\n",
      "\"On the contrary, my dear sir,\" cried the King; \"nothing could be more successful. I know that her word is inviolate. The photograph is now as safe as if it were in the fire.\" \n",
      "\n",
      "\"I am glad to hear your Majesty say so.\" \n",
      "\n",
      "\"I am immensely indebted to you. Pray tell me in what way I can reward you. This ring--\" He slipped an emerald snake ring from his finger and held it out upon the palm of his hand. \n",
      "\n",
      "\"Your Majesty has something which I should value even more highly,\" said Holmes. \n",
      "\n",
      "\"You have but to name it.\" \n",
      "\n",
      "\"This photograph!\" \n",
      "\n",
      "The King stared at him in amazement. \n",
      "\n",
      "\"Irene's photograph!\" he cried. \"Certainly, if you wish it.\" \n",
      "\n",
      "\"I thank your Majesty. Then there is no more to be done in the matter. I have the honour to wish you a very good-morning.\" He bowed, and, turning away without observing the hand which the King had stretched out to him, he set off in my company for his chambers. \n",
      "\n",
      "And that was how a great scandal threatened to affect the kingdom of Bohemia, and how the best plans of Mr. Sherlock Holmes were beaten by a woman's wit. He used to make merry over the cleverness of women, but I have not heard him do it of late. And when he speaks of Irene Adler, or when he refers to her photograph, it is always under the honourable title of the woman.\n",
      "---------------------\n",
      "Given the context information and not prior knowledge, answer the query.\n",
      "Query: How does Sherlock Holmes feel about Irene Adler?\n",
      "Answer: \n",
      "**************************************************\n",
      "** Response: **\n",
      "assistant: Sherlock Holmes views Irene Adler with a unique level of admiration and respect.\n",
      "**************************************************\n",
      "\n",
      "\n",
      "Sherlock Holmes views Irene Adler with a unique level of admiration and respect.\n"
     ]
    }
   ],
   "source": [
    "query_engine = index.as_query_engine()\n",
    "query_result = query_engine.query(\"How does Sherlock Holmes feel about Irene Adler?\")\n",
    "print(query_result)"
   ]
  },
  {
   "cell_type": "code",
   "execution_count": 11,
   "metadata": {},
   "outputs": [
    {
     "name": "stdout",
     "output_type": "stream",
     "text": [
      "** Messages: **\n",
      "system: You are an expert Q&A system that is trusted around the world.\n",
      "Always answer the query using the provided context information, and not prior knowledge.\n",
      "Some rules to follow:\n",
      "1. Never directly reference the given context in your answer.\n",
      "2. Avoid statements like 'Based on the context, ...' or 'The context information ...' or anything along those lines.\n",
      "user: Context information is below.\n",
      "---------------------\n",
      "Header 1: The Adventures of Sherlock Holmes\n",
      "Header 2: The Adventure of the Blue Carbuncle\n",
      "filename: advs.md\n",
      "extension: .md\n",
      "\n",
      "Sherlock Holmes had opened his mouth to reply, when the door flew open, and Peterson, the commissionaire, rushed into the apartment with flushed cheeks and the face of a man who is dazed with astonishment. \n",
      "\n",
      "\"The goose, Mr. Holmes! The goose, sir!\" he gasped. \n",
      "\n",
      "\"Eh? What of it, then? Has it returned to life and flapped off through the kitchen window?\" Holmes twisted himself round upon the sofa to get a fairer view of the man's excited face. \n",
      "\n",
      "\"See here, sir! See what my wife found in its crop!\" He held out his hand and displayed upon the centre of the palm a brilliantly scintillating blue stone, rather smaller than a bean in size, but of such purity and radiance that it twinkled like an electric point in the dark hollow of his hand. \n",
      "\n",
      "Sherlock Holmes sat up with a whistle. \"By Jove, Peterson!\" said he, \"this is treasure trove indeed. I suppose you know what you have got?\" \n",
      "\n",
      "\"A diamond, sir? A precious stone. It cuts into glass as though it were putty.\" \n",
      "\n",
      "\"It's more than a precious stone. It is the precious stone.\" \n",
      "\n",
      "\"Not the Countess of Morcar's blue carbuncle!\" I ejaculated. \n",
      "\n",
      "\"Precisely so. I ought to know its size and shape, seeing that I have read the advertisement about it in The Times every day lately. It is absolutely unique, and its value can only be conjectured, but the reward offered of £1000 is certainly not within a twentieth part of the market price.\" \n",
      "\n",
      "\"A thousand pounds! Great Lord of mercy!\" The commissionaire plumped down into a chair and stared from one to the other of us. \n",
      "\n",
      "\"That is the reward, and I have reason to know that there are sentimental considerations in the background which would induce the Countess to part with half her fortune if she could but recover the gem.\" \n",
      "\n",
      "\"It was lost, if I remember aright, at the Hotel Cosmopolitan,\" I remarked. \n",
      "\n",
      "\"Precisely so, on December 22nd, just five days ago. John Horner, a plumber, was accused of having abstracted it from the lady's jewel-case. The evidence against him was so strong that the case has been referred to the Assizes. I have some account of the matter here, I believe.\" He rummaged amid his newspapers, glancing over the dates, until at last he smoothed one out, doubled it over, and read the following paragraph: \n",
      "\n",
      "\"Hotel Cosmopolitan Jewel Robbery. John Horner, 26, plumber, was brought up upon the charge of having upon the 22nd inst. abstracted from the jewel-case of the Countess of Morcar the valuable gem known as the blue carbuncle. James Ryder, upper-attendant at the hotel, gave his evidence to the effect that he had shown Horner up to the dressing-room of the Countess of Morcar upon the day of the robbery in order that he might solder the second bar of the grate, which was loose. He had remained with Horner some little time, but had finally been called away. On returning, he found that Horner had disappeared, that the bureau had been forced open, and that the small morocco casket in which, as it afterwards transpired, the Countess was accustomed to keep her jewel, was lying empty upon the dressing-table. Ryder instantly gave the alarm, and Horner was arrested the same evening; but the stone could not be found either upon his person or in his rooms. Catherine Cusack, maid to the Countess, deposed to having heard Ryder's cry of dismay on discovering the robbery, and to having rushed into the room, where she found matters as described by the last witness. Inspector Bradstreet, B division, gave evidence as to the arrest of Horner, who struggled frantically, and protested his innocence in the strongest terms. Evidence of a previous conviction for robbery having been given against the prisoner, the magistrate refused to deal summarily with the offence, but referred it to the Assizes. Horner, who had shown signs of intense emotion during the proceedings, fainted away at the conclusion and was carried out of court.\" \n",
      "\n",
      "\"Hum! So much for the police-court,\" said Holmes thoughtfully, tossing aside the paper. \"The question for us now to solve is the sequence of events leading from a rifled jewel-case at one end to the crop of a goose in Tottenham Court Road at the other.\n",
      "\n",
      "Header 1: The Adventures of Sherlock Holmes\n",
      "Header 2: The Adventure of the Blue Carbuncle\n",
      "filename: advs.md\n",
      "extension: .md\n",
      "\n",
      "\"In that case we had better discuss it in a cosy room rather than in this wind-swept market-place,\" said he. \"But pray tell me, before we go farther, who it is that I have the pleasure of assisting.\" \n",
      "\n",
      "The man hesitated for an instant. \"My name is John Robinson,\" he answered with a sidelong glance. \n",
      "\n",
      "\"No, no; the real name,\" said Holmes sweetly. \"It is always awkward doing business with an alias.\" \n",
      "\n",
      "A flush sprang to the white cheeks of the stranger. \"Well then,\" said he, \"my real name is James Ryder.\" \n",
      "\n",
      "\"Precisely so. Head attendant at the Hotel Cosmopolitan. Pray step into the cab, and I shall soon be able to tell you everything which you would wish to know.\" \n",
      "\n",
      "The little man stood glancing from one to the other of us with half-frightened, half-hopeful eyes, as one who is not sure whether he is on the verge of a windfall or of a catastrophe. Then he stepped into the cab, and in half an hour we were back in the sitting-room at Baker Street. Nothing had been said during our drive, but the high, thin breathing of our new companion, and the claspings and unclaspings of his hands, spoke of the nervous tension within him. \n",
      "\n",
      "\"Here we are!\" said Holmes cheerily as we filed into the room. \"The fire looks very seasonable in this weather. You look cold, Mr. Ryder. Pray take the basket-chair. I will just put on my slippers before we settle this little matter of yours. Now, then! You want to know what became of those geese?\" \n",
      "\n",
      "\"Yes, sir.\" \n",
      "\n",
      "\"Or rather, I fancy, of that goose. It was one bird, I imagine in which you were interested--white, with a black bar across the tail.\" \n",
      "\n",
      "Ryder quivered with emotion. \"Oh, sir,\" he cried, \"can you tell me where it went to?\" \n",
      "\n",
      "\"It came here.\" \n",
      "\n",
      "\"Here?\" \n",
      "\n",
      "\"Yes, and a most remarkable bird it proved. I don't wonder that you should take an interest in it. It laid an egg after it was dead--the bonniest, brightest little blue egg that ever was seen. I have it here in my museum.\" \n",
      "\n",
      "Our visitor staggered to his feet and clutched the mantelpiece with his right hand. Holmes unlocked his strong-box and held up the blue carbuncle, which shone out like a star, with a cold, brilliant, many-pointed radiance. Ryder stood glaring with a drawn face, uncertain whether to claim or to disown it. \n",
      "\n",
      "\"The game's up, Ryder,\" said Holmes quietly. \"Hold up, man, or you'll be into the fire! Give him an arm back into his chair, Watson. He's not got blood enough to go in for felony with impunity. Give him a dash of brandy. So! Now he looks a little more human. What a shrimp it is, to be sure!\" \n",
      "\n",
      "For a moment he had staggered and nearly fallen, but the brandy brought a tinge of colour into his cheeks, and he sat staring with frightened eyes at his accuser. \n",
      "\n",
      "\"I have almost every link in my hands, and all the proofs which I could possibly need, so there is little which you need tell me. Still, that little may as well be cleared up to make the case complete. You had heard, Ryder, of this blue stone of the Countess of Morcar's?\" \n",
      "\n",
      "\"It was Catherine Cusack who told me of it,\" said he in a crackling voice. \n",
      "\n",
      "\"I see--her ladyship's waiting-maid. Well, the temptation of sudden wealth so easily acquired was too much for you, as it has been for better men before you; but you were not very scrupulous in the means you used. It seems to me, Ryder, that there is the making of a very pretty villain in you. You knew that this man Horner, the plumber, had been concerned in some such matter before, and that suspicion would rest the more readily upon him. What did you do, then? You made some small job in my lady's room--you and your confederate Cusack--and you managed that he should be the man sent for. Then, when he had left, you rifled the jewel-case, raised the alarm, and had this unfortunate man arrested. You then--\" \n",
      "\n",
      "Ryder threw himself down suddenly upon the rug and clutched at my companion's knees.\n",
      "---------------------\n",
      "Given the context information and not prior knowledge, answer the query.\n",
      "Query: Who stole the blue carbuncle?\n",
      "Answer: \n",
      "**************************************************\n",
      "** Response: **\n",
      "assistant: James Ryder stole the blue carbuncle.\n",
      "**************************************************\n",
      "\n",
      "\n",
      "James Ryder stole the blue carbuncle.\n"
     ]
    }
   ],
   "source": [
    "query_result = query_engine.query(\"Who stole the blue carbuncle?\")\n",
    "print(query_result)"
   ]
  },
  {
   "cell_type": "code",
   "execution_count": 12,
   "metadata": {},
   "outputs": [
    {
     "name": "stdout",
     "output_type": "stream",
     "text": [
      "** Messages: **\n",
      "system: You are an expert Q&A system that is trusted around the world.\n",
      "Always answer the query using the provided context information, and not prior knowledge.\n",
      "Some rules to follow:\n",
      "1. Never directly reference the given context in your answer.\n",
      "2. Avoid statements like 'Based on the context, ...' or 'The context information ...' or anything along those lines.\n",
      "user: Context information is below.\n",
      "---------------------\n",
      "Header 1: The Case Book of Sherlock Holmes\n",
      "Header 2: The Adventure of the Creeping Man\n",
      "filename: case.md\n",
      "extension: .md\n",
      "\n",
      "In all our adventures I do not know that I have ever seen a more strange sight than this impassive and still dignified figure crouching frog-like upon the ground and goading to a wilder exhibition of passion the maddened hound, which ramped and raged in front of him, by all manner of ingenious and calculated cruelty. \n",
      "\n",
      "And then in a moment it happened! It was not the chain that broke, but it was the collar that slipped, for it had been made for a thick-necked Newfoundland. We heard the rattle of falling metal, and the next instant dog and man were rolling on the ground together, the one roaring in rage, the other screaming in a strange shrill falsetto of terror. It was a very narrow thing for the professor's life. The savage creature had him fairly by the throat, its fangs had bitten deep, and he was senseless before we could reach them and drag the two apart. It might have been a dangerous task for us, but Bennett's voice and presence brought the great wolfhound instantly to reason. The uproar had brought the sleepy and astonished coachman from his room above the stables. \"I'm not surprised,\" said he, shaking his head. \"I've seen him at it before. I knew the dog would get him sooner or later.\" \n",
      "\n",
      "The hound was secured, and together we carried the professor up to his room, where Bennett, who had a medical degree, helped me to dress his torn throat. The sharp teeth had passed dangerously near the carotid artery, and the haemorrhage was serious. In half an hour the danger was past, I had given the patient an injection of morphia, and he had sunk into deep sleep. Then, and only then, were we able to look at each other and to take stock of the situation. \n",
      "\n",
      "\"I think a first-class surgeon should see him,\" said I. \n",
      "\n",
      "\"For God's sake, no!\" cried Bennett. \"At present the scandal is confined to our own household. It is safe with us. If it gets beyond these walls it will never stop. Consider his position at the university, his European reputation, the feelings of his daughter.\" \n",
      "\n",
      "\"Quite so,\" said Holmes. \"I think it may be quite possible to keep the matter to ourselves, and also to prevent its recurrence now that we have a free hand. The key from the watch-chain, Mr. Bennett. Macphail will guard the patient and let us know if there is any change. Let us see what we can find in the professor's mysterious box.\" \n",
      "\n",
      "There was not much, but there was enough--an empty phial, another nearly full, a hypodermic syringe, several letters in a crabbed, foreign hand. The marks on the envelopes showed that they were those which had disturbed the routine of the secretary, and each was dated from the Commercial Road and signed \"A. Dorak.\" They were mere invoices to say that a fresh bottle was being sent to Professor Presbury, or receipt to acknowledge money. There was one other envelope, however, in a more educated hand and bearing the Austrian stamp with the postmark of Prague. \"Here we have our material!\" cried Holmes as he tore out the enclosure. \n",
      "\n",
      "Honoured Colleague [it ran]: Since your esteemed visit I have thought much of your case, and though in your circumstances there are some special reasons for the treatment, I would none the less enjoin caution, as my results have shown that it is not without danger of a kind. It is possible that the serum of anthropoid would have been better. I have, as I explained to you, used black-faced langur because a specimen was accessible. Langur is, of course, a crawler and climber, while anthropoid walks erect and is in all ways nearer. I beg you to take every possible precaution that there be no premature revelation of the process. I have one other client in England, and Dorak is my agent for both. Weekly reports will oblige. Yours with high esteem, H. Lowenstein. \n",
      "\n",
      "Lowenstein! The name brought back to me the memory of some snippet from a newspaper which spoke of an obscure scientist who was striving in some unknown way for the secret of rejuvenescence and the elixir of life. Lowenstein of Prague! Lowenstein with the wondrous strength-giving serum, tabooed by the profession because he refused to reveal its source. In a few words I said what I remembered. Bennett had taken a manual of zoology from the shelves.\n",
      "\n",
      "Header 1: The Memoirs of Sherlock Holmes\n",
      "Header 2: The Crooked Man\n",
      "filename: mems.md\n",
      "extension: .md\n",
      "\n",
      "\"Why, they are only waiting for her to come to her senses to arrest her.\" \n",
      "\n",
      "\"My God!  Are you in the police yourself?\" \n",
      "\n",
      "\"No.\" \n",
      "\n",
      "\"What business is it of yours, then?\" \n",
      "\n",
      "\"It's every man's business to see justice done.\" \n",
      "\n",
      "\"You can take my word that she is innocent.\" \n",
      "\n",
      "\"Then you are guilty.\" \n",
      "\n",
      "\"No, I am not.\" \n",
      "\n",
      "\"Who killed Colonel James Barclay, then?\" \n",
      "\n",
      "\"It was a just providence that killed him.  But, mind you this, that if I had knocked his brains out, as it was in my heart to do, he would have had no more than his due from my hands.  If his own guilty conscience had not struck him down it is likely enough that I might have had his blood upon my soul.  You want me to tell the story. Well, I don't know why I shouldn't, for there's no cause for me to be ashamed of it. \n",
      "\n",
      "\"It was in this way, sir.  You see me now with my back like a camel and by ribs all awry, but there was a time when Corporal Henry Wood was the smartest man in the 117th foot.  We were in India then, in cantonments, at a place we'll call Bhurtee.  Barclay, who died the other day, was sergeant in the same company as myself, and the belle of the regiment, ay, and the finest girl that ever had the breath of life between her lips, was Nancy Devoy, the daughter of the color-sergeant.  There were two men that loved her, and one that she loved, and you'll smile when you look at this poor thing huddled before the fire, and hear me say that it was for my good looks that she loved me. \n",
      "\n",
      "\"Well, though I had her heart, her father was set upon her marrying Barclay.  I was a harum-scarum, reckless lad, and he had had an education, and was already marked for the sword-belt.  But the girl held true to me, and it seemed that I would have had her when the Mutiny broke out, and all hell was loose in the country. \n",
      "\n",
      "\"We were shut up in Bhurtee, the regiment of us with half a battery of artillery, a company of Sikhs, and a lot of civilians and women-folk.  There were ten thousand rebels round us, and they were as keen as a set of terriers round a rat-cage.  About the second week of it our water gave out, and it was a question whether we could communicate with General Neill's column, which was moving up country. It was our only chance, for we could not hope to fight our way out with all the women and children, so I volunteered to go out and to warn General Neill of our danger.  My offer was accepted, and I talked it over with Sergeant Barclay, who was supposed to know the ground better than any other man, and who drew up a route by which I might get through the rebel lines.  At ten o'clock the same night I started off upon my journey.  There were a thousand lives to save, but it was of only one that I was thinking when I dropped over the wall that night. \n",
      "\n",
      "\"My way ran down a dried-up watercourse, which we hoped would screen me from the enemy's sentries; but as I crept round the corner of it I walked right into six of them, who were crouching down in the dark waiting for me.  In an instant I was stunned with a blow and bound hand and foot.  But the real blow was to my heart and not to my head, for as I came to and listened to as much as I could understand of their talk, I heard enough to tell me that my comrade, the very man who had arranged the way that I was to take, had betrayed me by means of a native servant into the hands of the enemy. \n",
      "\n",
      "\"Well, there's no need for me to dwell on that part of it.  You know now what James Barclay was capable of.  Bhurtee was relieved by Neill next day, but the rebels took me away with them in their retreat, and it was many a long year before ever I saw a white face again.  I was tortured and tried to get away, and was captured and tortured again. You can see for yourselves the state in which I was left.  Some of them that fled into Nepal took me with them, and then afterwards I was up past Darjeeling.\n",
      "---------------------\n",
      "Given the context information and not prior knowledge, answer the query.\n",
      "Query: Who killed Enoch Drebber?\n",
      "Answer: \n",
      "**************************************************\n",
      "** Response: **\n",
      "assistant: James Barclay was responsible for the death of Enoch Drebber.\n",
      "**************************************************\n",
      "\n",
      "\n"
     ]
    }
   ],
   "source": [
    "query_result = query_engine.query(\"Who killed Enoch Drebber?\")"
   ]
  },
  {
   "cell_type": "code",
   "execution_count": 13,
   "metadata": {},
   "outputs": [
    {
     "name": "stdout",
     "output_type": "stream",
     "text": [
      "James Barclay was responsible for the death of Enoch Drebber.\n"
     ]
    }
   ],
   "source": [
    "print(query_result)"
   ]
  },
  {
   "cell_type": "code",
   "execution_count": null,
   "metadata": {},
   "outputs": [],
   "source": []
  },
  {
   "cell_type": "code",
   "execution_count": null,
   "metadata": {},
   "outputs": [],
   "source": []
  },
  {
   "cell_type": "code",
   "execution_count": null,
   "metadata": {},
   "outputs": [],
   "source": []
  },
  {
   "cell_type": "code",
   "execution_count": null,
   "metadata": {},
   "outputs": [],
   "source": []
  },
  {
   "cell_type": "code",
   "execution_count": null,
   "metadata": {},
   "outputs": [],
   "source": []
  },
  {
   "cell_type": "code",
   "execution_count": null,
   "metadata": {},
   "outputs": [],
   "source": []
  },
  {
   "cell_type": "code",
   "execution_count": null,
   "metadata": {},
   "outputs": [],
   "source": []
  },
  {
   "cell_type": "code",
   "execution_count": null,
   "metadata": {},
   "outputs": [],
   "source": [
    "transformations = [parser, splitter]\n",
    "pipeline = IngestionPipeline(transformations=transformations)"
   ]
  }
 ],
 "metadata": {
  "kernelspec": {
   "display_name": "py10",
   "language": "python",
   "name": "python3"
  },
  "language_info": {
   "codemirror_mode": {
    "name": "ipython",
    "version": 3
   },
   "file_extension": ".py",
   "mimetype": "text/x-python",
   "name": "python",
   "nbconvert_exporter": "python",
   "pygments_lexer": "ipython3",
   "version": "3.10.14"
  }
 },
 "nbformat": 4,
 "nbformat_minor": 2
}
