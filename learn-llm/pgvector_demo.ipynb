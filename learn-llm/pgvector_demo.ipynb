{
 "cells": [
  {
   "cell_type": "markdown",
   "metadata": {},
   "source": [
    "# PostgreSQL Vector Db Demo\n",
    "\n",
    "**Refs**:\n",
    "  * [Installing PostgreSQL on Arch](https://wiki.archlinux.org/title/PostgreSQL)\n",
    "  * [PgVector](https://github.com/pgvector/pgvector)\n",
    "  * [Python Client for PgVector](https://github.com/pgvector/pgvector-python)\n",
    "\n",
    "1. Install postgresql and ensure it is running.\n",
    "2. Install pgvector (probably will need to make it from source).\n",
    "3. Install pgvector-python (`pip install pgvector`).\n",
    "4. Install the pgvector extension in everydatabase I want to use it by running the following once in the database -\n",
    "```sql\n",
    "CREATE EXTENSION vector;\n",
    "```"
   ]
  },
  {
   "cell_type": "code",
   "execution_count": 1,
   "metadata": {
    "ExecuteTime": {
     "end_time": "2024-12-04T06:45:56.090716Z",
     "start_time": "2024-12-04T06:45:56.087622Z"
    }
   },
   "outputs": [],
   "source": [
    "import psycopg as pg\n",
    "from pgvector.psycopg import register_vector\n",
    "import numpy as np"
   ]
  },
  {
   "cell_type": "code",
   "execution_count": 2,
   "metadata": {
    "ExecuteTime": {
     "end_time": "2024-12-04T06:50:05.952953Z",
     "start_time": "2024-12-04T06:50:05.949829Z"
    }
   },
   "outputs": [],
   "source": [
    "embedding = np.array([100,200,300])"
   ]
  },
  {
   "cell_type": "markdown",
   "metadata": {},
   "source": [
    "Ensure that the database `vectordb` has the pgvector extension installed."
   ]
  },
  {
   "cell_type": "code",
   "execution_count": 3,
   "metadata": {
    "ExecuteTime": {
     "end_time": "2024-12-04T06:50:07.855180Z",
     "start_time": "2024-12-04T06:50:07.844380Z"
    }
   },
   "outputs": [
    {
     "name": "stdout",
     "output_type": "stream",
     "text": [
      "(3, array([100., 200., 300.], dtype=float32))\n",
      "(2, array([4., 5., 6.], dtype=float32))\n"
     ]
    }
   ],
   "source": [
    "with pg.connect(\"dbname=vectordb user=pguser\") as conn:\n",
    "    register_vector(conn)\n",
    "    with conn.cursor() as cur:\n",
    "        cur.execute(\"SELECT * FROM items ORDER BY embedding <-> %s LIMIT 2\", (embedding,))\n",
    "        for row in cur.fetchall():\n",
    "            print(row)"
   ]
  },
  {
   "cell_type": "code",
   "execution_count": 4,
   "metadata": {
    "ExecuteTime": {
     "end_time": "2024-12-04T06:57:24.079420Z",
     "start_time": "2024-12-04T06:57:24.075695Z"
    }
   },
   "outputs": [
    {
     "data": {
      "text/plain": [
       "True"
      ]
     },
     "execution_count": 4,
     "metadata": {},
     "output_type": "execute_result"
    }
   ],
   "source": [
    "conn.closed"
   ]
  },
  {
   "cell_type": "code",
   "execution_count": 5,
   "metadata": {
    "ExecuteTime": {
     "end_time": "2024-12-04T07:06:47.806132Z",
     "start_time": "2024-12-04T07:06:47.803721Z"
    }
   },
   "outputs": [
    {
     "data": {
      "text/plain": [
       "True"
      ]
     },
     "execution_count": 5,
     "metadata": {},
     "output_type": "execute_result"
    }
   ],
   "source": [
    "import os\n",
    "\"OPENAI_API_KEY\" in os.environ"
   ]
  },
  {
   "cell_type": "code",
   "execution_count": 6,
   "metadata": {
    "ExecuteTime": {
     "end_time": "2024-12-04T07:08:35.363096Z",
     "start_time": "2024-12-04T07:08:34.859651Z"
    }
   },
   "outputs": [],
   "source": [
    "from openai import OpenAI"
   ]
  },
  {
   "cell_type": "code",
   "execution_count": 7,
   "metadata": {
    "ExecuteTime": {
     "end_time": "2024-12-04T07:08:40.104780Z",
     "start_time": "2024-12-04T07:08:40.094213Z"
    }
   },
   "outputs": [],
   "source": [
    "client = OpenAI()"
   ]
  },
  {
   "cell_type": "code",
   "execution_count": 8,
   "metadata": {
    "ExecuteTime": {
     "end_time": "2024-12-04T07:10:07.317473Z",
     "start_time": "2024-12-04T07:10:06.257956Z"
    }
   },
   "outputs": [
    {
     "name": "stdout",
     "output_type": "stream",
     "text": [
      "ChatCompletionMessage(content='Functions call themselves,  \\nDepths of logic intertwine,  \\nEndless paths converge.', refusal=None, role='assistant', audio=None, function_call=None, tool_calls=None)\n"
     ]
    }
   ],
   "source": [
    "completion = client.chat.completions.create(\n",
    "    model=\"gpt-4o-mini\",\n",
    "    messages=[\n",
    "        {\n",
    "            \"role\": \"system\",\n",
    "            \"content\": \"You are a helpful assistant.\"\n",
    "        },\n",
    "        {\n",
    "            \"role\": \"user\",\n",
    "            \"content\": \"Write a haiku about recursion in programming.\"\n",
    "        }\n",
    "    ]\n",
    ")\n",
    "print(completion.choices[0].message)"
   ]
  },
  {
   "cell_type": "code",
   "execution_count": 9,
   "metadata": {
    "ExecuteTime": {
     "end_time": "2024-12-04T07:10:33.057748Z",
     "start_time": "2024-12-04T07:10:33.054007Z"
    }
   },
   "outputs": [
    {
     "data": {
      "text/plain": [
       "ChatCompletionMessage(content='Functions call themselves,  \\nDepths of logic intertwine,  \\nEndless paths converge.', refusal=None, role='assistant', audio=None, function_call=None, tool_calls=None)"
      ]
     },
     "execution_count": 9,
     "metadata": {},
     "output_type": "execute_result"
    }
   ],
   "source": [
    "completion.choices[0].message"
   ]
  },
  {
   "cell_type": "code",
   "execution_count": 10,
   "metadata": {
    "ExecuteTime": {
     "end_time": "2024-12-04T07:23:02.139772Z",
     "start_time": "2024-12-04T07:23:02.136475Z"
    }
   },
   "outputs": [],
   "source": [
    "from sentence_transformers import SentenceTransformer"
   ]
  },
  {
   "cell_type": "code",
   "execution_count": 11,
   "metadata": {
    "ExecuteTime": {
     "end_time": "2024-12-04T07:23:49.710416Z",
     "start_time": "2024-12-04T07:23:41.043144Z"
    }
   },
   "outputs": [],
   "source": [
    "model = SentenceTransformer(\"all-MiniLM-L6-v2\")"
   ]
  },
  {
   "cell_type": "code",
   "execution_count": 12,
   "metadata": {
    "ExecuteTime": {
     "end_time": "2024-12-04T07:23:11.444739Z",
     "start_time": "2024-12-04T07:23:11.441185Z"
    }
   },
   "outputs": [],
   "source": [
    "sentences = [\n",
    "    \"The new Finder puts a user 's folders , hard drive , network servers , iDisk and removable media in one location , providing one-click access .\",\n",
    "    \"Panther 's redesigned Finder navigation tool puts a user 's favourite folders , hard drive , network servers , iDisk and removable media in one location .\",\n",
    "    \"But tropical storm warnings and watches were posted today for Haiti , western portions of the Dominican Republic , the southeastern Bahamas and the Turk and Caicos islands .\",\n",
    "    \"Tropical storm warnings were in place Thursday for Jamaica and Haiti and watches for the western Dominican Republic , the southeastern Bahamas and the Turks and Caicos islands .\",\n",
    "    \"Singapore is already the United States ' 12th-largest trading partner , with two-way trade totaling more than $ 34 billion .\",\n",
    "    \"Although a small city-state , Singapore is the 12th-largest trading partner of the United States , with trade volume of $ 33.4 billion last year .\"\n",
    "]"
   ]
  },
  {
   "cell_type": "code",
   "execution_count": 13,
   "metadata": {
    "ExecuteTime": {
     "end_time": "2024-12-04T07:23:58.236212Z",
     "start_time": "2024-12-04T07:23:58.114773Z"
    }
   },
   "outputs": [],
   "source": [
    "embs = [model.encode(sentence) for sentence in sentences]"
   ]
  },
  {
   "cell_type": "code",
   "execution_count": 14,
   "metadata": {
    "ExecuteTime": {
     "end_time": "2024-12-04T07:24:20.593091Z",
     "start_time": "2024-12-04T07:24:20.588239Z"
    }
   },
   "outputs": [
    {
     "data": {
      "text/plain": [
       "(384,)"
      ]
     },
     "execution_count": 14,
     "metadata": {},
     "output_type": "execute_result"
    }
   ],
   "source": [
    "embs[0].shape"
   ]
  },
  {
   "cell_type": "code",
   "execution_count": 15,
   "metadata": {
    "ExecuteTime": {
     "end_time": "2024-12-04T07:26:55.553738Z",
     "start_time": "2024-12-04T07:26:55.551014Z"
    }
   },
   "outputs": [],
   "source": [
    "insert_sql = \"INSERT INTO sentence_xformers (embedding, content) VALUES (%s, %s)\""
   ]
  },
  {
   "cell_type": "code",
   "execution_count": 16,
   "metadata": {
    "ExecuteTime": {
     "end_time": "2024-12-04T07:27:09.105974Z",
     "start_time": "2024-12-04T07:27:09.090216Z"
    }
   },
   "outputs": [],
   "source": [
    "with pg.connect(\"dbname=pgv_quickstart user=pguser\") as conn:\n",
    "    register_vector(conn)\n",
    "    with conn.cursor() as cur:\n",
    "        for i in range(len(sentences)):\n",
    "            conn.execute(insert_sql, (embs[i], sentences[i]))"
   ]
  },
  {
   "cell_type": "code",
   "execution_count": 17,
   "metadata": {
    "ExecuteTime": {
     "end_time": "2024-12-04T07:27:57.382530Z",
     "start_time": "2024-12-04T07:27:57.357995Z"
    }
   },
   "outputs": [],
   "source": [
    "query_sentence = \"The dynamic economic partnership between Singapore and the United States has resulted in mutual trade volume exceeding $34 billion, with Singapore emerging as the U.S.' 12th-largest trading partner.\"\n",
    "query_emb = model.encode(query_sentence)"
   ]
  },
  {
   "cell_type": "code",
   "execution_count": 18,
   "metadata": {
    "ExecuteTime": {
     "end_time": "2024-12-04T07:30:27.682361Z",
     "start_time": "2024-12-04T07:30:27.678533Z"
    }
   },
   "outputs": [
    {
     "data": {
      "text/plain": [
       "(384,)"
      ]
     },
     "execution_count": 18,
     "metadata": {},
     "output_type": "execute_result"
    }
   ],
   "source": [
    "query_emb.shape"
   ]
  },
  {
   "cell_type": "code",
   "execution_count": 19,
   "metadata": {
    "ExecuteTime": {
     "end_time": "2024-12-04T07:30:47.170814Z",
     "start_time": "2024-12-04T07:30:47.166111Z"
    }
   },
   "outputs": [
    {
     "data": {
      "text/plain": [
       "numpy.ndarray"
      ]
     },
     "execution_count": 19,
     "metadata": {},
     "output_type": "execute_result"
    }
   ],
   "source": [
    "type(query_emb)"
   ]
  },
  {
   "cell_type": "code",
   "execution_count": 20,
   "metadata": {
    "ExecuteTime": {
     "end_time": "2024-12-04T07:33:31.741757Z",
     "start_time": "2024-12-04T07:33:31.737827Z"
    }
   },
   "outputs": [
    {
     "data": {
      "text/plain": [
       "numpy.ndarray"
      ]
     },
     "execution_count": 20,
     "metadata": {},
     "output_type": "execute_result"
    }
   ],
   "source": [
    "type(embs[0])"
   ]
  },
  {
   "cell_type": "code",
   "execution_count": 21,
   "metadata": {
    "ExecuteTime": {
     "end_time": "2024-12-04T07:33:38.395279Z",
     "start_time": "2024-12-04T07:33:38.391598Z"
    }
   },
   "outputs": [
    {
     "data": {
      "text/plain": [
       "(384,)"
      ]
     },
     "execution_count": 21,
     "metadata": {},
     "output_type": "execute_result"
    }
   ],
   "source": [
    "embs[0].shape"
   ]
  },
  {
   "cell_type": "code",
   "execution_count": 22,
   "metadata": {
    "ExecuteTime": {
     "end_time": "2024-12-04T07:39:59.856403Z",
     "start_time": "2024-12-04T07:39:59.852765Z"
    }
   },
   "outputs": [],
   "source": [
    "from sklearn.metrics import pairwise_distances"
   ]
  },
  {
   "cell_type": "code",
   "execution_count": 23,
   "metadata": {
    "ExecuteTime": {
     "end_time": "2024-12-04T07:43:26.925986Z",
     "start_time": "2024-12-04T07:43:26.918939Z"
    }
   },
   "outputs": [
    {
     "name": "stdout",
     "output_type": "stream",
     "text": [
      "l2 = [[1.4468412]]\n",
      "The new Finder puts a user 's folders , hard drive , network servers , iDisk and removable media in one location , providing one-click access .\n",
      "\n",
      "\n",
      "l2 = [[1.3744501]]\n",
      "Panther 's redesigned Finder navigation tool puts a user 's favourite folders , hard drive , network servers , iDisk and removable media in one location .\n",
      "\n",
      "\n",
      "l2 = [[1.4506443]]\n",
      "But tropical storm warnings and watches were posted today for Haiti , western portions of the Dominican Republic , the southeastern Bahamas and the Turk and Caicos islands .\n",
      "\n",
      "\n",
      "l2 = [[1.444849]]\n",
      "Tropical storm warnings were in place Thursday for Jamaica and Haiti and watches for the western Dominican Republic , the southeastern Bahamas and the Turks and Caicos islands .\n",
      "\n",
      "\n",
      "l2 = [[0.56965816]]\n",
      "Singapore is already the United States ' 12th-largest trading partner , with two-way trade totaling more than $ 34 billion .\n",
      "\n",
      "\n",
      "l2 = [[0.53106487]]\n",
      "Although a small city-state , Singapore is the 12th-largest trading partner of the United States , with trade volume of $ 33.4 billion last year .\n",
      "\n",
      "\n"
     ]
    }
   ],
   "source": [
    "for sentence, emb in zip(sentences, embs):\n",
    "    l2 = pairwise_distances(emb.reshape(1, -1), query_emb.reshape(1, -1))\n",
    "    print(f\"l2 = {l2}\")\n",
    "    print(sentence)\n",
    "    print(\"\\n\")\n"
   ]
  },
  {
   "cell_type": "markdown",
   "metadata": {},
   "source": [
    "### Distance Functions\n",
    "PgVector supports the following distance functions, each with its own weird symbol -\n",
    "* `<->` - L2 distance\n",
    "* `<#>` - (negative) inner product\n",
    "* `<=>` - cosine distance\n",
    "* `<+>` - L1 distance (added in 0.7.0)\n",
    "* `<~>` - Hamming distance (binary vectors, added in 0.7.0)\n",
    "* `<%>` - Jaccard distance (binary vectors, added in 0.7.0)"
   ]
  },
  {
   "cell_type": "code",
   "execution_count": 24,
   "metadata": {
    "ExecuteTime": {
     "end_time": "2024-12-04T07:52:36.101600Z",
     "start_time": "2024-12-04T07:52:36.090756Z"
    }
   },
   "outputs": [
    {
     "name": "stdout",
     "output_type": "stream",
     "text": [
      "(1, \"The new Finder puts a user 's folders , hard drive , network servers , iDisk and removable media in one location , providing one-click access .\", 1.4468411995748218)\n",
      "(2, \"Panther 's redesigned Finder navigation tool puts a user 's favourite folders , hard drive , network servers , iDisk and removable media in one location .\", 1.3744500534291297)\n",
      "(3, 'But tropical storm warnings and watches were posted today for Haiti , western portions of the Dominican Republic , the southeastern Bahamas and the Turk and Caicos islands .', 1.4506442316005759)\n",
      "(4, 'Tropical storm warnings were in place Thursday for Jamaica and Haiti and watches for the western Dominican Republic , the southeastern Bahamas and the Turks and Caicos islands .', 1.4448490533889198)\n",
      "(5, \"Singapore is already the United States ' 12th-largest trading partner , with two-way trade totaling more than $ 34 billion .\", 0.569658165331814)\n",
      "(6, 'Although a small city-state , Singapore is the 12th-largest trading partner of the United States , with trade volume of $ 33.4 billion last year .', 0.53106484271908)\n",
      "(7, \"The new Finder puts a user 's folders , hard drive , network servers , iDisk and removable media in one location , providing one-click access .\", 1.4468411995748218)\n",
      "(8, \"Panther 's redesigned Finder navigation tool puts a user 's favourite folders , hard drive , network servers , iDisk and removable media in one location .\", 1.3744500534291297)\n",
      "(9, 'But tropical storm warnings and watches were posted today for Haiti , western portions of the Dominican Republic , the southeastern Bahamas and the Turk and Caicos islands .', 1.4506442316005759)\n",
      "(10, 'Tropical storm warnings were in place Thursday for Jamaica and Haiti and watches for the western Dominican Republic , the southeastern Bahamas and the Turks and Caicos islands .', 1.4448490533889198)\n",
      "(11, \"Singapore is already the United States ' 12th-largest trading partner , with two-way trade totaling more than $ 34 billion .\", 0.569658165331814)\n",
      "(12, 'Although a small city-state , Singapore is the 12th-largest trading partner of the United States , with trade volume of $ 33.4 billion last year .', 0.53106484271908)\n",
      "(13, \"The new Finder puts a user 's folders , hard drive , network servers , iDisk and removable media in one location , providing one-click access .\", 1.4468411995748218)\n",
      "(14, \"Panther 's redesigned Finder navigation tool puts a user 's favourite folders , hard drive , network servers , iDisk and removable media in one location .\", 1.3744500534291297)\n",
      "(15, 'But tropical storm warnings and watches were posted today for Haiti , western portions of the Dominican Republic , the southeastern Bahamas and the Turk and Caicos islands .', 1.4506442316005759)\n",
      "(16, 'Tropical storm warnings were in place Thursday for Jamaica and Haiti and watches for the western Dominican Republic , the southeastern Bahamas and the Turks and Caicos islands .', 1.4448490533889198)\n",
      "(17, \"Singapore is already the United States ' 12th-largest trading partner , with two-way trade totaling more than $ 34 billion .\", 0.569658165331814)\n",
      "(18, 'Although a small city-state , Singapore is the 12th-largest trading partner of the United States , with trade volume of $ 33.4 billion last year .', 0.53106484271908)\n"
     ]
    }
   ],
   "source": [
    "select_sql = \"SELECT id, content, embedding <-> %s AS distance FROM sentence_xformers\"\n",
    "# select_sql = \"select id, content from sentence_xformers\"\n",
    "\n",
    "with pg.connect(\"dbname=pgv_quickstart user=pguser\") as conn:\n",
    "    register_vector(conn)\n",
    "    with conn.cursor() as cur:\n",
    "        cur.execute(select_sql, (query_emb,))\n",
    "        # cur.execute(select_sql)\n",
    "        for row in cur.fetchall():\n",
    "            print(row)"
   ]
  },
  {
   "cell_type": "code",
   "execution_count": 25,
   "metadata": {
    "ExecuteTime": {
     "end_time": "2024-12-04T07:54:22.761265Z",
     "start_time": "2024-12-04T07:54:22.748450Z"
    }
   },
   "outputs": [
    {
     "name": "stdout",
     "output_type": "stream",
     "text": [
      "(6, 'Although a small city-state , Singapore is the 12th-largest trading partner of the United States , with trade volume of $ 33.4 billion last year .')\n",
      "(12, 'Although a small city-state , Singapore is the 12th-largest trading partner of the United States , with trade volume of $ 33.4 billion last year .')\n"
     ]
    }
   ],
   "source": [
    "select_sql = \"SELECT id, content FROM sentence_xformers ORDER BY embedding <=> %s LIMIT 2\"\n",
    "\n",
    "with pg.connect(\"dbname=pgv_quickstart user=pguser\") as conn:\n",
    "    register_vector(conn)\n",
    "    with conn.cursor() as cur:\n",
    "        cur.execute(select_sql, (query_emb,))\n",
    "        for row in cur.fetchall():\n",
    "            print(row)"
   ]
  },
  {
   "cell_type": "code",
   "execution_count": null,
   "metadata": {},
   "outputs": [],
   "source": []
  }
 ],
 "metadata": {
  "kernelspec": {
   "display_name": "Python 3 (ipykernel)",
   "language": "python",
   "name": "python3"
  },
  "language_info": {
   "codemirror_mode": {
    "name": "ipython",
    "version": 3
   },
   "file_extension": ".py",
   "mimetype": "text/x-python",
   "name": "python",
   "nbconvert_exporter": "python",
   "pygments_lexer": "ipython3",
   "version": "3.12.7"
  }
 },
 "nbformat": 4,
 "nbformat_minor": 4
}
