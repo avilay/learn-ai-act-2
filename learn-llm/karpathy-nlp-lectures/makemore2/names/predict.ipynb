{
 "cells": [
  {
   "cell_type": "code",
   "execution_count": 22,
   "metadata": {},
   "outputs": [
    {
     "name": "stdout",
     "output_type": "stream",
     "text": [
      "The autoreload extension is already loaded. To reload it, use:\n",
      "  %reload_ext autoreload\n"
     ]
    }
   ],
   "source": [
    "%load_ext autoreload\n",
    "%autoreload 2"
   ]
  },
  {
   "cell_type": "code",
   "execution_count": 45,
   "metadata": {},
   "outputs": [],
   "source": [
    "from pathlib import Path\n",
    "import lightning as L\n",
    "import torch as t\n",
    "from data import EOT_TOKEN, NamesDataset\n",
    "from model import CharLangNet\n",
    "from dataclasses import dataclass"
   ]
  },
  {
   "cell_type": "code",
   "execution_count": 24,
   "metadata": {},
   "outputs": [],
   "source": [
    "DATAROOT = Path.home() / \"mldata\" / \"makemore\" \n",
    "RUNROOT = Path.home() / \"mlruns\" / \"makemore\" / \"names\""
   ]
  },
  {
   "cell_type": "code",
   "execution_count": 4,
   "metadata": {},
   "outputs": [],
   "source": [
    "# Somehow figure out how to get this from the checkpoint's metadata\n",
    "context_len = 3"
   ]
  },
  {
   "cell_type": "code",
   "execution_count": 5,
   "metadata": {},
   "outputs": [],
   "source": [
    "dataset = NamesDataset(DATAROOT / \"names.txt\", context_len)"
   ]
  },
  {
   "cell_type": "code",
   "execution_count": 6,
   "metadata": {},
   "outputs": [],
   "source": [
    "ckpt_path = RUNROOT / \"Makemore2Names\"/\"yo62km9o\"/\"checkpoints\"/\"epoch=9-step=71300.ckpt\"\n",
    "lang_net = CharLangNet.load_from_checkpoint(ckpt_path)"
   ]
  },
  {
   "cell_type": "code",
   "execution_count": 7,
   "metadata": {},
   "outputs": [],
   "source": [
    "eot_tok_idx = dataset.idx_of(EOT_TOKEN)\n",
    "gen_name = []\n",
    "context = [eot_tok_idx] * context_len\n",
    "predicted_idx = None"
   ]
  },
  {
   "cell_type": "code",
   "execution_count": 8,
   "metadata": {},
   "outputs": [
    {
     "data": {
      "text/plain": [
       "<torch.autograd.grad_mode.no_grad at 0x13c6476e0>"
      ]
     },
     "execution_count": 8,
     "metadata": {},
     "output_type": "execute_result"
    }
   ],
   "source": [
    "t.no_grad()"
   ]
  },
  {
   "cell_type": "code",
   "execution_count": 10,
   "metadata": {},
   "outputs": [
    {
     "data": {
      "text/plain": [
       "torch.Size([1, 3])"
      ]
     },
     "execution_count": 10,
     "metadata": {},
     "output_type": "execute_result"
    }
   ],
   "source": [
    "input = t.tensor(context).unsqueeze(0).to(lang_net.device)\n",
    "input.shape"
   ]
  },
  {
   "cell_type": "code",
   "execution_count": 11,
   "metadata": {},
   "outputs": [
    {
     "data": {
      "text/plain": [
       "torch.Size([1, 27])"
      ]
     },
     "execution_count": 11,
     "metadata": {},
     "output_type": "execute_result"
    }
   ],
   "source": [
    "logits = lang_net.model.forward(input)\n",
    "logits.shape"
   ]
  },
  {
   "cell_type": "code",
   "execution_count": 12,
   "metadata": {},
   "outputs": [
    {
     "data": {
      "text/plain": [
       "torch.Size([27])"
      ]
     },
     "execution_count": 12,
     "metadata": {},
     "output_type": "execute_result"
    }
   ],
   "source": [
    "logits = logits.squeeze()\n",
    "logits.shape"
   ]
  },
  {
   "cell_type": "code",
   "execution_count": 13,
   "metadata": {},
   "outputs": [],
   "source": [
    "probs = t.softmax(logits, 0)"
   ]
  },
  {
   "cell_type": "code",
   "execution_count": 14,
   "metadata": {},
   "outputs": [
    {
     "name": "stdout",
     "output_type": "stream",
     "text": [
      "tensor(1., device='mps:0', grad_fn=<SumBackward0>)\n",
      "tensor(0, device='mps:0') tensor(1, device='mps:0')\n",
      "tensor(0, device='mps:0') tensor(1, device='mps:0')\n"
     ]
    }
   ],
   "source": [
    "print(probs.sum())\n",
    "print(t.argmin(logits), t.argmax(logits))\n",
    "print(t.argmin(probs), t.argmax(probs))"
   ]
  },
  {
   "cell_type": "code",
   "execution_count": 16,
   "metadata": {},
   "outputs": [
    {
     "data": {
      "text/plain": [
       "18"
      ]
     },
     "execution_count": 16,
     "metadata": {},
     "output_type": "execute_result"
    }
   ],
   "source": [
    "predicted_idx = t.multinomial(probs, 1)[0].item()\n",
    "predicted_idx"
   ]
  },
  {
   "cell_type": "code",
   "execution_count": 18,
   "metadata": {},
   "outputs": [
    {
     "data": {
      "text/plain": [
       "'r'"
      ]
     },
     "execution_count": 18,
     "metadata": {},
     "output_type": "execute_result"
    }
   ],
   "source": [
    "char = dataset.char_at(predicted_idx)\n",
    "char"
   ]
  },
  {
   "cell_type": "code",
   "execution_count": 26,
   "metadata": {},
   "outputs": [],
   "source": [
    "%reset"
   ]
  },
  {
   "cell_type": "code",
   "execution_count": 28,
   "metadata": {},
   "outputs": [],
   "source": [
    "from pathlib import Path\n",
    "import lightning as L\n",
    "import torch as t\n",
    "from data import EOT_TOKEN, NamesDataset\n",
    "from model import CharLangNet\n",
    "\n",
    "DATAROOT = Path.home() / \"mldata\" / \"makemore\" \n",
    "RUNROOT = Path.home() / \"mlruns\" / \"makemore\" / \"names\"\n",
    "CONTEXT_LEN = 3\n"
   ]
  },
  {
   "cell_type": "code",
   "execution_count": null,
   "metadata": {},
   "outputs": [],
   "source": [
    "ckpt_path = RUNROOT/\"Makemore2Names\"/\"6116xp8k\"/\"checkpoints\"/\"epoch=99-step=713000.ckpt\"\n",
    "lang_net = CharLangNet.load_from_checkpoint(ckpt_path)\n",
    "dataset = NamesDataset(DATAROOT / \"names.txt\", context_len)"
   ]
  },
  {
   "cell_type": "code",
   "execution_count": 58,
   "metadata": {},
   "outputs": [],
   "source": [
    "@dataclass\n",
    "class DebugInfo:\n",
    "    prediction: tuple[list[int], int]\n",
    "    rank: int\n",
    "    probs: list[float] = None"
   ]
  },
  {
   "cell_type": "code",
   "execution_count": 64,
   "metadata": {},
   "outputs": [],
   "source": [
    "def gen_name(vocab: NamesDataset, lang_net: CharLangNet) -> tuple[str, list[DebugInfo]]:\n",
    "    eot_tok_idx = vocab.idx_of(EOT_TOKEN)\n",
    "    name: list[str] = []\n",
    "    context: list[int] = [eot_tok_idx] * CONTEXT_LEN\n",
    "    predicted_idx = None\n",
    "    dbg: list[DebugInfo] = []\n",
    "    with t.no_grad():\n",
    "        while predicted_idx != eot_tok_idx and len(name) < 10:\n",
    "            input = t.tensor(context).unsqueeze(0).to(lang_net.device)\n",
    "            logits = lang_net.model.forward(input).squeeze()\n",
    "            probs = t.softmax(logits, 0)\n",
    "            predicted_idx = t.multinomial(probs, 1)[0].item()\n",
    "\n",
    "            vals, idxs = t.sort(probs, descending=True)\n",
    "            rank = t.nonzero(idxs == predicted_idx).squeeze()\n",
    "            dbg.append(DebugInfo(\n",
    "                # probs=probs,\n",
    "                prediction=(context, predicted_idx),\n",
    "                rank=rank\n",
    "            ))\n",
    "\n",
    "            predicted_char = vocab.char_at(predicted_idx)\n",
    "            name.append(predicted_char)\n",
    "            context = context[1:] + [predicted_idx]\n",
    "    return \"\".join(name), dbg"
   ]
  },
  {
   "cell_type": "code",
   "execution_count": 65,
   "metadata": {},
   "outputs": [
    {
     "name": "stdout",
     "output_type": "stream",
     "text": [
      "mailaiki.\n"
     ]
    }
   ],
   "source": [
    "name, dbg = gen_name(dataset, lang_net)\n",
    "print(name)"
   ]
  },
  {
   "cell_type": "code",
   "execution_count": 67,
   "metadata": {},
   "outputs": [
    {
     "name": "stdout",
     "output_type": "stream",
     "text": [
      "martinaya.\n",
      "mydie.\n",
      "ausy.\n",
      "ano.\n",
      "kaishow.\n",
      "anmellen.\n",
      "ykol.\n",
      "adraian.\n",
      "aney.\n",
      "javionthla\n"
     ]
    }
   ],
   "source": [
    "for _ in range(10):\n",
    "    name, _ = gen_name(dataset, lang_net)\n",
    "    print(name)"
   ]
  },
  {
   "cell_type": "code",
   "execution_count": null,
   "metadata": {},
   "outputs": [],
   "source": []
  }
 ],
 "metadata": {
  "kernelspec": {
   "display_name": "ai",
   "language": "python",
   "name": "python3"
  },
  "language_info": {
   "codemirror_mode": {
    "name": "ipython",
    "version": 3
   },
   "file_extension": ".py",
   "mimetype": "text/x-python",
   "name": "python",
   "nbconvert_exporter": "python",
   "pygments_lexer": "ipython3",
   "version": "3.12.0"
  }
 },
 "nbformat": 4,
 "nbformat_minor": 2
}
