{
 "cells": [
  {
   "cell_type": "code",
   "execution_count": 1,
   "metadata": {},
   "outputs": [],
   "source": [
    "%load_ext autoreload\n",
    "%autoreload 2"
   ]
  },
  {
   "cell_type": "code",
   "execution_count": 2,
   "metadata": {},
   "outputs": [],
   "source": [
    "from pathlib import Path\n",
    "\n",
    "import lightning as L\n",
    "import torch as t\n",
    "from data import EOT_TOKEN, WikitextDataset\n",
    "from model import LangNet"
   ]
  },
  {
   "cell_type": "code",
   "execution_count": 3,
   "metadata": {},
   "outputs": [],
   "source": [
    "DATAROOT = Path.home() / \"mldata\" / \"wikitext-2-raw\"\n",
    "RUNROOT = Path.home() / \"mlruns\" / \"makemore-2\""
   ]
  },
  {
   "cell_type": "code",
   "execution_count": 4,
   "metadata": {},
   "outputs": [],
   "source": [
    "# Somehow figure out how to get this from the checkpoint's metadata\n",
    "context_len = 5"
   ]
  },
  {
   "cell_type": "code",
   "execution_count": 5,
   "metadata": {},
   "outputs": [
    {
     "name": "stdout",
     "output_type": "stream",
     "text": [
      "2075677\n"
     ]
    }
   ],
   "source": [
    "dataset = WikitextDataset(\n",
    "    DATAROOT / \"wiki.train.raw\", \n",
    "    context_len=context_len\n",
    ")\n",
    "\n",
    "print(len(dataset))"
   ]
  },
  {
   "cell_type": "code",
   "execution_count": 6,
   "metadata": {},
   "outputs": [],
   "source": [
    "# ckpt_path = RUNROOT / \"Makemore2\" / \"u9g12aj6\" / \"checkpoints\" / \"epoch=2-step=6228.ckpt\"\n",
    "ckpt_path = RUNROOT / \"Makemore2\" / \"colorful-snow-16\" / \"checkpoints\" / \"model.ckpt\"\n",
    "lang_net = LangNet.load_from_checkpoint(ckpt_path)"
   ]
  },
  {
   "cell_type": "code",
   "execution_count": 113,
   "metadata": {},
   "outputs": [],
   "source": [
    "from dataclasses import dataclass\n",
    "\n",
    "@dataclass\n",
    "class DebugInfo:\n",
    "    rank: int\n",
    "    prob: float\n",
    "    idx: int\n",
    "    top_idxs: list[int]\n",
    "    top_probs: list[float]\n",
    "    context: list[int]"
   ]
  },
  {
   "cell_type": "markdown",
   "metadata": {},
   "source": [
    "Choosing the next token by sampling the entire vocabulary based on the probability outputted by the net. This does not give very good results because the system might choose some token with a very low probability."
   ]
  },
  {
   "cell_type": "code",
   "execution_count": 114,
   "metadata": {},
   "outputs": [
    {
     "name": "stdout",
     "output_type": "stream",
     "text": [
      "Marella mentioned Arton that 9 , Eshkol is bursary only . mélodie was similar completed , but would not outmoded during the name centre of us , but again , Vozdooshnykh of the United North on the 19th 2006 ; one , but without by the team mine 's armoured ) , granted ( regiment ft ) over children of its redundant , ALPAC they his west . As <0>\n"
     ]
    }
   ],
   "source": [
    "vocab = dataset.vocab\n",
    "eot_tok_idx = vocab.idx_of(EOT_TOKEN)\n",
    "context = [eot_tok_idx] * context_len\n",
    "predicted_idx = None\n",
    "gen_text = []\n",
    "debug_info = []\n",
    "with t.no_grad():\n",
    "    while predicted_idx != eot_tok_idx and len(gen_text) < 100:\n",
    "        input = t.tensor(context).unsqueeze(0).to(lang_net.device)\n",
    "        logits = lang_net.model.forward(input)\n",
    "        probs = t.softmax(logits, 0)\n",
    "        \n",
    "        predicted_idx = t.multinomial(probs, 1)[0].item()\n",
    "\n",
    "        # Debug\n",
    "        vals, idxs = t.sort(probs, descending=True)\n",
    "        rank = t.nonzero(idxs == predicted_idx).squeeze()\n",
    "        prob = probs[predicted_idx]\n",
    "        top_idxs = idxs.detach().numpy()[:10]\n",
    "        top_probs = vals.detach().numpy()[:10]\n",
    "        debug_info.append(DebugInfo(rank=rank, prob=prob, idx=predicted_idx, top_idxs=top_idxs, top_probs=top_probs, context=context))\n",
    "\n",
    "        word = vocab.word_at(predicted_idx)\n",
    "        gen_text.append(word)\n",
    "        context = context[1:] + [predicted_idx]\n",
    "\n",
    "print(\" \".join(gen_text))\n",
    "    "
   ]
  },
  {
   "cell_type": "code",
   "execution_count": 115,
   "metadata": {},
   "outputs": [
    {
     "name": "stdout",
     "output_type": "stream",
     "text": [
      "DebugInfo(rank=tensor(66897), prob=tensor(5.2043e-07), idx=73078, top_idxs=array([ 85,   1, 690,  62, 931, 127, 179, 146, 276, 538]), top_probs=array([0.20140465, 0.17070054, 0.06795194, 0.02305998, 0.02288323,\n",
      "       0.01178322, 0.01056079, 0.01034859, 0.00708862, 0.00698738],\n",
      "      dtype=float32), context=[0, 0, 0, 0, 0])\n",
      "\n",
      "\n",
      "DebugInfo(rank=tensor(840), prob=tensor(9.8406e-05), idx=5854, top_idxs=array([ 13,  37, 132,  16,  62, 135,  85,  43,  10,  26]), top_probs=array([0.02212626, 0.01831166, 0.01516041, 0.01448331, 0.01347196,\n",
      "       0.01053168, 0.01032   , 0.00998903, 0.00941204, 0.0092516 ],\n",
      "      dtype=float32), context=[0, 0, 0, 0, 73078])\n",
      "\n",
      "\n",
      "DebugInfo(rank=tensor(23621), prob=tensor(6.5174e-06), idx=44544, top_idxs=array([ 10, 132,  13,  16, 359,  37, 135, 715,  17,  79]), top_probs=array([0.04668538, 0.0323087 , 0.02991573, 0.02142455, 0.01558523,\n",
      "       0.01515251, 0.01278486, 0.0116325 , 0.01157354, 0.01024644],\n",
      "      dtype=float32), context=[0, 0, 0, 73078, 5854])\n",
      "\n",
      "\n",
      "DebugInfo(rank=tensor(8), prob=tensor(0.0111), idx=155, top_idxs=array([ 17,  13,  10, 135, 132,  22,  26,  46, 155, 371]), top_probs=array([0.06656343, 0.02815316, 0.02198492, 0.01940973, 0.01835958,\n",
      "       0.01257561, 0.01208994, 0.01122985, 0.01111071, 0.01029761],\n",
      "      dtype=float32), context=[0, 0, 73078, 5854, 44544])\n",
      "\n",
      "\n",
      "DebugInfo(rank=tensor(721), prob=tensor(8.3270e-05), idx=2876, top_idxs=array([ 527,   17,   13,   46,   62,  219,  135, 2201,   27,   26]), top_probs=array([0.10367426, 0.09960961, 0.05517247, 0.0446059 , 0.03452052,\n",
      "       0.02701398, 0.02570975, 0.01878814, 0.01875862, 0.01404009],\n",
      "      dtype=float32), context=[0, 73078, 5854, 44544, 155])\n",
      "\n",
      "\n",
      "DebugInfo(rank=tensor(0), prob=tensor(0.0921), idx=13, top_idxs=array([ 13, 135,  17,  26,  15,  22,  43, 132,  16,  30]), top_probs=array([0.09211409, 0.04156844, 0.03558756, 0.02443522, 0.02419395,\n",
      "       0.02098579, 0.01974967, 0.01855704, 0.01453915, 0.01199226],\n",
      "      dtype=float32), context=[73078, 5854, 44544, 155, 2876])\n",
      "\n",
      "\n",
      "DebugInfo(rank=tensor(19523), prob=tensor(4.6090e-06), idx=58046, top_idxs=array([ 37,  17,  62, 331, 527, 135,  27, 166,  23, 380]), top_probs=array([0.10601534, 0.06463404, 0.02699463, 0.02375396, 0.02164133,\n",
      "       0.02108189, 0.02100881, 0.01911196, 0.0176715 , 0.01394337],\n",
      "      dtype=float32), context=[5854, 44544, 155, 2876, 13])\n",
      "\n",
      "\n",
      "DebugInfo(rank=tensor(7), prob=tensor(0.0134), idx=26, top_idxs=array([135,  13,  27,  17,  37,  43,  22,  26,  16, 715]), top_probs=array([0.03535479, 0.03046783, 0.02432399, 0.0231652 , 0.01562932,\n",
      "       0.01553222, 0.01506401, 0.01337736, 0.01224724, 0.011505  ],\n",
      "      dtype=float32), context=[44544, 155, 2876, 13, 58046])\n",
      "\n",
      "\n",
      "DebugInfo(rank=tensor(3695), prob=tensor(1.5697e-05), idx=55693, top_idxs=array([  27,  164,   17,  101,   22,    6, 2065,  151,  425,  355]), top_probs=array([0.09796537, 0.07298688, 0.04186263, 0.02404668, 0.02330264,\n",
      "       0.01944998, 0.01291785, 0.01075677, 0.00976445, 0.00846527],\n",
      "      dtype=float32), context=[155, 2876, 13, 58046, 26])\n",
      "\n",
      "\n",
      "DebugInfo(rank=tensor(25), prob=tensor(0.0024), idx=287, top_idxs=array([ 22,  35,  43,  16,  13,  37,  39,  15,  23, 155]), top_probs=array([0.07042873, 0.04225681, 0.04064457, 0.03437201, 0.02829685,\n",
      "       0.02759152, 0.01934905, 0.01762425, 0.01552581, 0.01166411],\n",
      "      dtype=float32), context=[2876, 13, 58046, 26, 55693])\n",
      "\n",
      "\n",
      "DebugInfo(rank=tensor(7), prob=tensor(0.0243), idx=15, top_idxs=array([27, 17, 43, 22, 13, 16, 35, 15, 39, 37]), top_probs=array([0.06009167, 0.04596329, 0.04443437, 0.03887959, 0.03502704,\n",
      "       0.03283007, 0.02936804, 0.02429489, 0.02336176, 0.01716933],\n",
      "      dtype=float32), context=[13, 58046, 26, 55693, 287])\n",
      "\n",
      "\n",
      "DebugInfo(rank=tensor(2410), prob=tensor(1.1372e-05), idx=76152, top_idxs=array([   0,   85,   62,  690,  788,  139,  555,  327, 2155,  127]), top_probs=array([0.22728297, 0.20548898, 0.04661807, 0.04270741, 0.03583472,\n",
      "       0.02384836, 0.01637921, 0.01480547, 0.01438396, 0.01356443],\n",
      "      dtype=float32), context=[58046, 26, 55693, 287, 15])\n",
      "\n",
      "\n",
      "DebugInfo(rank=tensor(1), prob=tensor(0.0908), idx=135, top_idxs=array([ 13, 135,  17,  26,  43,  37,  22,  27, 132,  16]), top_probs=array([0.11057016, 0.09084746, 0.07559749, 0.03909675, 0.02382152,\n",
      "       0.02238809, 0.01974244, 0.01855079, 0.01609501, 0.01483392],\n",
      "      dtype=float32), context=[26, 55693, 287, 15, 76152])\n",
      "\n",
      "\n",
      "DebugInfo(rank=tensor(58), prob=tensor(0.0019), idx=780, top_idxs=array([ 17,  27, 101, 164, 170, 825,  60, 355,  43, 151]), top_probs=array([0.06329843, 0.04842861, 0.0303885 , 0.02777588, 0.0236024 ,\n",
      "       0.01953782, 0.01927884, 0.01572417, 0.01119706, 0.00951371],\n",
      "      dtype=float32), context=[55693, 287, 15, 76152, 135])\n",
      "\n",
      "\n",
      "DebugInfo(rank=tensor(157), prob=tensor(0.0002), idx=1391, top_idxs=array([ 22,  35,  13,  43,  27,  17,  39, 123,  37,  15]), top_probs=array([0.20172785, 0.14846066, 0.07524337, 0.07350471, 0.03314788,\n",
      "       0.03001484, 0.0265063 , 0.01901677, 0.01865652, 0.01544045],\n",
      "      dtype=float32), context=[287, 15, 76152, 135, 780])\n",
      "\n",
      "\n",
      "DebugInfo(rank=tensor(0), prob=tensor(0.1305), idx=13, top_idxs=array([ 13,  22,  43,  16,  37,  35,  15,  95,  39, 123]), top_probs=array([0.1305386 , 0.07937843, 0.07316577, 0.06765179, 0.03908867,\n",
      "       0.03266579, 0.02882336, 0.02129531, 0.0177009 , 0.01768946],\n",
      "      dtype=float32), context=[15, 76152, 135, 780, 1391])\n",
      "\n",
      "\n",
      "DebugInfo(rank=tensor(4), prob=tensor(0.0275), idx=166, top_idxs=array([ 37,  17, 331, 123, 166,  23,  27,  43,  22,  74]), top_probs=array([0.108081  , 0.06260512, 0.05044308, 0.02845789, 0.02746631,\n",
      "       0.02610123, 0.02453172, 0.02094297, 0.01856611, 0.01685441],\n",
      "      dtype=float32), context=[76152, 135, 780, 1391, 13])\n",
      "\n",
      "\n",
      "DebugInfo(rank=tensor(36), prob=tensor(0.0029), idx=172, top_idxs=array([ 17, 527,  13, 135,  46,  35,  37,  16,  43, 155]), top_probs=array([0.04215475, 0.04075901, 0.03602573, 0.03438409, 0.02633216,\n",
      "       0.01873956, 0.01794816, 0.01752129, 0.01638327, 0.016187  ],\n",
      "      dtype=float32), context=[135, 780, 1391, 13, 166])\n",
      "\n",
      "\n",
      "DebugInfo(rank=tensor(2), prob=tensor(0.0427), idx=164, top_idxs=array([215, 359, 164,  13,  37,  43, 132,  16,  17,  27]), top_probs=array([0.1538306 , 0.06665501, 0.04266351, 0.01638969, 0.009739  ,\n",
      "       0.00882197, 0.00829016, 0.00826137, 0.00810669, 0.0078415 ],\n",
      "      dtype=float32), context=[780, 1391, 13, 166, 172])\n",
      "\n",
      "\n",
      "DebugInfo(rank=tensor(57582), prob=tensor(8.8144e-07), idx=29036, top_idxs=array([215,  27, 359,  17,  22, 371,  43, 562, 287, 155]), top_probs=array([0.10229173, 0.04407803, 0.03707946, 0.02477047, 0.01368339,\n",
      "       0.00985288, 0.0090192 , 0.00843627, 0.00776808, 0.00749703],\n",
      "      dtype=float32), context=[1391, 13, 166, 172, 164])\n",
      "\n",
      "\n",
      "DebugInfo(rank=tensor(27), prob=tensor(0.0036), idx=70, top_idxs=array([ 43,  17,  22,  27,  62,  13,  30,  39, 155,  35]), top_probs=array([0.05069298, 0.04399916, 0.03217212, 0.02920025, 0.02325329,\n",
      "       0.02222286, 0.02211246, 0.01954662, 0.01671698, 0.01649045],\n",
      "      dtype=float32), context=[13, 166, 172, 164, 29036])\n",
      "\n",
      "\n",
      "DebugInfo(rank=tensor(0), prob=tensor(0.4861), idx=17, top_idxs=array([ 17, 371,  13,  15,  27,  43,  22, 509,  37, 123]), top_probs=array([0.48613244, 0.02823331, 0.02524538, 0.02228751, 0.01998646,\n",
      "       0.01564131, 0.01465774, 0.01244935, 0.01179967, 0.00808363],\n",
      "      dtype=float32), context=[166, 172, 164, 29036, 70])\n",
      "\n",
      "\n",
      "DebugInfo(rank=tensor(33), prob=tensor(0.0027), idx=1217, top_idxs=array([  60,  569,   50,   33,  827,   53, 1054, 4882,  587, 4081]), top_probs=array([0.0156057 , 0.0136989 , 0.01323236, 0.00906481, 0.008503  ,\n",
      "       0.00843808, 0.00773639, 0.00729266, 0.00658099, 0.00639936],\n",
      "      dtype=float32), context=[172, 164, 29036, 70, 17])\n",
      "\n",
      "\n",
      "DebugInfo(rank=tensor(1268), prob=tensor(6.4643e-05), idx=3847, top_idxs=array([16, 13, 37, 15, 22, 30, 43, 62, 10, 39]), top_probs=array([0.14832395, 0.07015728, 0.06607608, 0.06236646, 0.03678713,\n",
      "       0.02121608, 0.02099468, 0.01602765, 0.01463019, 0.00967969],\n",
      "      dtype=float32), context=[164, 29036, 70, 17, 1217])\n",
      "\n",
      "\n",
      "DebugInfo(rank=tensor(1), prob=tensor(0.1251), idx=16, top_idxs=array([ 13,  16,  15,  43,  37,  95,  39,  10,  22, 293]), top_probs=array([0.16599749, 0.1250614 , 0.10703977, 0.0523054 , 0.04381519,\n",
      "       0.03164234, 0.01730393, 0.01507698, 0.01100488, 0.01069041],\n",
      "      dtype=float32), context=[29036, 70, 17, 1217, 3847])\n",
      "\n",
      "\n",
      "DebugInfo(rank=tensor(1429), prob=tensor(5.1826e-05), idx=5521, top_idxs=array([ 17,  27, 371,  62,  85,  55, 302, 376, 151, 509]), top_probs=array([0.2782384 , 0.01690018, 0.01232956, 0.01051655, 0.00768292,\n",
      "       0.00627871, 0.00586421, 0.00452656, 0.00435107, 0.00423459],\n",
      "      dtype=float32), context=[70, 17, 1217, 3847, 16])\n",
      "\n",
      "\n",
      "DebugInfo(rank=tensor(0), prob=tensor(0.1982), idx=13, top_idxs=array([ 13,  15,  37,  22,  43, 132,  30,  10, 465,  16]), top_probs=array([0.19823845, 0.14782494, 0.09067807, 0.03688649, 0.02781236,\n",
      "       0.02770525, 0.02262768, 0.01948153, 0.01561619, 0.015346  ],\n",
      "      dtype=float32), context=[17, 1217, 3847, 16, 5521])\n",
      "\n",
      "\n",
      "DebugInfo(rank=tensor(1), prob=tensor(0.0354), idx=166, top_idxs=array([ 37, 166,  17,  23, 331,  43, 123,  74,  62, 527]), top_probs=array([0.13254161, 0.03537443, 0.0317877 , 0.03075661, 0.02178607,\n",
      "       0.02041051, 0.01564716, 0.01207042, 0.01203835, 0.01157263],\n",
      "      dtype=float32), context=[1217, 3847, 16, 5521, 13])\n",
      "\n",
      "\n",
      "DebugInfo(rank=tensor(220), prob=tensor(0.0003), idx=627, top_idxs=array([135,  17,  13,  46, 527,  37,  26,  43,  16, 101]), top_probs=array([0.05429488, 0.05034215, 0.03568213, 0.02120291, 0.01769704,\n",
      "       0.01636025, 0.01512258, 0.01479928, 0.01304866, 0.01275551],\n",
      "      dtype=float32), context=[3847, 16, 5521, 13, 166])\n",
      "\n",
      "\n",
      "DebugInfo(rank=tensor(0), prob=tensor(0.0602), idx=13, top_idxs=array([ 13,  22, 135,  37,  43,  27,  16,  26, 132,  15]), top_probs=array([0.06015237, 0.05070069, 0.03219918, 0.02719769, 0.01676875,\n",
      "       0.01562623, 0.01471353, 0.01329369, 0.01326167, 0.01305612],\n",
      "      dtype=float32), context=[16, 5521, 13, 166, 627])\n",
      "\n",
      "\n",
      "DebugInfo(rank=tensor(19512), prob=tensor(4.9468e-06), idx=30887, top_idxs=array([ 37,  17, 331,  27, 123,  43,  22,  23, 166,  46]), top_probs=array([0.1088362 , 0.03135068, 0.01801508, 0.01469038, 0.0136104 ,\n",
      "       0.01316999, 0.01224078, 0.01189722, 0.0108539 , 0.00966154],\n",
      "      dtype=float32), context=[5521, 13, 166, 627, 13])\n",
      "\n",
      "\n",
      "DebugInfo(rank=tensor(1), prob=tensor(0.0270), idx=16, top_idxs=array([ 13,  16,  27,  17, 155,  37,  62,  46, 527, 132]), top_probs=array([0.05959135, 0.02698834, 0.02177603, 0.02081267, 0.01580186,\n",
      "       0.0150161 , 0.0146994 , 0.01216171, 0.01197891, 0.00976248],\n",
      "      dtype=float32), context=[13, 166, 627, 13, 30887])\n",
      "\n",
      "\n",
      "DebugInfo(rank=tensor(0), prob=tensor(0.1296), idx=17, top_idxs=array([ 17,  27, 371,  62, 487, 630,  55, 151, 331,  85]), top_probs=array([0.12963356, 0.01791751, 0.01469914, 0.01444351, 0.00690912,\n",
      "       0.00467865, 0.00459674, 0.00457084, 0.00453509, 0.00386821],\n",
      "      dtype=float32), context=[166, 627, 13, 30887, 16])\n",
      "\n",
      "\n",
      "DebugInfo(rank=tensor(7), prob=tensor(0.0068), idx=1334, top_idxs=array([  60,   50,  730,  569,   33,  827, 4081, 1334, 1054,   48]), top_probs=array([0.01355191, 0.00969285, 0.00836424, 0.00787645, 0.00717686,\n",
      "       0.00715215, 0.006934  , 0.00683591, 0.00668453, 0.0063019 ],\n",
      "      dtype=float32), context=[627, 13, 30887, 16, 17])\n",
      "\n",
      "\n",
      "DebugInfo(rank=tensor(195), prob=tensor(0.0001), idx=1989, top_idxs=array([1335, 4083,   13,   16,   37,  132,   30,   15,   43, 2044]), top_probs=array([0.7593283 , 0.03355289, 0.01116413, 0.01060356, 0.00874149,\n",
      "       0.00862583, 0.00606653, 0.00469781, 0.00399369, 0.00391808],\n",
      "      dtype=float32), context=[13, 30887, 16, 17, 1334])\n",
      "\n",
      "\n",
      "DebugInfo(rank=tensor(16), prob=tensor(0.0057), idx=95, top_idxs=array([ 13,  16,  15,  37, 155,  62,  43,  39,  30, 132]), top_probs=array([0.071813  , 0.06465479, 0.05569065, 0.04090763, 0.01855076,\n",
      "       0.01808728, 0.01596465, 0.01321687, 0.01272189, 0.01185872],\n",
      "      dtype=float32), context=[30887, 16, 17, 1334, 1989])\n",
      "\n",
      "\n",
      "DebugInfo(rank=tensor(0), prob=tensor(0.2917), idx=17, top_idxs=array([  17,   27,   22, 1076,   15,   62,   13,   30,  371,   37]), top_probs=array([0.2917236 , 0.05607982, 0.01628393, 0.0154894 , 0.0143778 ,\n",
      "       0.0141001 , 0.01389608, 0.01283187, 0.01038912, 0.00926609],\n",
      "      dtype=float32), context=[16, 17, 1334, 1989, 95])\n",
      "\n",
      "\n",
      "DebugInfo(rank=tensor(140), prob=tensor(0.0011), idx=12079, top_idxs=array([1334,   60, 5586, 2805,  160,  569,  414,  730,   33,   50]), top_probs=array([0.01138562, 0.00888763, 0.00741183, 0.0071848 , 0.0069909 ,\n",
      "       0.00649768, 0.00567925, 0.00555336, 0.00521505, 0.00498099],\n",
      "      dtype=float32), context=[17, 1334, 1989, 95, 17])\n",
      "\n",
      "\n",
      "DebugInfo(rank=tensor(68), prob=tensor(0.0011), idx=2711, top_idxs=array([2044,   13,   37,   30, 3202,   15,   16,   62,   33,   43]), top_probs=array([0.19552065, 0.0646693 , 0.03147399, 0.03082692, 0.02337117,\n",
      "       0.02273503, 0.02191736, 0.01925082, 0.01044917, 0.00942416],\n",
      "      dtype=float32), context=[1334, 1989, 95, 17, 12079])\n",
      "\n",
      "\n",
      "DebugInfo(rank=tensor(20), prob=tensor(0.0019), idx=465, top_idxs=array([ 13,  16,  15,  37,  30,  43, 132, 135,  10,  95]), top_probs=array([0.27114853, 0.2652549 , 0.07337006, 0.02975167, 0.01640913,\n",
      "       0.01520182, 0.01188542, 0.00972486, 0.00651058, 0.0058702 ],\n",
      "      dtype=float32), context=[1989, 95, 17, 12079, 2711])\n",
      "\n",
      "\n",
      "DebugInfo(rank=tensor(19), prob=tensor(0.0065), idx=229, top_idxs=array([ 17,  27, 527,  46,  37,  13,  43, 371,  16, 293]), top_probs=array([0.12252568, 0.04981814, 0.03415103, 0.02846647, 0.02393681,\n",
      "       0.02284337, 0.02266234, 0.01838524, 0.0118438 , 0.01171175],\n",
      "      dtype=float32), context=[95, 17, 12079, 2711, 465])\n",
      "\n",
      "\n",
      "DebugInfo(rank=tensor(1), prob=tensor(0.0849), idx=13, top_idxs=array([  16,   13,   37,   30,   15,   43, 1306,  155,   27,   17]), top_probs=array([0.2477091 , 0.0849427 , 0.03200436, 0.02537027, 0.02521674,\n",
      "       0.01752018, 0.00961525, 0.00890946, 0.00877688, 0.00819157],\n",
      "      dtype=float32), context=[17, 12079, 2711, 465, 229])\n",
      "\n",
      "\n",
      "DebugInfo(rank=tensor(4), prob=tensor(0.0279), idx=166, top_idxs=array([ 17,  37, 331,  27, 166, 527,  46,  74,  43, 123]), top_probs=array([0.14534955, 0.1171447 , 0.04450991, 0.02916657, 0.02794717,\n",
      "       0.02580378, 0.02169732, 0.01939412, 0.01751456, 0.01518302],\n",
      "      dtype=float32), context=[12079, 2711, 465, 229, 13])\n",
      "\n",
      "\n",
      "DebugInfo(rank=tensor(156), prob=tensor(0.0005), idx=369, top_idxs=array([ 17,  46, 135, 527,  13, 561,  27,  37, 715, 371]), top_probs=array([0.05810103, 0.05016251, 0.03990442, 0.03361642, 0.02437502,\n",
      "       0.01725672, 0.01609232, 0.01462506, 0.01365756, 0.01303586],\n",
      "      dtype=float32), context=[2711, 465, 229, 13, 166])\n",
      "\n",
      "\n",
      "DebugInfo(rank=tensor(67), prob=tensor(0.0014), idx=35, top_idxs=array([ 17,  27,  22, 155, 371,  13, 132, 135,  37,  46]), top_probs=array([0.05616656, 0.04021764, 0.03415008, 0.01768698, 0.01450217,\n",
      "       0.01079525, 0.00895952, 0.00715234, 0.00686168, 0.0060811 ],\n",
      "      dtype=float32), context=[465, 229, 13, 166, 369])\n",
      "\n",
      "\n",
      "DebugInfo(rank=tensor(0), prob=tensor(0.2377), idx=17, top_idxs=array([ 17,  27, 371,  37,  55,  13, 376,  62, 302,  85]), top_probs=array([0.23773016, 0.03966616, 0.01229239, 0.00884428, 0.00715905,\n",
      "       0.00651913, 0.00506172, 0.00469557, 0.00421998, 0.00404317],\n",
      "      dtype=float32), context=[229, 13, 166, 369, 35])\n",
      "\n",
      "\n",
      "DebugInfo(rank=tensor(27), prob=tensor(0.0022), idx=128, top_idxs=array([  60,  569,   50,  827, 1054,   33, 5586, 1334,  730, 4882]), top_probs=array([0.00902471, 0.00843356, 0.00596573, 0.00571191, 0.00557631,\n",
      "       0.0049171 , 0.00464788, 0.0044114 , 0.00427703, 0.0042652 ],\n",
      "      dtype=float32), context=[13, 166, 369, 35, 17])\n",
      "\n",
      "\n",
      "DebugInfo(rank=tensor(2041), prob=tensor(2.7459e-05), idx=14151, top_idxs=array([ 16,  13,  15,  37, 132,  22,  43,  62,  30,  10]), top_probs=array([0.15352437, 0.12722908, 0.12421737, 0.04639296, 0.03462159,\n",
      "       0.01905869, 0.01630357, 0.01387647, 0.0120162 , 0.01000935],\n",
      "      dtype=float32), context=[166, 369, 35, 17, 128])\n",
      "\n",
      "\n",
      "DebugInfo(rank=tensor(6), prob=tensor(0.0306), idx=132, top_idxs=array([ 13,  15,  22,  37,  43,  16, 132,  95, 135,  39]), top_probs=array([0.15082017, 0.14385502, 0.06110172, 0.05379941, 0.04141413,\n",
      "       0.03242137, 0.03063022, 0.01200427, 0.01194218, 0.01193804],\n",
      "      dtype=float32), context=[369, 35, 17, 128, 14151])\n",
      "\n",
      "\n",
      "DebugInfo(rank=tensor(4196), prob=tensor(2.4332e-05), idx=26009, top_idxs=array([13, 15, 60, 43, 37, 22, 17, 35, 27, 23]), top_probs=array([0.01299877, 0.01158806, 0.01118932, 0.00846523, 0.00741194,\n",
      "       0.00514258, 0.00499377, 0.0048415 , 0.00388024, 0.00346788],\n",
      "      dtype=float32), context=[35, 17, 128, 14151, 132])\n",
      "\n",
      "\n",
      "DebugInfo(rank=tensor(12), prob=tensor(0.0092), idx=19, top_idxs=array([ 15,  13,  37,  43,  22,  16,  23,  30, 135, 715]), top_probs=array([0.15753637, 0.11636694, 0.05830086, 0.03165232, 0.02831227,\n",
      "       0.02147665, 0.01829608, 0.0177784 , 0.01577874, 0.0140126 ],\n",
      "      dtype=float32), context=[17, 128, 14151, 132, 26009])\n",
      "\n",
      "\n",
      "DebugInfo(rank=tensor(0), prob=tensor(0.3092), idx=13, top_idxs=array([ 13,  15,  37,  43,  16,  22, 135,  26,   0,  95]), top_probs=array([0.30922076, 0.26241124, 0.09551135, 0.0379139 , 0.02949987,\n",
      "       0.01453623, 0.01284418, 0.01133386, 0.00886607, 0.00874877],\n",
      "      dtype=float32), context=[128, 14151, 132, 26009, 19])\n",
      "\n",
      "\n",
      "DebugInfo(rank=tensor(1804), prob=tensor(3.0777e-05), idx=291, top_idxs=array([ 37,  17, 331,  27, 123,  43, 166,  74,  23,  46]), top_probs=array([0.19110903, 0.06311358, 0.04028635, 0.02997567, 0.02117692,\n",
      "       0.01985597, 0.01632878, 0.01319397, 0.0124425 , 0.01164122],\n",
      "      dtype=float32), context=[14151, 132, 26009, 19, 13])\n",
      "\n",
      "\n",
      "DebugInfo(rank=tensor(11), prob=tensor(0.0124), idx=10, top_idxs=array([ 13,  37,  15,  43, 132,  22,  30,  95,  17,  16]), top_probs=array([0.11999686, 0.07274708, 0.0414172 , 0.03532591, 0.02951151,\n",
      "       0.02225796, 0.01625729, 0.01510052, 0.01498812, 0.0145662 ],\n",
      "      dtype=float32), context=[132, 26009, 19, 13, 291])\n",
      "\n",
      "\n",
      "DebugInfo(rank=tensor(1671), prob=tensor(7.2064e-05), idx=25994, top_idxs=array([1087,   16,   37,    7,   17, 1598, 2876,   13, 1441, 1516]), top_probs=array([0.01996021, 0.01652796, 0.01387781, 0.00904888, 0.00901651,\n",
      "       0.00808644, 0.00754826, 0.00726522, 0.00711652, 0.00707773],\n",
      "      dtype=float32), context=[26009, 19, 13, 291, 10])\n",
      "\n",
      "\n",
      "DebugInfo(rank=tensor(6), prob=tensor(0.0257), idx=3111, top_idxs=array([  19, 2047, 1306,  939,   13, 1308, 3111,    8,   43,   16]), top_probs=array([0.1757546 , 0.12139223, 0.10602478, 0.05464854, 0.0365226 ,\n",
      "       0.03228541, 0.02570443, 0.02412662, 0.0216623 , 0.01838576],\n",
      "      dtype=float32), context=[19, 13, 291, 10, 25994])\n",
      "\n",
      "\n",
      "DebugInfo(rank=tensor(0), prob=tensor(0.5648), idx=19, top_idxs=array([  19,   13,   10,   17,   23,   27,    7,   15, 2047, 1624]), top_probs=array([0.5648201 , 0.03226371, 0.0238963 , 0.00898754, 0.00763113,\n",
      "       0.00725335, 0.00598359, 0.00596079, 0.00576873, 0.00559158],\n",
      "      dtype=float32), context=[13, 291, 10, 25994, 3111])\n",
      "\n",
      "\n",
      "DebugInfo(rank=tensor(32), prob=tensor(0.0027), idx=90, top_idxs=array([  13,   15,   43,   37,   19,   16,    0, 2047,  293,   22]), top_probs=array([0.18191622, 0.11778844, 0.1021664 , 0.06605782, 0.0302318 ,\n",
      "       0.02596365, 0.02083106, 0.0203368 , 0.0169844 , 0.01617379],\n",
      "      dtype=float32), context=[291, 10, 25994, 3111, 19])\n",
      "\n",
      "\n",
      "DebugInfo(rank=tensor(307), prob=tensor(0.0002), idx=2362, top_idxs=array([ 17,  27,  19,  13,  15,  85,  37, 151, 371,  10]), top_probs=array([0.20233485, 0.08296318, 0.04394345, 0.02515173, 0.01761434,\n",
      "       0.01647089, 0.01384177, 0.01270689, 0.01238548, 0.01030308],\n",
      "      dtype=float32), context=[10, 25994, 3111, 19, 90])\n",
      "\n",
      "\n",
      "DebugInfo(rank=tensor(3), prob=tensor(0.0393), idx=16, top_idxs=array([ 15,  22,  13,  16,  27, 132,  43,  37,  10,  62]), top_probs=array([0.08375429, 0.04998532, 0.04633377, 0.03926271, 0.03342259,\n",
      "       0.02521352, 0.0238129 , 0.01644808, 0.01468393, 0.01302287],\n",
      "      dtype=float32), context=[25994, 3111, 19, 90, 2362])\n",
      "\n",
      "\n",
      "DebugInfo(rank=tensor(3), prob=tensor(0.0170), idx=55, top_idxs=array([ 17,  27, 371,  55, 376, 151, 509, 302, 331,  62]), top_probs=array([0.21210535, 0.03760611, 0.02647036, 0.0170214 , 0.01584467,\n",
      "       0.00908955, 0.00865937, 0.00786797, 0.0062621 , 0.00612824],\n",
      "      dtype=float32), context=[3111, 19, 90, 2362, 16])\n",
      "\n",
      "\n",
      "DebugInfo(rank=tensor(68810), prob=tensor(8.6645e-07), idx=34495, top_idxs=array([ 62,  10,  13,  15,  30,  37,  16, 132,  43, 542]), top_probs=array([0.02265723, 0.02168129, 0.01543865, 0.00957461, 0.008972  ,\n",
      "       0.00782624, 0.00749404, 0.00625928, 0.00602187, 0.00473391],\n",
      "      dtype=float32), context=[19, 90, 2362, 16, 55])\n",
      "\n",
      "\n",
      "DebugInfo(rank=tensor(0), prob=tensor(0.2026), idx=13, top_idxs=array([ 13,  15,  37,  43,  30, 132,  17, 135,  16,  95]), top_probs=array([0.20260412, 0.0931289 , 0.08153068, 0.04157494, 0.0286688 ,\n",
      "       0.02134802, 0.01762638, 0.01022262, 0.0094136 , 0.00891523],\n",
      "      dtype=float32), context=[90, 2362, 16, 55, 34495])\n",
      "\n",
      "\n",
      "DebugInfo(rank=tensor(45552), prob=tensor(1.9641e-06), idx=60892, top_idxs=array([ 37,  17, 166, 331,  27,  43,  62,  46, 380, 527]), top_probs=array([0.0778622 , 0.07105563, 0.02242307, 0.02092729, 0.02051156,\n",
      "       0.01998338, 0.01753587, 0.01467537, 0.01345938, 0.01252125],\n",
      "      dtype=float32), context=[2362, 16, 55, 34495, 13])\n",
      "\n",
      "\n",
      "DebugInfo(rank=tensor(24), prob=tensor(0.0053), idx=219, top_idxs=array([ 16,  13,  37,  43,  17,  15,  35,  22, 123,  10]), top_probs=array([0.10456285, 0.09773201, 0.06892377, 0.04873906, 0.03243132,\n",
      "       0.02242936, 0.0217255 , 0.01781636, 0.01723795, 0.01713872],\n",
      "      dtype=float32), context=[16, 55, 34495, 13, 60892])\n",
      "\n",
      "\n",
      "DebugInfo(rank=tensor(20), prob=tensor(0.0057), idx=371, top_idxs=array([715,  79,  13, 561,  37, 135,  17, 132,  15,  26]), top_probs=array([0.14883092, 0.0520262 , 0.04492605, 0.04185285, 0.035209  ,\n",
      "       0.03094736, 0.01903973, 0.01788324, 0.01320816, 0.01309047],\n",
      "      dtype=float32), context=[55, 34495, 13, 60892, 219])\n",
      "\n",
      "\n",
      "DebugInfo(rank=tensor(236), prob=tensor(0.0003), idx=915, top_idxs=array([  60,  542,   62,  155,   22, 1965, 2280, 2219,   43,   19]), top_probs=array([0.0572295 , 0.00846965, 0.00844688, 0.00836528, 0.00673676,\n",
      "       0.00568802, 0.00542937, 0.00531671, 0.00413293, 0.003831  ],\n",
      "      dtype=float32), context=[34495, 13, 60892, 219, 371])\n",
      "\n",
      "\n",
      "DebugInfo(rank=tensor(0), prob=tensor(0.1154), idx=15, top_idxs=array([ 15,  13,  22,  37,  16,  43, 132,  30, 123,  39]), top_probs=array([0.11539737, 0.09735548, 0.07961784, 0.06886212, 0.04002028,\n",
      "       0.02999116, 0.02798327, 0.01751092, 0.01426122, 0.01345643],\n",
      "      dtype=float32), context=[13, 60892, 219, 371, 915])\n",
      "\n",
      "\n",
      "DebugInfo(rank=tensor(10), prob=tensor(0.0108), idx=179, top_idxs=array([  0,  85, 788, 690, 327, 555, 139,  62, 127, 146]), top_probs=array([0.16302237, 0.13367528, 0.05832115, 0.03948687, 0.01651196,\n",
      "       0.01604125, 0.01516937, 0.01299648, 0.01178199, 0.01105563],\n",
      "      dtype=float32), context=[60892, 219, 371, 915, 15])\n",
      "\n",
      "\n",
      "DebugInfo(rank=tensor(73), prob=tensor(0.0006), idx=0, top_idxs=array([ 27,  13,  16,  17,  37,  43, 371,  22, 135,  15]), top_probs=array([0.13059428, 0.12755653, 0.11206022, 0.08426777, 0.02076825,\n",
      "       0.01994795, 0.01899781, 0.01785369, 0.01725597, 0.0146532 ],\n",
      "      dtype=float32), context=[219, 371, 915, 15, 179])\n",
      "\n",
      "\n"
     ]
    }
   ],
   "source": [
    "for di in debug_info:\n",
    "    print(di)\n",
    "    print(\"\\n\")"
   ]
  },
  {
   "cell_type": "markdown",
   "metadata": {},
   "source": [
    "Choosing the highest probability token is also not a good idea because these tend to be the most frequently used words regardless of the context."
   ]
  },
  {
   "cell_type": "code",
   "execution_count": 111,
   "metadata": {},
   "outputs": [
    {
     "name": "stdout",
     "output_type": "stream",
     "text": [
      "The first of the city , and the city of the game , and the city of the game , and the city of the game , and the city of the game , and the city of the game , and the city of the game , and the city of the game , and the city of the game , and the city of the game , and the city of the game , and the city of the game , and the city of the game , and the city of the game , and the city "
     ]
    }
   ],
   "source": [
    "text_idxs = []\n",
    "vocab = dataset.vocab\n",
    "eot_tok_idx = vocab.idx_of(EOT_TOKEN)\n",
    "context = [eot_tok_idx] * context_len\n",
    "predicted_idx = None\n",
    "with t.no_grad():\n",
    "    while predicted_idx != eot_tok_idx and len(text_idxs) < 100:\n",
    "        input = t.tensor(context).unsqueeze(0).to(lang_net.device)\n",
    "        logits = lang_net.model.forward(input)\n",
    "        probs = t.softmax(logits, 0)\n",
    "        \n",
    "        predicted_idx = t.argmax(probs).item()\n",
    "        word = vocab.word_at(predicted_idx)\n",
    "        print(word, end=\" \")\n",
    "\n",
    "        text_idxs.append(predicted_idx)\n",
    "        context = context[1:] + [predicted_idx]"
   ]
  },
  {
   "cell_type": "markdown",
   "metadata": {},
   "source": [
    "A good solution seems to be to sample from the top K tokens."
   ]
  },
  {
   "cell_type": "code",
   "execution_count": 136,
   "metadata": {},
   "outputs": [],
   "source": [
    "def predict(top_k):\n",
    "    text_idxs = []\n",
    "    vocab = dataset.vocab\n",
    "    eot_tok_idx = vocab.idx_of(EOT_TOKEN)\n",
    "    context = [eot_tok_idx] * context_len\n",
    "    predicted_idx = None\n",
    "    with t.no_grad():\n",
    "        while predicted_idx != eot_tok_idx and len(text_idxs) < 100:\n",
    "            input = t.tensor(context).unsqueeze(0).to(lang_net.device)\n",
    "            logits = lang_net.model.forward(input)\n",
    "            probs = t.softmax(logits, 0)\n",
    "            \n",
    "            vals, idxs = t.sort(probs, descending=True)\n",
    "            top_idxs = idxs.detach().numpy()[:top_k]\n",
    "            top_probs = vals.detach().numpy()[:top_k]\n",
    "            xx = t.multinomial(t.tensor(top_probs), 1)\n",
    "            predicted_idx = top_idxs[xx]\n",
    "            word = vocab.word_at(predicted_idx)\n",
    "            print(word, end=\" \")\n",
    "\n",
    "            text_idxs.append(predicted_idx)\n",
    "            context = context[1:] + [predicted_idx]"
   ]
  },
  {
   "cell_type": "code",
   "execution_count": 137,
   "metadata": {},
   "outputs": [
    {
     "name": "stdout",
     "output_type": "stream",
     "text": [
      "The song was a first of the second century , the first of a large in of the season of the United States , and the first of the episode . A , which he also his as a \" , the \" \" . \" is now in the \" of the end , which was one of the game , the song , and the episode , and has been a large and the album . <0> "
     ]
    }
   ],
   "source": [
    "predict(10)"
   ]
  },
  {
   "cell_type": "code",
   "execution_count": 138,
   "metadata": {},
   "outputs": [
    {
     "name": "stdout",
     "output_type": "stream",
     "text": [
      "At the same season . He has been a \" for \" a single \" \" , \" is to \" . The same and a new the end @-@ and the new , was the most . As , the second and the film of a few . <0> "
     ]
    }
   ],
   "source": [
    "predict(10)"
   ]
  },
  {
   "cell_type": "code",
   "execution_count": 139,
   "metadata": {},
   "outputs": [
    {
     "name": "stdout",
     "output_type": "stream",
     "text": [
      "\" ( 3 – 2 ) . The song was Hero by the group , it was similar to the old role , . The storm 's more the church . The family that \" was not a run @-@ in November species . In 8 between the time and has been with . <0> "
     ]
    }
   ],
   "source": [
    "predict(100)"
   ]
  },
  {
   "cell_type": "code",
   "execution_count": 140,
   "metadata": {},
   "outputs": [
    {
     "name": "stdout",
     "output_type": "stream",
     "text": [
      "At album , the north and its \" ) , an and his first in many was sent to the team day , but many a major , where him and the United with the second , which had been found in 2010 's third , and is a few of three in two and the state of the village of the following in which he of the National film . The show of the new system of 1 @,@ 10 's \" . There was not that the last video \" I could its \" and \" his \" "
     ]
    }
   ],
   "source": [
    "predict(50)"
   ]
  },
  {
   "cell_type": "code",
   "execution_count": 141,
   "metadata": {},
   "outputs": [
    {
     "name": "stdout",
     "output_type": "stream",
     "text": [
      "Later the greatest a was role as the Hurricane and originally considered , and an again to four eastern sense . The New York of an City being of 25 are end . According to the result was released prior to the Scientology . The food 's start of generally troops . It game that the woman above and than hours BBC - , she until 11 and due to the state of western @.@ and completed machine many of regions ( Church ) of America @-@ two main and point units to Indian Hall Carolina ( , but a "
     ]
    }
   ],
   "source": [
    "predict(1000)"
   ]
  },
  {
   "cell_type": "code",
   "execution_count": null,
   "metadata": {},
   "outputs": [],
   "source": []
  }
 ],
 "metadata": {
  "kernelspec": {
   "display_name": "ai",
   "language": "python",
   "name": "python3"
  },
  "language_info": {
   "codemirror_mode": {
    "name": "ipython",
    "version": 3
   },
   "file_extension": ".py",
   "mimetype": "text/x-python",
   "name": "python",
   "nbconvert_exporter": "python",
   "pygments_lexer": "ipython3",
   "version": "3.12.0"
  }
 },
 "nbformat": 4,
 "nbformat_minor": 2
}
